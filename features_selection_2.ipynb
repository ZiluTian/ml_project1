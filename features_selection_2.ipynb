{
 "cells": [
  {
   "cell_type": "code",
   "execution_count": 133,
   "metadata": {
    "scrolled": true
   },
   "outputs": [
    {
     "data": {
      "text/html": [
       "<div>\n",
       "<style scoped>\n",
       "    .dataframe tbody tr th:only-of-type {\n",
       "        vertical-align: middle;\n",
       "    }\n",
       "\n",
       "    .dataframe tbody tr th {\n",
       "        vertical-align: top;\n",
       "    }\n",
       "\n",
       "    .dataframe thead th {\n",
       "        text-align: right;\n",
       "    }\n",
       "</style>\n",
       "<table border=\"1\" class=\"dataframe\">\n",
       "  <thead>\n",
       "    <tr style=\"text-align: right;\">\n",
       "      <th></th>\n",
       "      <th>Id</th>\n",
       "      <th>Prediction</th>\n",
       "      <th>DER_mass_MMC</th>\n",
       "      <th>DER_mass_transverse_met_lep</th>\n",
       "      <th>DER_mass_vis</th>\n",
       "      <th>DER_pt_h</th>\n",
       "      <th>DER_deltaeta_jet_jet</th>\n",
       "      <th>DER_mass_jet_jet</th>\n",
       "      <th>DER_prodeta_jet_jet</th>\n",
       "      <th>DER_deltar_tau_lep</th>\n",
       "      <th>...</th>\n",
       "      <th>PRI_met_phi</th>\n",
       "      <th>PRI_met_sumet</th>\n",
       "      <th>PRI_jet_num</th>\n",
       "      <th>PRI_jet_leading_pt</th>\n",
       "      <th>PRI_jet_leading_eta</th>\n",
       "      <th>PRI_jet_leading_phi</th>\n",
       "      <th>PRI_jet_subleading_pt</th>\n",
       "      <th>PRI_jet_subleading_eta</th>\n",
       "      <th>PRI_jet_subleading_phi</th>\n",
       "      <th>PRI_jet_all_pt</th>\n",
       "    </tr>\n",
       "  </thead>\n",
       "  <tbody>\n",
       "    <tr>\n",
       "      <th>0</th>\n",
       "      <td>100000</td>\n",
       "      <td>1</td>\n",
       "      <td>0.257671</td>\n",
       "      <td>0.532835</td>\n",
       "      <td>0.474611</td>\n",
       "      <td>-1.093454</td>\n",
       "      <td>-0.870648</td>\n",
       "      <td>-0.632428</td>\n",
       "      <td>0.987313</td>\n",
       "      <td>1.378045</td>\n",
       "      <td>...</td>\n",
       "      <td>-0.156564</td>\n",
       "      <td>-0.542982</td>\n",
       "      <td>-0.660444</td>\n",
       "      <td>-0.578666</td>\n",
       "      <td>1.234399</td>\n",
       "      <td>0.251795</td>\n",
       "      <td>-0.367844</td>\n",
       "      <td>0.612965</td>\n",
       "      <td>-1.359329</td>\n",
       "      <td>-0.645152</td>\n",
       "    </tr>\n",
       "    <tr>\n",
       "      <th>1</th>\n",
       "      <td>100005</td>\n",
       "      <td>-1</td>\n",
       "      <td>-0.544388</td>\n",
       "      <td>-0.706350</td>\n",
       "      <td>-0.475044</td>\n",
       "      <td>0.064383</td>\n",
       "      <td>0.115251</td>\n",
       "      <td>-0.233525</td>\n",
       "      <td>0.094923</td>\n",
       "      <td>-0.819132</td>\n",
       "      <td>...</td>\n",
       "      <td>1.229416</td>\n",
       "      <td>-0.370559</td>\n",
       "      <td>1.514133</td>\n",
       "      <td>-0.239608</td>\n",
       "      <td>-1.377788</td>\n",
       "      <td>-0.354529</td>\n",
       "      <td>-0.054320</td>\n",
       "      <td>0.115912</td>\n",
       "      <td>1.711823</td>\n",
       "      <td>0.094961</td>\n",
       "    </tr>\n",
       "    <tr>\n",
       "      <th>2</th>\n",
       "      <td>100006</td>\n",
       "      <td>1</td>\n",
       "      <td>0.426952</td>\n",
       "      <td>-0.208400</td>\n",
       "      <td>0.719034</td>\n",
       "      <td>-0.069451</td>\n",
       "      <td>-0.971751</td>\n",
       "      <td>-0.548472</td>\n",
       "      <td>0.276686</td>\n",
       "      <td>1.219260</td>\n",
       "      <td>...</td>\n",
       "      <td>-0.799385</td>\n",
       "      <td>-0.290304</td>\n",
       "      <td>-0.660444</td>\n",
       "      <td>0.236631</td>\n",
       "      <td>0.498040</td>\n",
       "      <td>0.807823</td>\n",
       "      <td>-0.032535</td>\n",
       "      <td>0.070414</td>\n",
       "      <td>-1.520013</td>\n",
       "      <td>-0.032292</td>\n",
       "    </tr>\n",
       "    <tr>\n",
       "      <th>3</th>\n",
       "      <td>100011</td>\n",
       "      <td>-1</td>\n",
       "      <td>-0.132873</td>\n",
       "      <td>-0.812497</td>\n",
       "      <td>-0.068375</td>\n",
       "      <td>-1.056294</td>\n",
       "      <td>0.073553</td>\n",
       "      <td>-0.313332</td>\n",
       "      <td>-0.144736</td>\n",
       "      <td>1.150840</td>\n",
       "      <td>...</td>\n",
       "      <td>1.180350</td>\n",
       "      <td>-0.315521</td>\n",
       "      <td>1.514133</td>\n",
       "      <td>-0.441676</td>\n",
       "      <td>-0.449036</td>\n",
       "      <td>0.173863</td>\n",
       "      <td>-0.032256</td>\n",
       "      <td>0.873721</td>\n",
       "      <td>-1.141415</td>\n",
       "      <td>-0.163737</td>\n",
       "    </tr>\n",
       "    <tr>\n",
       "      <th>4</th>\n",
       "      <td>100023</td>\n",
       "      <td>1</td>\n",
       "      <td>0.307234</td>\n",
       "      <td>-1.123065</td>\n",
       "      <td>0.812311</td>\n",
       "      <td>0.820835</td>\n",
       "      <td>-0.273740</td>\n",
       "      <td>-0.034514</td>\n",
       "      <td>-0.011685</td>\n",
       "      <td>-0.853987</td>\n",
       "      <td>...</td>\n",
       "      <td>-0.540272</td>\n",
       "      <td>0.858731</td>\n",
       "      <td>-0.660444</td>\n",
       "      <td>1.300559</td>\n",
       "      <td>0.665238</td>\n",
       "      <td>0.789031</td>\n",
       "      <td>0.762212</td>\n",
       "      <td>-0.384076</td>\n",
       "      <td>-1.529918</td>\n",
       "      <td>0.873721</td>\n",
       "    </tr>\n",
       "  </tbody>\n",
       "</table>\n",
       "<p>5 rows × 32 columns</p>\n",
       "</div>"
      ],
      "text/plain": [
       "       Id  Prediction  DER_mass_MMC  DER_mass_transverse_met_lep  \\\n",
       "0  100000           1      0.257671                     0.532835   \n",
       "1  100005          -1     -0.544388                    -0.706350   \n",
       "2  100006           1      0.426952                    -0.208400   \n",
       "3  100011          -1     -0.132873                    -0.812497   \n",
       "4  100023           1      0.307234                    -1.123065   \n",
       "\n",
       "   DER_mass_vis  DER_pt_h  DER_deltaeta_jet_jet  DER_mass_jet_jet  \\\n",
       "0      0.474611 -1.093454             -0.870648         -0.632428   \n",
       "1     -0.475044  0.064383              0.115251         -0.233525   \n",
       "2      0.719034 -0.069451             -0.971751         -0.548472   \n",
       "3     -0.068375 -1.056294              0.073553         -0.313332   \n",
       "4      0.812311  0.820835             -0.273740         -0.034514   \n",
       "\n",
       "   DER_prodeta_jet_jet  DER_deltar_tau_lep       ...        PRI_met_phi  \\\n",
       "0             0.987313            1.378045       ...          -0.156564   \n",
       "1             0.094923           -0.819132       ...           1.229416   \n",
       "2             0.276686            1.219260       ...          -0.799385   \n",
       "3            -0.144736            1.150840       ...           1.180350   \n",
       "4            -0.011685           -0.853987       ...          -0.540272   \n",
       "\n",
       "   PRI_met_sumet  PRI_jet_num  PRI_jet_leading_pt  PRI_jet_leading_eta  \\\n",
       "0      -0.542982    -0.660444           -0.578666             1.234399   \n",
       "1      -0.370559     1.514133           -0.239608            -1.377788   \n",
       "2      -0.290304    -0.660444            0.236631             0.498040   \n",
       "3      -0.315521     1.514133           -0.441676            -0.449036   \n",
       "4       0.858731    -0.660444            1.300559             0.665238   \n",
       "\n",
       "   PRI_jet_leading_phi  PRI_jet_subleading_pt  PRI_jet_subleading_eta  \\\n",
       "0             0.251795              -0.367844                0.612965   \n",
       "1            -0.354529              -0.054320                0.115912   \n",
       "2             0.807823              -0.032535                0.070414   \n",
       "3             0.173863              -0.032256                0.873721   \n",
       "4             0.789031               0.762212               -0.384076   \n",
       "\n",
       "   PRI_jet_subleading_phi  PRI_jet_all_pt  \n",
       "0               -1.359329       -0.645152  \n",
       "1                1.711823        0.094961  \n",
       "2               -1.520013       -0.032292  \n",
       "3               -1.141415       -0.163737  \n",
       "4               -1.529918        0.873721  \n",
       "\n",
       "[5 rows x 32 columns]"
      ]
     },
     "execution_count": 133,
     "metadata": {},
     "output_type": "execute_result"
    }
   ],
   "source": [
    "import pandas as pd, matplotlib.pyplot as plt, pylab as pl, seaborn as sbs\n",
    "libPath = 'project1/scripts'\n",
    "import sys\n",
    "if not libPath in sys.path: sys.path.append(libPath)\n",
    "from implementations import *\n",
    "from proj1_helpers import *\n",
    "\n",
    "# Use clean data \n",
    "df = pd.read_csv(\"clean_train_data.csv\")\n",
    "y = df['Prediction'].values \n",
    "input_data = df.iloc[:,2:].values\n",
    "ids = df.iloc[:,0].values\n",
    "\n",
    "# Use subset of data\n",
    "y = y[::50]\n",
    "input_data = input_data[::50]\n",
    "ids = ids[::50]\n",
    "\n",
    "col_labels = df.columns\n",
    "df.head()"
   ]
  },
  {
   "cell_type": "code",
   "execution_count": 134,
   "metadata": {
    "scrolled": true
   },
   "outputs": [
    {
     "data": {
      "text/plain": [
       "1363"
      ]
     },
     "execution_count": 134,
     "metadata": {},
     "output_type": "execute_result"
    }
   ],
   "source": [
    "N_FEATURES = input_data.shape[1]\n",
    "N_DATA = len(input_data)\n",
    "N_DATA"
   ]
  },
  {
   "cell_type": "code",
   "execution_count": 135,
   "metadata": {},
   "outputs": [],
   "source": [
    "def build_k_indices(y, k_fold, seed):\n",
    "    \"\"\"build k indices for k-fold.\"\"\"\n",
    "    num_row = y.shape[0]\n",
    "    interval = int(num_row / k_fold)\n",
    "    np.random.seed(seed)\n",
    "    indices = np.random.permutation(num_row)\n",
    "    k_indices = [indices[k * interval: (k + 1) * interval]\n",
    "                 for k in range(k_fold)]\n",
    "    return np.array(k_indices)\n",
    "\n",
    "def cross_validation(y, x, k_indices, k, lambda_, degree):\n",
    "    \"\"\"return the loss of ridge regression.\"\"\"\n",
    "    # ***************************************************\n",
    "    y_te = y[k_indices[k]]    \n",
    "    x_te = x[k_indices[k]]\n",
    "    \n",
    "    y_tr = np.delete(y, k_indices[k], axis=0)\n",
    "    x_tr = np.delete(x, k_indices[k], axis=0)\n",
    "    # get k'th subgroup in test, others in train: TODO\n",
    "    # ***************************************************\n",
    "    Phi_tr = build_poly(x_tr, degree)\n",
    "    Phi_te = build_poly(x_te, degree)\n",
    "    # form data with polynomial degree: TODO\n",
    "    # ***************************************************\n",
    "    w, loss_tr = ridge_regression(y_tr, Phi_tr, lambda_)\n",
    "    # ridge regression: TODO\n",
    "    # ***************************************************\n",
    "    loss_te = compute_mse(y_te, Phi_te, w)\n",
    "    # calculate the loss for train and test data: TODO\n",
    "    # ***************************************************\n",
    "    return loss_tr, loss_te, w"
   ]
  },
  {
   "cell_type": "code",
   "execution_count": 136,
   "metadata": {
    "scrolled": false
   },
   "outputs": [],
   "source": [
    "# Do a linear regression with two parameters for each feature\n",
    "loss_vec = np.zeros(N_FEATURES)\n",
    "loss_te_vec = np.zeros(N_FEATURES)\n",
    "w_vec = np.zeros([N_FEATURES, 2])\n",
    "k_fold = 4\n",
    "\n",
    "# For each feature\n",
    "for i in np.arange(N_FEATURES):\n",
    "    x = input_data[:,i]\n",
    "    lmse_te = 0\n",
    "    lmse_tr = 0\n",
    "    w = np.zeros(2)\n",
    "    \n",
    "    k_indices = build_k_indices(y, k_fold, 1)\n",
    "    \n",
    "    for k in range(k_fold):\n",
    "        lmse_tr, lmse_te, w = cross_validation(y, x, k_indices, k, 0, 1)\n",
    "        lmse_tr = lmse_tr + lmse_tr/k_fold\n",
    "        lmse_te = lmse_te + lmse_te/k_fold\n",
    "        w = w + w/4  \n",
    "    tx = build_poly(x, 1)\n",
    "    y_test = tx @ w\n",
    "    y_test[y_test >= 0] = 1\n",
    "    y_test[y_test < 0] = -1\n",
    "    loss_te_vec[i] = (y - y_test) @ (y - y_test) "
   ]
  },
  {
   "cell_type": "code",
   "execution_count": 137,
   "metadata": {},
   "outputs": [
    {
     "data": {
      "text/plain": [
       "array([2640., 2068., 2640., 2256., 1856., 1932., 1824., 2700., 2232.,\n",
       "       2640., 2320., 2048., 1964., 2320., 2640., 2640., 2640., 2792.,\n",
       "       2640., 2408., 2624., 2656., 2356., 2632., 2640., 2640., 2640.,\n",
       "       2640., 2640., 2640.])"
      ]
     },
     "execution_count": 137,
     "metadata": {},
     "output_type": "execute_result"
    }
   ],
   "source": [
    "loss_te_vec"
   ]
  },
  {
   "cell_type": "code",
   "execution_count": 138,
   "metadata": {},
   "outputs": [
    {
     "name": "stdout",
     "output_type": "stream",
     "text": [
      "Index 6 DER_deltaeta_jet_jet\n"
     ]
    }
   ],
   "source": [
    "I = np.argmin(loss_te_vec)\n",
    "print('Index', I, col_labels[I])"
   ]
  },
  {
   "cell_type": "code",
   "execution_count": 139,
   "metadata": {
    "scrolled": false
   },
   "outputs": [
    {
     "data": {
      "text/plain": [
       "<matplotlib.collections.PathCollection at 0x1a35a0fba8>"
      ]
     },
     "execution_count": 139,
     "metadata": {},
     "output_type": "execute_result"
    },
    {
     "data": {
      "image/png": "[encoded data removed]",
      "text/plain": [
       "<Figure size 432x288 with 1 Axes>"
      ]
     },
     "metadata": {
      "needs_background": "light"
     },
     "output_type": "display_data"
    }
   ],
   "source": [
    "x = input_data[:,np.argmin(loss_te_vec)]\n",
    "\n",
    "k_indices = build_k_indices(y, k_fold, 1)\n",
    "\n",
    "for k in range(k_fold):\n",
    "    lmse_tr, lmse_te, w = cross_validation(y, x, k_indices, k, .1, 1)\n",
    "    lmse_tr = lmse_tr + lmse_tr/k_fold\n",
    "    lmse_te = lmse_te + lmse_te/k_fold\n",
    "    w = w + w/k_fold\n",
    "    \n",
    "tx = build_poly(x, 1)\n",
    "    \n",
    "y_test = tx @ w\n",
    "y_test[y_test >= 0] = 1\n",
    "y_test[y_test < 0] = -1\n",
    "\n",
    "plt.scatter(x,y)\n",
    "plt.scatter(x,y_test, marker='+')"
   ]
  },
  {
   "cell_type": "code",
   "execution_count": 140,
   "metadata": {},
   "outputs": [
    {
     "data": {
      "text/plain": [
       "array([-0.0700233 , -0.30752287])"
      ]
     },
     "execution_count": 140,
     "metadata": {},
     "output_type": "execute_result"
    }
   ],
   "source": [
    "w"
   ]
  },
  {
   "cell_type": "code",
   "execution_count": 141,
   "metadata": {
    "scrolled": false
   },
   "outputs": [
    {
     "name": "stdout",
     "output_type": "stream",
     "text": [
      "Index  0 : single feature loss 2640.0\n",
      "combined feature loss 0 1816.0\n",
      "Index  1 : single feature loss 2068.0\n",
      "combined feature loss 1 1912.0\n",
      "Index  2 : single feature loss 2640.0\n",
      "combined feature loss 2 1824.0\n",
      "Index  3 : single feature loss 2256.0\n",
      "combined feature loss 3 1724.0\n",
      "Index  4 : single feature loss 1856.0\n",
      "combined feature loss 4 1832.0\n",
      "Index  5 : single feature loss 1932.0\n",
      "combined feature loss 5 1888.0\n",
      "Index  7 : single feature loss 2700.0\n",
      "combined feature loss 7 1812.0\n",
      "Index  8 : single feature loss 2232.0\n",
      "combined feature loss 8 1868.0\n",
      "Index  9 : single feature loss 2640.0\n",
      "combined feature loss 9 1824.0\n",
      "Index  10 : single feature loss 2320.0\n",
      "combined feature loss 10 1856.0\n",
      "Index  11 : single feature loss 2048.0\n",
      "combined feature loss 11 1928.0\n",
      "Index  12 : single feature loss 1964.0\n",
      "combined feature loss 12 1880.0\n",
      "Index  13 : single feature loss 2320.0\n",
      "combined feature loss 13 1808.0\n",
      "Index  14 : single feature loss 2640.0\n",
      "combined feature loss 14 1832.0\n",
      "Index  15 : single feature loss 2640.0\n",
      "combined feature loss 15 1820.0\n",
      "Index  16 : single feature loss 2640.0\n",
      "combined feature loss 16 1816.0\n",
      "Index  17 : single feature loss 2792.0\n",
      "combined feature loss 17 1856.0\n",
      "Index  18 : single feature loss 2640.0\n",
      "combined feature loss 18 1832.0\n",
      "Index  19 : single feature loss 2408.0\n",
      "combined feature loss 19 1768.0\n",
      "Index  20 : single feature loss 2624.0\n",
      "combined feature loss 20 1836.0\n",
      "Index  21 : single feature loss 2656.0\n",
      "combined feature loss 21 1840.0\n",
      "Index  22 : single feature loss 2356.0\n",
      "combined feature loss 22 1912.0\n",
      "Index  23 : single feature loss 2632.0\n",
      "combined feature loss 23 1864.0\n",
      "Index  24 : single feature loss 2640.0\n",
      "combined feature loss 24 1832.0\n",
      "Index  25 : single feature loss 2640.0\n",
      "combined feature loss 25 1816.0\n",
      "Index  26 : single feature loss 2640.0\n",
      "combined feature loss 26 1824.0\n",
      "Index  27 : single feature loss 2640.0\n",
      "combined feature loss 27 1816.0\n",
      "Index  28 : single feature loss 2640.0\n",
      "combined feature loss 28 1840.0\n",
      "Index  29 : single feature loss 2640.0\n",
      "combined feature loss 29 1860.0\n"
     ]
    }
   ],
   "source": [
    "queue = np.delete(np.arange(N_FEATURES), I)\n",
    "x0 = input_data[:,I]\n",
    "lossls0=loss_te_vec[I]\n",
    "\n",
    "w_vec = np.zeros([N_FEATURES, 3])\n",
    "loss_tr_vec = np.zeros(N_FEATURES)\n",
    "loss_t_vec = np.zeros(N_FEATURES)\n",
    "\n",
    "\n",
    "for i in queue: \n",
    "    x = np.array([x0, input_data[:, i]]).T\n",
    "    print('Index ', i, ': single feature loss', loss_te_vec[i])\n",
    "    lmse_te = 0\n",
    "    lmse_tr = 0\n",
    "    w = np.zeros(3)\n",
    "    \n",
    "    k_indices = build_k_indices(y, k_fold, 1)\n",
    "    for k in range(k_fold):\n",
    "        lmse_tr, lmse_te, w = cross_validation(y, x, k_indices, k, .1, 1)\n",
    "        lmse_tr = lmse_tr + lmse_tr/k_fold\n",
    "        lmse_te = lmse_te + lmse_te/k_fold\n",
    "        w = w + w/k_fold\n",
    "        \n",
    "    tx = build_poly(x, 1)\n",
    "    y_test = tx @ w\n",
    "    y_test[y_test >= 0] = 1\n",
    "    y_test[y_test < 0] = -1\n",
    "    loss_t_vec[i] = (y - y_test) @ (y - y_test) \n",
    "    print('combined feature loss',i, loss_t_vec[i])\n",
    "    \n"
   ]
  },
  {
   "cell_type": "code",
   "execution_count": 142,
   "metadata": {},
   "outputs": [
    {
     "data": {
      "text/plain": [
       "3"
      ]
     },
     "execution_count": 142,
     "metadata": {},
     "output_type": "execute_result"
    }
   ],
   "source": [
    "loss_t_vec[I]=np.inf\n",
    "np.argmin(loss_t_vec)"
   ]
  },
  {
   "cell_type": "code",
   "execution_count": 143,
   "metadata": {
    "scrolled": false
   },
   "outputs": [
    {
     "data": {
      "image/png": "[encoded data removed]",
      "text/plain": [
       "<Figure size 432x288 with 1 Axes>"
      ]
     },
     "metadata": {
      "needs_background": "light"
     },
     "output_type": "display_data"
    }
   ],
   "source": [
    "plt.scatter(np.delete(loss_t_vec,I),np.delete(loss_te_vec,I))\n",
    "plt.xlabel('Two feature loss')\n",
    "plt.ylabel('Single feature loss')\n",
    "for i in np.arange(30):\n",
    "    if i!=I:\n",
    "        plt.annotate(i, (loss_t_vec[i], loss_te_vec[i]))\n",
    "plt.savefig('Figures/2featureloss.png')\n",
    "\n"
   ]
  },
  {
   "cell_type": "markdown",
   "metadata": {},
   "source": [
    "# Playing with polynomial degrees"
   ]
  },
  {
   "cell_type": "code",
   "execution_count": 56,
   "metadata": {},
   "outputs": [
    {
     "data": {
      "text/plain": [
       "array([ 1,  5,  8, 10, 11, 12, 13, 17, 22, 25])"
      ]
     },
     "execution_count": 56,
     "metadata": {},
     "output_type": "execute_result"
    }
   ],
   "source": [
    "features=np.array([1, 5, 8, 10, 11, 12, 13, 17, 22, 25])\n",
    "features"
   ]
  },
  {
   "cell_type": "code",
   "execution_count": 144,
   "metadata": {},
   "outputs": [],
   "source": [
    "x = input_data[:,features]\n",
    "lmse_te = 0\n",
    "lmse_tr = 0\n",
    "w = np.zeros(2)\n",
    "    \n",
    "k_indices = build_k_indices(y, k_fold, 1)\n",
    "    \n",
    "for k in range(k_fold):\n",
    "    lmse_tr, lmse_te, w = cross_validation(y, x, k_indices, k, 0, 1)\n",
    "    lmse_tr = lmse_tr + lmse_tr/k_fold\n",
    "    lmse_te = lmse_te + lmse_te/k_fold\n",
    "    w = w + w/4  \n",
    "tx = build_poly(x, 1)\n",
    "y_test = tx @ w\n",
    "y_test[y_test >= 0] = 1\n",
    "y_test[y_test < 0] = -1"
   ]
  },
  {
   "cell_type": "code",
   "execution_count": 146,
   "metadata": {},
   "outputs": [],
   "source": [
    "np.save('weights.npy',w)"
   ]
  }
 ],
 "metadata": {
  "kernelspec": {
   "display_name": "Python 3",
   "language": "python",
   "name": "python3"
  },
  "language_info": {
   "codemirror_mode": {
    "name": "ipython",
    "version": 3
   },
   "file_extension": ".py",
   "mimetype": "text/x-python",
   "name": "python",
   "nbconvert_exporter": "python",
   "pygments_lexer": "ipython3",
   "version": "3.7.0"
  }
 },
 "nbformat": 4,
 "nbformat_minor": 2
}
