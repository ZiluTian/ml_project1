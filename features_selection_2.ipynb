{
 "cells": [
  {
   "cell_type": "code",
   "execution_count": 317,
   "metadata": {
    "scrolled": true
   },
   "outputs": [],
   "source": [
    "import pandas as pd, matplotlib.pyplot as plt, pylab as pl, seaborn as sbs\n",
    "libPath = 'project1/scripts'\n",
    "import sys\n",
    "if not libPath in sys.path: sys.path.append(libPath)\n",
    "from implementations import *\n",
    "from proj1_helpers import *\n",
    "\n",
    "# Use a subset \n",
    "yb, input_data, ids = load_csv_data(\"clean_train_data_.csv\",True)\n",
    "input_data.shape\n",
    "\n",
    "df = pd.read_csv(\"clean_train_data_.csv\")\n",
    "col_labels = df.columns"
   ]
  },
  {
   "cell_type": "code",
   "execution_count": 318,
   "metadata": {},
   "outputs": [
    {
     "data": {
      "text/plain": [
       "1363"
      ]
     },
     "execution_count": 318,
     "metadata": {},
     "output_type": "execute_result"
    }
   ],
   "source": [
    "N_FEATURES = input_data.shape[1]\n",
    "N_DATA = len(input_data)\n",
    "N_DATA"
   ]
  },
  {
   "cell_type": "code",
   "execution_count": 319,
   "metadata": {
    "scrolled": false
   },
   "outputs": [],
   "source": [
    "y = yb\n",
    "loss_vec = np.zeros(N_FEATURES)\n",
    "loss_te_vec = np.zeros(N_FEATURES)\n",
    "w_vec = np.zeros([N_FEATURES, 2])\n",
    "\n",
    "\n",
    "for i in np.arange(N_FEATURES):\n",
    "    x = input_data[:,i]\n",
    "    \n",
    "    x_tr, y_tr, x_te, y_te = split_data(x ,y, 0.8)\n",
    "    \n",
    "    tx_tr = build_poly(x_tr, 1)\n",
    "    tx_te = build_poly(x_te, 1)\n",
    "\n",
    "    w_vec[i], loss_vec[i] = least_squares(y_tr, tx_tr)\n",
    "    \n",
    "    y_test = tx_te @ w_vec[i]\n",
    "    y_test[y_test >= 0] = 1\n",
    "    y_test[y_test < 0] = -1\n",
    "    loss_te_vec[i] = (y_te - y_test) @ (y_te - y_test) "
   ]
  },
  {
   "cell_type": "code",
   "execution_count": 320,
   "metadata": {},
   "outputs": [
    {
     "data": {
      "text/plain": [
       "array([544., 396., 544., 460., 348., 392., 360., 576., 416., 556., 480.,\n",
       "       404., 392., 504., 560., 544., 544., 564., 544., 464., 516., 548.,\n",
       "       508., 496., 544., 584., 544., 544., 544., 552.])"
      ]
     },
     "execution_count": 320,
     "metadata": {},
     "output_type": "execute_result"
    }
   ],
   "source": [
    "loss_te_vec"
   ]
  },
  {
   "cell_type": "code",
   "execution_count": 321,
   "metadata": {},
   "outputs": [
    {
     "data": {
      "text/plain": [
       "'DER_mass_vis'"
      ]
     },
     "execution_count": 321,
     "metadata": {},
     "output_type": "execute_result"
    }
   ],
   "source": [
    "I = np.argmin(loss_te_vec)\n",
    "col_labels[I]"
   ]
  },
  {
   "cell_type": "code",
   "execution_count": 322,
   "metadata": {
    "scrolled": true
   },
   "outputs": [
    {
     "data": {
      "text/plain": [
       "<matplotlib.collections.PathCollection at 0x1a349f9240>"
      ]
     },
     "execution_count": 322,
     "metadata": {},
     "output_type": "execute_result"
    },
    {
     "data": {
      "image/png": "[encoded data removed]",
      "text/plain": [
       "<Figure size 432x288 with 1 Axes>"
      ]
     },
     "metadata": {
      "needs_background": "light"
     },
     "output_type": "display_data"
    }
   ],
   "source": [
    "x = input_data[:,np.argmin(loss_te_vec)]\n",
    "\n",
    "tx_tr = build_poly(x_tr, 1)\n",
    "tx_te = build_poly(x_te, 1)\n",
    "x_tr, y_tr, x_te, y_te = split_data(x ,y, 0.8)\n",
    "\n",
    "y_test = tx_te @ w_vec[np.argmin(loss_te_vec) ]\n",
    "y_test[y_test >= 0] = 1\n",
    "y_test[y_test < 0] = -1\n",
    "\n",
    "plt.scatter(x_te,y_te)\n",
    "plt.scatter(x_te,y_test, marker='+')"
   ]
  },
  {
   "cell_type": "code",
   "execution_count": 323,
   "metadata": {},
   "outputs": [
    {
     "data": {
      "text/plain": [
       "array([-0.03920204,  0.30821897])"
      ]
     },
     "execution_count": 323,
     "metadata": {},
     "output_type": "execute_result"
    }
   ],
   "source": [
    "w_vec[np.argmin(loss_te_vec)]"
   ]
  },
  {
   "cell_type": "code",
   "execution_count": 324,
   "metadata": {
    "scrolled": false
   },
   "outputs": [
    {
     "name": "stdout",
     "output_type": "stream",
     "text": [
      "single feature loss 544.0\n",
      "combined feature loss 0 348.0\n",
      "single feature loss 396.0\n",
      "combined feature loss 1 408.0\n",
      "single feature loss 544.0\n",
      "combined feature loss 2 352.0\n",
      "single feature loss 460.0\n",
      "combined feature loss 3 360.0\n",
      "single feature loss 392.0\n",
      "combined feature loss 5 380.0\n",
      "single feature loss 360.0\n",
      "combined feature loss 6 348.0\n",
      "single feature loss 576.0\n",
      "combined feature loss 7 380.0\n",
      "single feature loss 416.0\n",
      "combined feature loss 8 360.0\n",
      "single feature loss 556.0\n",
      "combined feature loss 9 364.0\n",
      "single feature loss 480.0\n",
      "combined feature loss 10 360.0\n",
      "single feature loss 404.0\n",
      "combined feature loss 11 372.0\n",
      "single feature loss 392.0\n",
      "combined feature loss 12 372.0\n",
      "single feature loss 504.0\n",
      "combined feature loss 13 384.0\n",
      "single feature loss 560.0\n",
      "combined feature loss 14 344.0\n",
      "single feature loss 544.0\n",
      "combined feature loss 15 348.0\n",
      "single feature loss 544.0\n",
      "combined feature loss 16 356.0\n",
      "single feature loss 564.0\n",
      "combined feature loss 17 360.0\n",
      "single feature loss 544.0\n",
      "combined feature loss 18 348.0\n",
      "single feature loss 464.0\n",
      "combined feature loss 19 348.0\n",
      "single feature loss 516.0\n",
      "combined feature loss 20 360.0\n",
      "single feature loss 548.0\n",
      "combined feature loss 21 368.0\n",
      "single feature loss 508.0\n",
      "combined feature loss 22 392.0\n",
      "single feature loss 496.0\n",
      "combined feature loss 23 356.0\n",
      "single feature loss 544.0\n",
      "combined feature loss 24 348.0\n",
      "single feature loss 584.0\n",
      "combined feature loss 25 352.0\n",
      "single feature loss 544.0\n",
      "combined feature loss 26 360.0\n",
      "single feature loss 544.0\n",
      "combined feature loss 27 356.0\n",
      "single feature loss 544.0\n",
      "combined feature loss 28 352.0\n",
      "single feature loss 552.0\n",
      "combined feature loss 29 344.0\n"
     ]
    }
   ],
   "source": [
    "queue = np.delete(np.arange(N_FEATURES), I)\n",
    "x0 = input_data[:,I]\n",
    "lossls0=loss_te_vec[I]\n",
    "\n",
    "w_vec = np.zeros([N_FEATURES, 3])\n",
    "loss_tr_vec = np.zeros(N_FEATURES)\n",
    "loss_t_vec = np.zeros(N_FEATURES)\n",
    "\n",
    "\n",
    "for i in queue: \n",
    "    x = np.array([x0, input_data[:, i]]).T\n",
    "    print('single feature loss', loss_te_vec[i])\n",
    "    x_tr, y_tr, x_te, y_te = split_data(x ,y, 0.8)\n",
    "    \n",
    "    tx_tr = build_poly(x_tr, 1)\n",
    "    tx_te = build_poly(x_te, 1)\n",
    "    wls, lossls = least_squares(y_tr, tx_tr)\n",
    "    w_vec[i] = wls\n",
    "    loss_tr_vec[i] = lossls\n",
    "    \n",
    "    y_test = tx_te @ wls\n",
    "    y_test[y_test >= 0] = 1\n",
    "    y_test[y_test < 0] = -1\n",
    "    loss_te = (y_te - y_test) @ (y_te - y_test)\n",
    "    loss_t_vec[i] = loss_te\n",
    "    print('combined feature loss',i, loss_te)\n",
    "    lossls0 = loss_te\n",
    "    \n"
   ]
  },
  {
   "cell_type": "code",
   "execution_count": 325,
   "metadata": {},
   "outputs": [
    {
     "data": {
      "text/plain": [
       "(30,)"
      ]
     },
     "execution_count": 325,
     "metadata": {},
     "output_type": "execute_result"
    }
   ],
   "source": [
    "loss_t_vec.shape"
   ]
  },
  {
   "cell_type": "code",
   "execution_count": 326,
   "metadata": {
    "scrolled": false
   },
   "outputs": [
    {
     "data": {
      "image/png": "[encoded data removed]",
      "text/plain": [
       "<Figure size 432x288 with 1 Axes>"
      ]
     },
     "metadata": {
      "needs_background": "light"
     },
     "output_type": "display_data"
    }
   ],
   "source": [
    "plt.scatter(np.delete(loss_t_vec,I),np.delete(loss_te_vec,I))\n",
    "plt.xlabel('Two feature loss')\n",
    "plt.ylabel('Single feature loss')\n",
    "for i in np.arange(30):\n",
    "    if i!=I:\n",
    "        plt.annotate(i, (loss_t_vec[i], loss_te_vec[i]))\n",
    "plt.savefig('Figures/2featureloss.png')\n",
    "\n"
   ]
  },
  {
   "cell_type": "markdown",
   "metadata": {},
   "source": [
    "# Playing with polynomial degrees"
   ]
  },
  {
   "cell_type": "code",
   "execution_count": 327,
   "metadata": {},
   "outputs": [
    {
     "data": {
      "text/plain": [
       "array([ 1,  5,  8, 10, 11, 12, 13, 17, 22, 25])"
      ]
     },
     "execution_count": 327,
     "metadata": {},
     "output_type": "execute_result"
    }
   ],
   "source": [
    "features=np.array([2, 6, 9, 11, 12, 13, 14, 18, 23, 26])-1\n",
    "features"
   ]
  },
  {
   "cell_type": "code",
   "execution_count": 328,
   "metadata": {},
   "outputs": [
    {
     "name": "stdout",
     "output_type": "stream",
     "text": [
      "(67024, 21)\n",
      "[-0.00303091  0.0012667   0.00237914 -0.01283386 -0.00644692 -0.01648946\n",
      "  0.00627405  0.00710361  0.00871052 -0.01088669 -0.01239932 -0.00489731\n",
      " -0.01146651 -0.00249849 -0.01327878  0.00194507  0.00624168  0.00105915\n",
      " -0.00438408 -0.01232509  0.00755793]\n"
     ]
    },
    {
     "ename": "ValueError",
     "evalue": "operands could not be broadcast together with shapes (273,) (67024,) ",
     "output_type": "error",
     "traceback": [
      "\u001b[0;31m---------------------------------------------------------------------------\u001b[0m",
      "\u001b[0;31mValueError\u001b[0m                                Traceback (most recent call last)",
      "\u001b[0;32m<ipython-input-328-5ab94a5d49d7>\u001b[0m in \u001b[0;36m<module>\u001b[0;34m\u001b[0m\n\u001b[1;32m     10\u001b[0m \u001b[0my_test\u001b[0m\u001b[0;34m[\u001b[0m\u001b[0my_test\u001b[0m \u001b[0;34m>=\u001b[0m \u001b[0;36m0\u001b[0m\u001b[0;34m]\u001b[0m \u001b[0;34m=\u001b[0m \u001b[0;36m1\u001b[0m\u001b[0;34m\u001b[0m\u001b[0m\n\u001b[1;32m     11\u001b[0m \u001b[0my_test\u001b[0m\u001b[0;34m[\u001b[0m\u001b[0my_test\u001b[0m \u001b[0;34m<\u001b[0m \u001b[0;36m0\u001b[0m\u001b[0;34m]\u001b[0m \u001b[0;34m=\u001b[0m \u001b[0;34m-\u001b[0m\u001b[0;36m1\u001b[0m\u001b[0;34m\u001b[0m\u001b[0m\n\u001b[0;32m---> 12\u001b[0;31m \u001b[0mloss_te\u001b[0m \u001b[0;34m=\u001b[0m \u001b[0;34m(\u001b[0m\u001b[0my_te\u001b[0m \u001b[0;34m-\u001b[0m \u001b[0my_test\u001b[0m\u001b[0;34m)\u001b[0m \u001b[0;34m@\u001b[0m \u001b[0;34m(\u001b[0m\u001b[0my_te\u001b[0m \u001b[0;34m-\u001b[0m \u001b[0my_test\u001b[0m\u001b[0;34m)\u001b[0m\u001b[0;34m\u001b[0m\u001b[0m\n\u001b[0m\u001b[1;32m     13\u001b[0m \u001b[0mnp\u001b[0m\u001b[0;34m.\u001b[0m\u001b[0msave\u001b[0m\u001b[0;34m(\u001b[0m\u001b[0;34m'weights'\u001b[0m\u001b[0;34m,\u001b[0m \u001b[0mwls\u001b[0m\u001b[0;34m)\u001b[0m\u001b[0;34m\u001b[0m\u001b[0m\n\u001b[1;32m     14\u001b[0m \u001b[0mloss_te\u001b[0m\u001b[0;34m\u001b[0m\u001b[0m\n",
      "\u001b[0;31mValueError\u001b[0m: operands could not be broadcast together with shapes (273,) (67024,) "
     ]
    }
   ],
   "source": [
    "data=df.iloc[:,features+2].values\n",
    "x_tr, y_tr, x_te, y_te = split_data(data ,y, 0.8)\n",
    "    \n",
    "tx_tr = build_poly(x_tr, 2)\n",
    "tx_te = build_poly(x_te, 2)\n",
    "print(tx_te.shape)\n",
    "wls, lossls = ridge_regression(y_tr, tx_tr, .8)\n",
    "print(wls)\n",
    "y_test = tx_te @ wls\n",
    "y_test[y_test >= 0] = 1\n",
    "y_test[y_test < 0] = -1\n",
    "loss_te = (y_te - y_test) @ (y_te - y_test)\n",
    "np.save('weights', wls)\n",
    "loss_te"
   ]
  },
  {
   "cell_type": "code",
   "execution_count": null,
   "metadata": {},
   "outputs": [],
   "source": []
  }
 ],
 "metadata": {
  "kernelspec": {
   "display_name": "Python 3",
   "language": "python",
   "name": "python3"
  },
  "language_info": {
   "codemirror_mode": {
    "name": "ipython",
    "version": 3
   },
   "file_extension": ".py",
   "mimetype": "text/x-python",
   "name": "python",
   "nbconvert_exporter": "python",
   "pygments_lexer": "ipython3",
   "version": "3.7.0"
  }
 },
 "nbformat": 4,
 "nbformat_minor": 2
}
