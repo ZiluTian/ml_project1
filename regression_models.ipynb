{
 "cells": [
  {
   "cell_type": "code",
   "execution_count": 1,
   "metadata": {},
   "outputs": [],
   "source": [
    "import pandas as pd, numpy as np, matplotlib.pyplot as plt, pylab as pl, itertools as it\n",
    "libPath = 'project1/scripts'\n",
    "import sys\n",
    "if not libPath in sys.path: sys.path.append(libPath)\n",
    "from implementations import *\n",
    "from proj1_helpers import *"
   ]
  },
  {
   "cell_type": "markdown",
   "metadata": {},
   "source": [
    "# 1. Choosing a model"
   ]
  },
  {
   "cell_type": "markdown",
   "metadata": {},
   "source": [
    "## 1.1. 1st order simple polynomial"
   ]
  },
  {
   "cell_type": "markdown",
   "metadata": {},
   "source": [
    "Simple linear model:\n",
    "$y = w_1x_1+\\dots + w_nx_n$"
   ]
  },
  {
   "cell_type": "markdown",
   "metadata": {},
   "source": [
    "Import, clean and standardize data:"
   ]
  },
  {
   "cell_type": "code",
   "execution_count": 2,
   "metadata": {},
   "outputs": [
    {
     "name": "stdout",
     "output_type": "stream",
     "text": [
      "Size of output array:  (250000,)\n",
      "Size of input matrix:  (250000, 30)\n",
      "Size of ids array:  (250000,)\n"
     ]
    }
   ],
   "source": [
    "y, inputs, ids = load_clean_csv(\"train.csv\", False, 'avg')\n",
    "print('Size of output array: ', y.shape)\n",
    "print('Size of input matrix: ', inputs.shape)\n",
    "print('Size of ids array: ', ids.shape)"
   ]
  },
  {
   "cell_type": "code",
   "execution_count": 3,
   "metadata": {},
   "outputs": [],
   "source": [
    "feature_cols = [1, 3, 4, 8, 10, 11, 12, 13, 22]\n",
    "# feature_cols = [0, 1, 2, 7, 10, 11, 13, 19]\n",
    "N_VALID_FEATURES = len(feature_cols)\n",
    "N_FEATURES = inputs.shape[1]\n",
    "N_DATA = len(inputs)"
   ]
  },
  {
   "cell_type": "markdown",
   "metadata": {},
   "source": [
    "Check if output array contains only +-1:"
   ]
  },
  {
   "cell_type": "code",
   "execution_count": 4,
   "metadata": {},
   "outputs": [
    {
     "name": "stdout",
     "output_type": "stream",
     "text": [
      "Output data contains only +1 or -1? True\n"
     ]
    }
   ],
   "source": [
    "print('Output data contains only +1 or -1?', all(np.bitwise_or(y==1, y==-1)))"
   ]
  },
  {
   "cell_type": "markdown",
   "metadata": {},
   "source": [
    "Check if data is standardized:"
   ]
  },
  {
   "cell_type": "code",
   "execution_count": 5,
   "metadata": {},
   "outputs": [
    {
     "name": "stdout",
     "output_type": "stream",
     "text": [
      "Is the mean zero?:  True\n",
      "Is the standard deviation equal to 1?:  True\n"
     ]
    }
   ],
   "source": [
    "print(\"Is the mean zero?: \", np.allclose(np.mean(inputs,0), 0, 1e-5))\n",
    "print(\"Is the standard deviation equal to 1?: \", np.allclose(np.std(inputs,0),1, 1e-5))"
   ]
  },
  {
   "cell_type": "markdown",
   "metadata": {},
   "source": [
    "Functions for k-fold cross validation:"
   ]
  },
  {
   "cell_type": "code",
   "execution_count": 6,
   "metadata": {},
   "outputs": [],
   "source": [
    "def build_k_indices(y, k_fold, seed):\n",
    "    \"\"\"build k indices for k-fold.\"\"\"\n",
    "    num_row = y.shape[0]\n",
    "    interval = int(num_row / k_fold)\n",
    "    np.random.seed(seed)\n",
    "    indices = np.random.permutation(num_row)\n",
    "    k_indices = [indices[k * interval: (k + 1) * interval]\n",
    "                 for k in range(k_fold)]\n",
    "    return np.array(k_indices)\n",
    "\n",
    "def cross_validation(y, tx, k_indices, k, lambda_, degree):\n",
    "    \"\"\"return the loss of ridge regression.\"\"\"\n",
    "    # ***************************************************\n",
    "    y_te = y[k_indices[k]]    \n",
    "    tx_te = tx[k_indices[k]]\n",
    "    \n",
    "    y_tr = np.delete(y, k_indices[k], axis=0)\n",
    "    tx_tr = np.delete(tx, k_indices[k], axis=0)\n",
    "    # ***************************************************\n",
    "    w, loss_tr = ridge_regression(y_tr, tx_tr, lambda_)\n",
    "    # ***************************************************\n",
    "    loss_te = compute_mse(y_te, tx_te, w)\n",
    "    loss_tr = compute_mse(y_tr, tx_tr, w)\n",
    "    # ***************************************************\n",
    "    return loss_tr, loss_te, w\n",
    "\n",
    "def build_poly(x, degree):\n",
    "    \"\"\"Polynomial basis functions for input data x, for j=0 up to j=degree.\"\"\"\n",
    "    poly = np.ones((len(x), 1))\n",
    "    for deg in range(1, degree+1):\n",
    "        poly = np.c_[poly, np.power(x, deg)]\n",
    "    return poly"
   ]
  },
  {
   "cell_type": "markdown",
   "metadata": {},
   "source": [
    "Algorithm:\n",
    "\n",
    "Step 1. Build a polynomial base of degree N from the important feature columns;\n",
    "\n",
    "Step 2. Build the hyperparameter $\\lambda$ array;\n",
    "\n",
    "Step 3. Build the k-fold indexes used to split the data in k sets;\n",
    "\n",
    "Step 4. Sweep through the hyperparameter array: for each $\\lambda$, train the dataset using cross validation.\n",
    "\n",
    "Step 5. Average the RMSE for training and test sets.\n"
   ]
  },
  {
   "cell_type": "code",
   "execution_count": 7,
   "metadata": {},
   "outputs": [
    {
     "name": "stdout",
     "output_type": "stream",
     "text": [
      "Number of variables:  10\n"
     ]
    }
   ],
   "source": [
    "# Setting the input data, the degree and the number of partitions\n",
    "x = inputs[:, feature_cols]\n",
    "degree = 1\n",
    "k_fold = 4\n",
    "\n",
    "# Step 1\n",
    "tx = build_poly(x, degree)\n",
    "print('Number of variables: ', tx.shape[1])\n",
    "# Step 2\n",
    "lambdas = np.logspace(-4, 0, 30)\n",
    "\n",
    "# Step 3\n",
    "k_indices = build_k_indices(y, k_fold, 1)\n",
    "\n",
    "rmse_tr = []\n",
    "rmse_te = []\n",
    "for l in lambdas:\n",
    "    rmse_tr_tmp = []\n",
    "    rmse_te_tmp = []\n",
    "    for k in range(k_fold):\n",
    "        loss_tr, loss_te, w = cross_validation(y, tx, k_indices, k, l, degree)\n",
    "        rmse_tr_tmp.append(loss_tr)\n",
    "        rmse_te_tmp.append(loss_te)\n",
    "    rmse_tr.append(np.mean(np.sqrt(2*rmse_tr_tmp)))\n",
    "    rmse_te.append(np.mean(np.sqrt(2*rmse_te_tmp)))\n"
   ]
  },
  {
   "cell_type": "markdown",
   "metadata": {},
   "source": [
    "Plot results across the hyperparameters:"
   ]
  },
  {
   "cell_type": "code",
   "execution_count": 8,
   "metadata": {},
   "outputs": [
    {
     "data": {
      "image/png": "[encoded data removed]",
      "text/plain": [
       "<Figure size 432x288 with 1 Axes>"
      ]
     },
     "metadata": {},
     "output_type": "display_data"
    }
   ],
   "source": [
    "plt.semilogx(lambdas, rmse_tr, marker=\".\", color='b', label='train error')\n",
    "plt.semilogx(lambdas, rmse_te, marker=\".\", color='r', label='test error')\n",
    "plt.xlabel(\"lambda\")\n",
    "plt.ylabel(\"rmse\")\n",
    "plt.title(\"cross validation\")\n",
    "plt.legend(loc=2)\n",
    "plt.grid(True)"
   ]
  },
  {
   "cell_type": "markdown",
   "metadata": {},
   "source": [
    "Optimal $\\lambda$:"
   ]
  },
  {
   "cell_type": "code",
   "execution_count": 9,
   "metadata": {},
   "outputs": [
    {
     "data": {
      "text/plain": [
       "0.0004893900918477494"
      ]
     },
     "execution_count": 9,
     "metadata": {},
     "output_type": "execute_result"
    }
   ],
   "source": [
    "lambdas[np.argmin(rmse_te)]"
   ]
  },
  {
   "cell_type": "markdown",
   "metadata": {},
   "source": [
    "Using the optimal $\\lambda$, obtain the weights with half the training data:"
   ]
  },
  {
   "cell_type": "code",
   "execution_count": 10,
   "metadata": {},
   "outputs": [],
   "source": [
    "x_TEST = inputs[:,feature_cols]\n",
    "x_train, y_train, x_test, y_test = split_data(x_TEST, y, 0.5)\n",
    "\n",
    "tx_train = build_poly(x_train, degree)\n",
    "tx_test = build_poly(x_test, degree)\n",
    "\n",
    "\n",
    "weights, mse = ridge_regression(y_train, tx_train, lambdas[np.argmin(rmse_te)])"
   ]
  },
  {
   "cell_type": "code",
   "execution_count": 11,
   "metadata": {
    "scrolled": true
   },
   "outputs": [
    {
     "data": {
      "text/plain": [
       "array([-0.31466101, -0.23588271, -0.00701623,  0.09970047, -0.0379914 ,\n",
       "       -0.00835838,  0.13690117,  0.0724781 ,  0.16544714,  0.00423166])"
      ]
     },
     "execution_count": 11,
     "metadata": {},
     "output_type": "execute_result"
    }
   ],
   "source": [
    "weights"
   ]
  },
  {
   "cell_type": "code",
   "execution_count": 12,
   "metadata": {},
   "outputs": [
    {
     "name": "stdout",
     "output_type": "stream",
     "text": [
      "Total correct: 90549.0 \n",
      "Total incorrect: 34451.0 \n",
      "Correct percentage: 72.4392 %\n",
      "-----------------------------\n",
      "Train RMSE: 0.8484267683678935 , Test RMSE: 0.8473716067764123\n"
     ]
    }
   ],
   "source": [
    "y_pred = predict_labels(weights, tx_test)\n",
    "\n",
    "compute_score(y_test, y_pred)\n",
    "\n",
    "rmse_train = np.sqrt(2*compute_mse(y_train, tx_train, weights))\n",
    "rmse_test = np.sqrt(2*compute_mse(y_test, tx_test, weights))\n",
    "print(\"Train RMSE:\", rmse_train, \", Test RMSE:\", rmse_test)\n"
   ]
  },
  {
   "cell_type": "markdown",
   "metadata": {},
   "source": [
    "## 1.2. N-th order simple polynomial"
   ]
  },
  {
   "cell_type": "markdown",
   "metadata": {},
   "source": [
    "4-th order linear model:\n",
    "$y = w_0+w_1x_1+\\dots+ w_4x_1^4 +\\dots + w_nx_2^4$"
   ]
  },
  {
   "cell_type": "code",
   "execution_count": 13,
   "metadata": {},
   "outputs": [
    {
     "name": "stdout",
     "output_type": "stream",
     "text": [
      "Number of variables:  37\n"
     ]
    }
   ],
   "source": [
    "# Setting the input data, the degree and the number of partitions\n",
    "x = inputs[:,feature_cols]\n",
    "degree = 4\n",
    "k_fold = 4\n",
    "\n",
    "# Step 1\n",
    "tx = build_poly(x, degree)\n",
    "print('Number of variables: ', tx.shape[1])\n",
    "# Step 2\n",
    "lambdas = np.logspace(-4, 0, 30)\n",
    "\n",
    "# Step 3\n",
    "k_indices = build_k_indices(y, k_fold, 1)\n",
    "\n",
    "rmse_tr = []\n",
    "rmse_te = []\n",
    "for l in lambdas:\n",
    "    rmse_tr_tmp = []\n",
    "    rmse_te_tmp = []\n",
    "    for k in range(k_fold):\n",
    "        loss_tr, loss_te, w = cross_validation(y, tx, k_indices, k, l, degree)\n",
    "        rmse_tr_tmp.append(loss_tr)\n",
    "        rmse_te_tmp.append(loss_te)\n",
    "    rmse_tr.append(np.mean(np.sqrt(2*rmse_tr_tmp)))\n",
    "    rmse_te.append(np.mean(np.sqrt(2*rmse_te_tmp)))\n"
   ]
  },
  {
   "cell_type": "markdown",
   "metadata": {},
   "source": [
    "Plot results across the hyperparameters:"
   ]
  },
  {
   "cell_type": "code",
   "execution_count": 14,
   "metadata": {
    "scrolled": false
   },
   "outputs": [
    {
     "data": {
      "image/png": "[encoded data removed]",
      "text/plain": [
       "<Figure size 432x288 with 1 Axes>"
      ]
     },
     "metadata": {},
     "output_type": "display_data"
    }
   ],
   "source": [
    "plt.semilogx(lambdas, rmse_tr, marker=\".\", color='b', label='train error')\n",
    "plt.semilogx(lambdas, rmse_te, marker=\".\", color='r', label='test error')\n",
    "plt.xlabel(\"lambda\")\n",
    "plt.ylabel(\"rmse\")\n",
    "plt.title(\"cross validation\")\n",
    "plt.legend(loc=2)\n",
    "plt.grid(True)"
   ]
  },
  {
   "cell_type": "markdown",
   "metadata": {},
   "source": [
    "Optimal $\\lambda$:"
   ]
  },
  {
   "cell_type": "code",
   "execution_count": 15,
   "metadata": {
    "scrolled": true
   },
   "outputs": [
    {
     "data": {
      "text/plain": [
       "0.0001"
      ]
     },
     "execution_count": 15,
     "metadata": {},
     "output_type": "execute_result"
    }
   ],
   "source": [
    "lambdas[np.argmin(rmse_te)]"
   ]
  },
  {
   "cell_type": "code",
   "execution_count": 16,
   "metadata": {},
   "outputs": [],
   "source": [
    "x_TEST = inputs[:,feature_cols]\n",
    "x_train, y_train, x_test, y_test = split_data(x_TEST, y, 0.5)\n",
    "\n",
    "tx_train = build_poly(x_train, degree)\n",
    "tx_test = build_poly(x_test, degree)\n",
    "\n",
    "weights, mse = ridge_regression(y_train, tx_train, lambdas[np.argmin(rmse_te)])"
   ]
  },
  {
   "cell_type": "code",
   "execution_count": 17,
   "metadata": {
    "scrolled": true
   },
   "outputs": [
    {
     "name": "stdout",
     "output_type": "stream",
     "text": [
      "Total correct: 93778.0 \n",
      "Total incorrect: 31222.0 \n",
      "Correct percentage: 75.0224 %\n",
      "-----------------------------\n",
      "Train RMSE: 0.8167840166132061 , Test RMSE: 4.605220249380274\n"
     ]
    }
   ],
   "source": [
    "y_pred = predict_labels(weights, tx_test)\n",
    "\n",
    "compute_score(y_test, y_pred)\n",
    "\n",
    "rmse_train = np.sqrt(2*compute_mse(y_train, tx_train, weights))\n",
    "rmse_test = np.sqrt(2*compute_mse(y_test, tx_test, weights))\n",
    "print(\"Train RMSE:\", rmse_train, \", Test RMSE:\", rmse_test)\n",
    "\n"
   ]
  },
  {
   "cell_type": "markdown",
   "metadata": {},
   "source": [
    "## 1.3. A more complicated model"
   ]
  },
  {
   "cell_type": "markdown",
   "metadata": {},
   "source": [
    "For example, order 2:\n",
    "$y=w_0 + w_1x_1 + w_2x_2 +w_3x_1^2 +w_4x_2^2+w_5x_1x_2+\\dots$"
   ]
  },
  {
   "cell_type": "markdown",
   "metadata": {},
   "source": [
    "First, let's redefine the build_poly function for a complete combination of features: "
   ]
  },
  {
   "cell_type": "code",
   "execution_count": 93,
   "metadata": {},
   "outputs": [],
   "source": [
    "def build_poly_plus(x, degree):\n",
    "    \"\"\"\n",
    "    Builds polynomial basis function of a certain degree combining all features.\n",
    "    \"\"\"\n",
    "    poly = np.ones((len(x), 1))\n",
    "\n",
    "    for deg in range(1, degree+1):\n",
    "        print(deg)\n",
    "        if deg == 1:\n",
    "            poly = np.c_[poly, x]\n",
    "        else:\n",
    "            for i in it.combinations_with_replacement(range(x.shape[1]),deg):\n",
    "                poly = np.c_[poly, np.prod(x[:,i],1)]\n",
    "    return poly"
   ]
  },
  {
   "cell_type": "code",
   "execution_count": 70,
   "metadata": {},
   "outputs": [],
   "source": [
    "# import itertools\n",
    "\n",
    "# # TODO: Optimize. Very slow!\n",
    "# def build_mult_comb(tx, deg, cols=[]):\n",
    "#     \"\"\"\n",
    "#     Returns all multiplicative combinations of the specified columns for degree deg.\n",
    "#     For len(col) = D', there are (D' choose deg) combinations of columns that get\n",
    "#     returned as a matrix.\n",
    "#     If cols is not given, it returns the combinations of all columns of tx.\n",
    "#     \"\"\"\n",
    "#     N = tx.shape[0]\n",
    "#     if (cols == []):\n",
    "#         comb_iter = itertools.combinations_with_replacement(range(tx.shape[1]), deg)\n",
    "#     else:\n",
    "#         comb_iter = itertools.combinations_with_replacement(cols, deg)\n",
    "#     mult = []\n",
    "#     for comb in comb_iter:\n",
    "#         mult_col = np.ones(N)\n",
    "#         for idx in comb:\n",
    "#             tx_col = tx[:,idx]\n",
    "#             mult_col = np.multiply(mult_col, tx_col)\n",
    "#         mult.append(mult_col.tolist())\n",
    "#     return np.array(mult).T\n",
    "\n",
    "# def build_poly_adv(tx, degree, cols=[]):\n",
    "#     \"\"\"\n",
    "#     Builds full polynomial basis function for input data matrix tx, for j=0 up to j=degree,\n",
    "#     where the result will be a matrix of form:\n",
    "#     [1, tx, comb_mult(tx, 2), ..., comb_mult(tx, j)]\n",
    "#     comb_mult(tx, 2) denotes all multiplicative combinations of the selected columns of tx.\n",
    "#     If cols is not given, it returns the combinations of all columns of tx.\n",
    "#     \"\"\"\n",
    "#     poly = np.ones((tx.shape[0], 1))\n",
    "\n",
    "#     for j in range(1, degree+1):\n",
    "#         mult = build_mult_comb(tx, j, cols)\n",
    "#         poly = np.column_stack((poly, mult))\n",
    "\n",
    "#     return poly"
   ]
  },
  {
   "cell_type": "code",
   "execution_count": 105,
   "metadata": {
    "scrolled": true
   },
   "outputs": [],
   "source": [
    "# Load input data, choose degree and partition number\n",
    "x = inputs[:,feature_cols]\n",
    "degree = 4\n",
    "k_fold = 4"
   ]
  },
  {
   "cell_type": "code",
   "execution_count": 106,
   "metadata": {},
   "outputs": [
    {
     "name": "stdout",
     "output_type": "stream",
     "text": [
      "1\n",
      "2\n",
      "3\n",
      "4\n",
      "Number of variables:  715\n"
     ]
    }
   ],
   "source": [
    "# Step 1\n",
    "tx = build_poly_plus(x, degree)\n",
    "print('Number of variables: ', tx.shape[1])"
   ]
  },
  {
   "cell_type": "code",
   "execution_count": 107,
   "metadata": {
    "scrolled": true
   },
   "outputs": [
    {
     "name": "stdout",
     "output_type": "stream",
     "text": [
      "lambda=0.000010000, Training RMSE=0.786, Testing RMSE=42.037\n",
      "lambda=0.000018330, Training RMSE=0.786, Testing RMSE=42.041\n",
      "lambda=0.000033598, Training RMSE=0.786, Testing RMSE=42.048\n",
      "lambda=0.000061585, Training RMSE=0.786, Testing RMSE=42.057\n",
      "lambda=0.000112884, Training RMSE=0.786, Testing RMSE=42.061\n",
      "lambda=0.000206914, Training RMSE=0.786, Testing RMSE=42.033\n",
      "lambda=0.000379269, Training RMSE=0.786, Testing RMSE=41.883\n",
      "lambda=0.000695193, Training RMSE=0.786, Testing RMSE=41.366\n",
      "lambda=0.001274275, Training RMSE=0.786, Testing RMSE=39.925\n",
      "lambda=0.002335721, Training RMSE=0.787, Testing RMSE=36.500\n",
      "lambda=0.004281332, Training RMSE=0.787, Testing RMSE=29.272\n",
      "lambda=0.007847600, Training RMSE=0.788, Testing RMSE=15.544\n",
      "lambda=0.014384499, Training RMSE=0.790, Testing RMSE=7.963\n",
      "lambda=0.026366509, Training RMSE=0.792, Testing RMSE=42.119\n",
      "lambda=0.048329302, Training RMSE=0.796, Testing RMSE=84.262\n",
      "lambda=0.088586679, Training RMSE=0.801, Testing RMSE=125.412\n",
      "lambda=0.162377674, Training RMSE=0.807, Testing RMSE=154.706\n",
      "lambda=0.297635144, Training RMSE=0.815, Testing RMSE=166.696\n",
      "lambda=0.545559478, Training RMSE=0.824, Testing RMSE=164.343\n",
      "lambda=1.000000000, Training RMSE=0.836, Testing RMSE=154.612\n"
     ]
    }
   ],
   "source": [
    "# Step 2\n",
    "lambdas = np.logspace(-5, 0, 20)\n",
    "\n",
    "# Step 3\n",
    "k_indices = build_k_indices(y, k_fold, 1)\n",
    "\n",
    "rmse_tr = []\n",
    "rmse_te = []\n",
    "for l in lambdas:\n",
    "    rmse_tr_tmp = []\n",
    "    rmse_te_tmp = []\n",
    "    for k in range(k_fold):\n",
    "        loss_tr, loss_te, w = cross_validation(y, tx, k_indices, k, l, degree)\n",
    "        rmse_tr_tmp.append(loss_tr)\n",
    "        rmse_te_tmp.append(loss_te)\n",
    "    rmse_tr.append(np.sqrt(2*np.mean(rmse_tr_tmp)))\n",
    "    rmse_te.append(np.sqrt(2*np.mean(rmse_te_tmp)))\n",
    "    print(\"lambda={la:.9f}, Training RMSE={tr:.3f}, Testing RMSE={te:.3f}\".format(\n",
    "               la=l, tr=rmse_tr[-1], te=rmse_te[-1]))\n"
   ]
  },
  {
   "cell_type": "markdown",
   "metadata": {},
   "source": [
    "Plot results across the hyperparameters:"
   ]
  },
  {
   "cell_type": "code",
   "execution_count": 108,
   "metadata": {
    "scrolled": true
   },
   "outputs": [
    {
     "data": {
      "image/png": "[encoded data removed]",
      "text/plain": [
       "<Figure size 432x288 with 1 Axes>"
      ]
     },
     "metadata": {},
     "output_type": "display_data"
    }
   ],
   "source": [
    "plt.semilogx(lambdas, rmse_tr, marker=\".\", color='b', label='train error')\n",
    "plt.semilogx(lambdas, rmse_te, marker=\".\", color='r', label='test error')\n",
    "plt.xlabel(\"lambda\")\n",
    "plt.ylabel(\"rmse\")\n",
    "plt.title(\"cross validation\")\n",
    "plt.legend(loc=2)\n",
    "plt.grid(True)"
   ]
  },
  {
   "cell_type": "markdown",
   "metadata": {},
   "source": [
    "Optimal $\\lambda$:"
   ]
  },
  {
   "cell_type": "code",
   "execution_count": 109,
   "metadata": {},
   "outputs": [
    {
     "data": {
      "text/plain": [
       "0.01438449888287663"
      ]
     },
     "execution_count": 109,
     "metadata": {},
     "output_type": "execute_result"
    }
   ],
   "source": [
    "lambdas[np.argmin(rmse_te)]"
   ]
  },
  {
   "cell_type": "code",
   "execution_count": 110,
   "metadata": {},
   "outputs": [
    {
     "name": "stdout",
     "output_type": "stream",
     "text": [
      "1\n",
      "2\n",
      "3\n",
      "4\n",
      "1\n",
      "2\n",
      "3\n",
      "4\n"
     ]
    }
   ],
   "source": [
    "x_TEST = inputs[:,feature_cols]\n",
    "x_train, y_train, x_test, y_test = split_data(x_TEST, y, 0.5)\n",
    "\n",
    "tx_train = build_poly_plus(x_train, degree)\n",
    "tx_test = build_poly_plus(x_test, degree)\n",
    "\n",
    "weights, mse = ridge_regression(y_train, tx_train, lambdas[np.argmin(rmse_te)])"
   ]
  },
  {
   "cell_type": "code",
   "execution_count": 111,
   "metadata": {},
   "outputs": [
    {
     "name": "stdout",
     "output_type": "stream",
     "text": [
      "Total correct: 95883.0 \n",
      "Total incorrect: 29117.0 \n",
      "Correct percentage: 76.7064 %\n",
      "Train RMSE: 0.7888770673469889 , Test RMSE: 93.08001586717604\n"
     ]
    }
   ],
   "source": [
    "y_pred = predict_labels(weights, tx_test)\n",
    "\n",
    "compute_score(y_test, y_pred)\n",
    "\n",
    "rmse_train = np.sqrt(2*compute_mse(y_train, tx_train, weights))\n",
    "rmse_test = np.sqrt(2*compute_mse(y_test, tx_test, weights))\n",
    "print(\"Train RMSE:\", rmse_train, \", Test RMSE:\", rmse_test)\n",
    "\n"
   ]
  },
  {
   "cell_type": "markdown",
   "metadata": {},
   "source": [
    "# Test set"
   ]
  },
  {
   "cell_type": "code",
   "execution_count": 112,
   "metadata": {},
   "outputs": [],
   "source": [
    "y_test, inputs_test, ids_test = load_clean_csv('test.csv', False, \"avg\", True)"
   ]
  },
  {
   "cell_type": "code",
   "execution_count": 113,
   "metadata": {},
   "outputs": [
    {
     "name": "stdout",
     "output_type": "stream",
     "text": [
      "1\n",
      "2\n",
      "3\n",
      "4\n"
     ]
    },
    {
     "data": {
      "text/plain": [
       "(568238, 715)"
      ]
     },
     "execution_count": 113,
     "metadata": {},
     "output_type": "execute_result"
    }
   ],
   "source": [
    "# tx_test = build_poly(inputs_test[:,feature_cols], degree)\n",
    "tx_test = build_poly_plus(inputs_test[:,feature_cols], degree)\n",
    "tx_test.shape"
   ]
  },
  {
   "cell_type": "code",
   "execution_count": 114,
   "metadata": {},
   "outputs": [
    {
     "data": {
      "text/plain": [
       "(568238,)"
      ]
     },
     "execution_count": 114,
     "metadata": {},
     "output_type": "execute_result"
    }
   ],
   "source": [
    "y_pred = predict_labels(weights, tx_test)\n",
    "y_pred.shape"
   ]
  },
  {
   "cell_type": "code",
   "execution_count": 115,
   "metadata": {},
   "outputs": [],
   "source": [
    "create_csv_submission(ids_test, y_pred, 'prediction.csv')\n"
   ]
  },
  {
   "cell_type": "code",
   "execution_count": null,
   "metadata": {},
   "outputs": [],
   "source": []
  }
 ],
 "metadata": {
  "kernelspec": {
   "display_name": "Python 3",
   "language": "python",
   "name": "python3"
  },
  "language_info": {
   "codemirror_mode": {
    "name": "ipython",
    "version": 3
   },
   "file_extension": ".py",
   "mimetype": "text/x-python",
   "name": "python",
   "nbconvert_exporter": "python",
   "pygments_lexer": "ipython3",
   "version": "3.6.5"
  }
 },
 "nbformat": 4,
 "nbformat_minor": 2
}
