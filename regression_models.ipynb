{
 "cells": [
  {
   "cell_type": "code",
   "execution_count": 180,
   "metadata": {},
   "outputs": [],
   "source": [
    "import pandas as pd, numpy as np, matplotlib.pyplot as plt, pylab as pl \n",
    "libPath = 'project1/scripts'\n",
    "import sys\n",
    "if not libPath in sys.path: sys.path.append(libPath)\n",
    "from implementations import *\n",
    "from proj1_helpers import *"
   ]
  },
  {
   "cell_type": "markdown",
   "metadata": {},
   "source": [
    "# 1. Choosing a model"
   ]
  },
  {
   "cell_type": "markdown",
   "metadata": {},
   "source": [
    "Simple linear model:\n",
    "$y = w_1x_1+\\dots + w_nx_n$"
   ]
  },
  {
   "cell_type": "code",
   "execution_count": 181,
   "metadata": {},
   "outputs": [],
   "source": [
    "feature_cols = [1, 3, 4, 8, 10, 11, 12, 13, 22]\n",
    "N_VALID_FEATURES = len(feature_cols)"
   ]
  },
  {
   "cell_type": "code",
   "execution_count": 191,
   "metadata": {},
   "outputs": [
    {
     "name": "stdout",
     "output_type": "stream",
     "text": [
      "(5000,)\n",
      "(5000, 30)\n",
      "(5000,)\n"
     ]
    },
    {
     "data": {
      "text/plain": [
       "array([ 1., -1., -1., ...,  1., -1.,  1.])"
      ]
     },
     "execution_count": 191,
     "metadata": {},
     "output_type": "execute_result"
    }
   ],
   "source": [
    "y, inputs, ids = load_csv_data(\"full_train_data.csv\", True)\n",
    "print(y.shape)\n",
    "print(inputs.shape)\n",
    "print(ids.shape)\n",
    "y"
   ]
  },
  {
   "cell_type": "code",
   "execution_count": 183,
   "metadata": {},
   "outputs": [
    {
     "name": "stdout",
     "output_type": "stream",
     "text": [
      "(5000, 30)\n"
     ]
    }
   ],
   "source": [
    "inputs_m = np.mean(inputs,0)\n",
    "inputs_st = np.std(inputs,0)\n",
    "\n",
    "inputs = (inputs - inputs_m)/inputs_st\n",
    "print(inputs.shape)\n"
   ]
  },
  {
   "cell_type": "code",
   "execution_count": 184,
   "metadata": {},
   "outputs": [
    {
     "name": "stdout",
     "output_type": "stream",
     "text": [
      "Mean:  [-1.68484560e-14  5.24646993e-16 -3.01493275e-15  9.61042357e-16\n",
      "  5.70302340e-14  1.20398595e-13  2.88899703e-14 -8.44023740e-15\n",
      "  1.59816604e-15 -3.63102881e-15 -2.17299512e-15 -4.50195436e-16\n",
      "  3.07967735e-14  3.18871596e-15 -2.13606910e-17  3.68594044e-18\n",
      "  8.12188095e-15  2.12274642e-17 -3.57969210e-16  1.96758165e-15\n",
      " -6.68687328e-17 -3.99769107e-15 -5.20958277e-17 -5.78745940e-15\n",
      " -7.10720371e-16  9.47686374e-17 -9.58340985e-14 -5.47300920e-17\n",
      "  3.30661887e-15  7.94558863e-16]\n",
      "Std:  [1. 1. 1. 1. 1. 1. 1. 1. 1. 1. 1. 1. 1. 1. 1. 1. 1. 1. 1. 1. 1. 1. 1. 1.\n",
      " 1. 1. 1. 1. 1. 1.]\n"
     ]
    }
   ],
   "source": [
    "print(\"Mean: \", np.mean(inputs,0))\n",
    "print(\"Std: \", np.std(inputs,0))"
   ]
  },
  {
   "cell_type": "code",
   "execution_count": 185,
   "metadata": {},
   "outputs": [],
   "source": [
    "N_FEATURES = input_data.shape[1]\n",
    "N_DATA = len(input_data)"
   ]
  },
  {
   "cell_type": "code",
   "execution_count": 186,
   "metadata": {},
   "outputs": [],
   "source": [
    "def build_k_indices(y, k_fold, seed):\n",
    "    \"\"\"build k indices for k-fold.\"\"\"\n",
    "    num_row = y.shape[0]\n",
    "    interval = int(num_row / k_fold)\n",
    "    np.random.seed(seed)\n",
    "    indices = np.random.permutation(num_row)\n",
    "    k_indices = [indices[k * interval: (k + 1) * interval]\n",
    "                 for k in range(k_fold)]\n",
    "    return np.array(k_indices)\n",
    "\n",
    "def cross_validation(y, x, k_indices, k, lambda_, degree):\n",
    "    \"\"\"return the loss of ridge regression.\"\"\"\n",
    "    # ***************************************************\n",
    "    y_te = y[k_indices[k]]    \n",
    "    x_te = x[k_indices[k]]\n",
    "    \n",
    "    y_tr = np.delete(y, k_indices[k], axis=0)\n",
    "    x_tr = np.delete(x, k_indices[k], axis=0)\n",
    "    # get k'th subgroup in test, others in train: TODO\n",
    "    # ***************************************************\n",
    "    Phi_tr = build_poly(x_tr, degree)\n",
    "    Phi_te = build_poly(x_te, degree)\n",
    "    # form data with polynomial degree: TODO\n",
    "    # ***************************************************\n",
    "    w, loss_tr = ridge_regression(y_tr, Phi_tr, lambda_)\n",
    "    # ridge regression: TODO\n",
    "    # ***************************************************\n",
    "    loss_te = compute_mse(y_te, Phi_te, w)\n",
    "    loss_tr = compute_mse(y_tr, Phi_tr, w)\n",
    "    # calculate the loss for train and test data: TODO\n",
    "    # ***************************************************\n",
    "    return loss_tr, loss_te, w"
   ]
  },
  {
   "cell_type": "code",
   "execution_count": 192,
   "metadata": {},
   "outputs": [],
   "source": [
    "x = inputs[:,feature_cols]\n",
    "degree = 1\n",
    "k_fold = 4\n",
    "lambdas = np.logspace(-4, 0, 30)\n",
    "rmse_tr = []\n",
    "rmse_te = []\n",
    "\n",
    "k_indices = build_k_indices(y, k_fold, 1)\n",
    "for l in lambdas:\n",
    "    rmse_tr_tmp = []\n",
    "    rmse_te_tmp = []\n",
    "    for k in range(k_fold):\n",
    "        loss_tr, loss_te, w = cross_validation(y, x, k_indices, k, l, degree)\n",
    "        rmse_tr_tmp.append(loss_tr)\n",
    "        rmse_te_tmp.append(loss_te)\n",
    "    rmse_tr.append(np.mean(np.sqrt(2*rmse_tr_tmp)))\n",
    "    rmse_te.append(np.mean(np.sqrt(2*rmse_te_tmp)))\n",
    "\n",
    "\n",
    "#tx = build_poly(x, degree)\n",
    "#y_test = tx @ w\n",
    "#y_test[y_test >= 0] = 1\n",
    "#y_test[y_test < 0] = -1\n"
   ]
  },
  {
   "cell_type": "code",
   "execution_count": 193,
   "metadata": {},
   "outputs": [
    {
     "data": {
      "image/png": "[encoded data removed]",
      "text/plain": [
       "<Figure size 432x288 with 1 Axes>"
      ]
     },
     "metadata": {
      "needs_background": "light"
     },
     "output_type": "display_data"
    }
   ],
   "source": [
    "plt.semilogx(lambdas, rmse_tr, marker=\".\", color='b', label='train error')\n",
    "plt.semilogx(lambdas, rmse_te, marker=\".\", color='r', label='test error')\n",
    "plt.xlabel(\"lambda\")\n",
    "plt.ylabel(\"rmse\")\n",
    "plt.title(\"cross validation\")\n",
    "plt.legend(loc=2)\n",
    "plt.grid(True)"
   ]
  },
  {
   "cell_type": "code",
   "execution_count": 194,
   "metadata": {},
   "outputs": [
    {
     "data": {
      "text/plain": [
       "5"
      ]
     },
     "execution_count": 194,
     "metadata": {},
     "output_type": "execute_result"
    }
   ],
   "source": [
    "np.argmin(rmse_te)"
   ]
  },
  {
   "cell_type": "code",
   "execution_count": 195,
   "metadata": {},
   "outputs": [],
   "source": [
    "k_indices = build_k_indices(y, 2, 1)\n",
    "y_test = y[k_indices[0]]    \n",
    "x_test = x[k_indices[0]]\n",
    "\n",
    "y_train = np.delete(y, k_indices[0], axis=0)\n",
    "x_train = np.delete(x, k_indices[0], axis=0)\n",
    "tx = build_poly(x_train, degree)\n",
    "\n",
    "weights, mse = ridge_regression(y_train, tx, lambda_=0.0001)\n"
   ]
  },
  {
   "cell_type": "code",
   "execution_count": 196,
   "metadata": {
    "scrolled": true
   },
   "outputs": [
    {
     "data": {
      "text/plain": [
       "array([-8.06861342e-01, -6.26342166e-03, -6.73860066e-04,  1.02785403e-01,\n",
       "       -1.25902542e-03,  4.22173838e-02,  1.38993152e-01,  3.03454374e-01,\n",
       "        1.07385378e-02, -2.64824586e-02])"
      ]
     },
     "execution_count": 196,
     "metadata": {},
     "output_type": "execute_result"
    }
   ],
   "source": [
    "weights"
   ]
  },
  {
   "cell_type": "code",
   "execution_count": 217,
   "metadata": {},
   "outputs": [
    {
     "name": "stdout",
     "output_type": "stream",
     "text": [
      "Total correct: 1463.0 \n",
      "Total incorrect: 1037.0 \n",
      "Correct percentage: 58.52 %\n",
      "-----------------------------\n",
      "Train RMSE: 0.8253568049700616 , Test RMSE: 1.0596008634494558\n"
     ]
    }
   ],
   "source": [
    "y_pred = predict_labels(weights, tx)\n",
    "ones_aux = np.ones(len(y_pred))\n",
    "correct = np.sum(ones_aux[np.equal(y_test, y_pred)])\n",
    "incorrect = len(y_pred)-correct\n",
    "perc = correct / len(y_pred) * 100\n",
    "print(\"Total correct:\", correct, \"\\nTotal incorrect:\", incorrect, \"\\nCorrect percentage:\", perc, \"%\")\n",
    "\n",
    "print(\"-----------------------------\")\n",
    "\n",
    "rmse_train = np.sqrt(2*compute_mse(y_train, tx, weights))\n",
    "rmse_test = np.sqrt(2*compute_mse(y_test, tx, weights))\n",
    "print(\"Train RMSE:\", rmse_train, \", Test RMSE:\", rmse_test)\n"
   ]
  },
  {
   "cell_type": "code",
   "execution_count": null,
   "metadata": {},
   "outputs": [],
   "source": []
  }
 ],
 "metadata": {
  "kernelspec": {
   "display_name": "Python 3",
   "language": "python",
   "name": "python3"
  },
  "language_info": {
   "codemirror_mode": {
    "name": "ipython",
    "version": 3
   },
   "file_extension": ".py",
   "mimetype": "text/x-python",
   "name": "python",
   "nbconvert_exporter": "python",
   "pygments_lexer": "ipython3",
   "version": "3.7.0"
  }
 },
 "nbformat": 4,
 "nbformat_minor": 2
}
