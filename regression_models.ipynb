{
 "cells": [
  {
   "cell_type": "code",
   "execution_count": 1,
   "metadata": {},
   "outputs": [],
   "source": [
    "import pandas as pd, numpy as np, matplotlib.pyplot as plt, pylab as pl, itertools as it\n",
    "libPath = 'project1/scripts'\n",
    "import sys\n",
    "if not libPath in sys.path: sys.path.append(libPath)\n",
    "from implementations import *\n",
    "from proj1_helpers import *\n",
    "from helpers import *\n",
    "\n"
   ]
  },
  {
   "cell_type": "markdown",
   "metadata": {},
   "source": [
    "# 1. Choosing a model"
   ]
  },
  {
   "cell_type": "markdown",
   "metadata": {},
   "source": [
    "Simple linear model:\n",
    "$y = w_1x_1+\\dots + w_nx_n$"
   ]
  },
  {
   "cell_type": "code",
   "execution_count": 2,
   "metadata": {},
   "outputs": [],
   "source": [
    "feature_cols = [1, 3, 4, 8, 10, 11, 12, 13, 22]\n",
    "# feature_cols = [0, 1, 2, 7, 10, 11, 13, 19]\n",
    "N_VALID_FEATURES = len(feature_cols)"
   ]
  },
  {
   "cell_type": "code",
   "execution_count": 3,
   "metadata": {},
   "outputs": [
    {
     "name": "stdout",
     "output_type": "stream",
     "text": [
      "(250000,)\n",
      "(250000, 30)\n",
      "(250000,)\n"
     ]
    },
    {
     "data": {
      "text/plain": [
       "array([ 1., -1., -1., ...,  1., -1., -1.])"
      ]
     },
     "execution_count": 3,
     "metadata": {},
     "output_type": "execute_result"
    }
   ],
   "source": [
    "y, inputs_or, ids = load_csv_data(\"full_train_data.csv\", False)\n",
    "print(y.shape)\n",
    "print(inputs_or.shape)\n",
    "print(ids.shape)\n",
    "y"
   ]
  },
  {
   "cell_type": "code",
   "execution_count": 4,
   "metadata": {},
   "outputs": [],
   "source": [
    "y_TEST, inputs_TEST, ids_TEST = load_csv_data(\"full_train_data.csv\", False)"
   ]
  },
  {
   "cell_type": "code",
   "execution_count": 7,
   "metadata": {},
   "outputs": [
    {
     "data": {
      "text/plain": [
       "(250000, 30)"
      ]
     },
     "execution_count": 7,
     "metadata": {},
     "output_type": "execute_result"
    }
   ],
   "source": [
    "inputs, inputs_m, inputs_std = standardize(inputs_or)\n",
    "tx.shape"
   ]
  },
  {
   "cell_type": "code",
   "execution_count": 8,
   "metadata": {},
   "outputs": [
    {
     "name": "stdout",
     "output_type": "stream",
     "text": [
      "Mean:  [-1.44181997e-12  4.49388038e-15 -3.48051743e-15  7.19326732e-15\n",
      "  5.54492262e-12 -7.06034603e-12 -1.25200608e-12  2.16639258e-14\n",
      "  6.39519815e-15  2.86378610e-15 -7.00413105e-15  4.40404957e-15\n",
      " -5.06993495e-12 -5.96698879e-15  1.31851863e-16  6.98427982e-17\n",
      "  2.58050010e-14 -1.06905595e-16 -1.84545268e-16  8.24480671e-15\n",
      "  1.40987222e-16 -8.99948738e-15 -6.01698247e-16  1.73750464e-12\n",
      "  4.22403081e-15 -9.73910979e-15  1.21723732e-11  9.18768264e-15\n",
      "  4.19652004e-15 -8.78904061e-16]\n",
      "Std:  [1. 1. 1. 1. 1. 1. 1. 1. 1. 1. 1. 1. 1. 1. 1. 1. 1. 1. 1. 1. 1. 1. 1. 1.\n",
      " 1. 1. 1. 1. 1. 1.]\n"
     ]
    }
   ],
   "source": [
    "print(\"Mean: \", np.mean(inputs,0))\n",
    "print(\"Std: \", np.std(inputs,0))"
   ]
  },
  {
   "cell_type": "code",
   "execution_count": 9,
   "metadata": {},
   "outputs": [],
   "source": [
    "N_FEATURES = inputs_or.shape[1]\n",
    "N_DATA = len(inputs_or)"
   ]
  },
  {
   "cell_type": "code",
   "execution_count": 10,
   "metadata": {},
   "outputs": [],
   "source": [
    "def build_k_indices(y, k_fold, seed):\n",
    "    \"\"\"build k indices for k-fold.\"\"\"\n",
    "    num_row = y.shape[0]\n",
    "    interval = int(num_row / k_fold)\n",
    "    np.random.seed(seed)\n",
    "    indices = np.random.permutation(num_row)\n",
    "    k_indices = [indices[k * interval: (k + 1) * interval]\n",
    "                 for k in range(k_fold)]\n",
    "    return np.array(k_indices)\n",
    "\n",
    "def cross_validation(y, x, k_indices, k, lambda_, degree):\n",
    "    \"\"\"return the loss of ridge regression.\"\"\"\n",
    "    # ***************************************************\n",
    "    y_te = y[k_indices[k]]    \n",
    "    x_te = x[k_indices[k]]\n",
    "    \n",
    "    y_tr = np.delete(y, k_indices[k], axis=0)\n",
    "    x_tr = np.delete(x, k_indices[k], axis=0)\n",
    "    # get k'th subgroup in test, others in train: TODO\n",
    "    # ***************************************************\n",
    "    Phi_tr = build_poly(x_tr, degree)\n",
    "    Phi_te = build_poly(x_te, degree)\n",
    "    # form data with polynomial degree: TODO\n",
    "    # ***************************************************\n",
    "    w, loss_tr = ridge_regression(y_tr, Phi_tr, lambda_)\n",
    "    # ridge regression: TODO\n",
    "    # ***************************************************\n",
    "    loss_te = compute_mse(y_te, Phi_te, w)\n",
    "    loss_tr = compute_mse(y_tr, Phi_tr, w)\n",
    "    # calculate the loss for train and test data: TODO\n",
    "    # ***************************************************\n",
    "    return loss_tr, loss_te, w"
   ]
  },
  {
   "cell_type": "code",
   "execution_count": 11,
   "metadata": {},
   "outputs": [],
   "source": [
    "x = inputs[:,feature_cols]\n",
    "degree = 1\n",
    "k_fold = 4\n",
    "lambdas = np.logspace(-4, 0, 30)\n",
    "rmse_tr = []\n",
    "rmse_te = []\n",
    "\n",
    "k_indices = build_k_indices(y, k_fold, 1)\n",
    "for l in lambdas:\n",
    "    rmse_tr_tmp = []\n",
    "    rmse_te_tmp = []\n",
    "    for k in range(k_fold):\n",
    "        loss_tr, loss_te, w = cross_validation(y, x, k_indices, k, l, degree)\n",
    "        rmse_tr_tmp.append(loss_tr)\n",
    "        rmse_te_tmp.append(loss_te)\n",
    "    rmse_tr.append(np.mean(np.sqrt(2*rmse_tr_tmp)))\n",
    "    rmse_te.append(np.mean(np.sqrt(2*rmse_te_tmp)))\n",
    "\n",
    "\n",
    "#tx = build_poly(x, degree)\n",
    "#y_test = tx @ w\n",
    "#y_test[y_test >= 0] = 1\n",
    "#y_test[y_test < 0] = -1\n"
   ]
  },
  {
   "cell_type": "code",
   "execution_count": 12,
   "metadata": {},
   "outputs": [
    {
     "data": {
      "image/png": "[encoded data removed]",
      "text/plain": [
       "<Figure size 432x288 with 1 Axes>"
      ]
     },
     "metadata": {
      "needs_background": "light"
     },
     "output_type": "display_data"
    }
   ],
   "source": [
    "plt.semilogx(lambdas, rmse_tr, marker=\".\", color='b', label='train error')\n",
    "plt.semilogx(lambdas, rmse_te, marker=\".\", color='r', label='test error')\n",
    "plt.xlabel(\"lambda\")\n",
    "plt.ylabel(\"rmse\")\n",
    "plt.title(\"cross validation\")\n",
    "plt.legend(loc=2)\n",
    "plt.grid(True)"
   ]
  },
  {
   "cell_type": "code",
   "execution_count": 13,
   "metadata": {},
   "outputs": [
    {
     "data": {
      "text/plain": [
       "5"
      ]
     },
     "execution_count": 13,
     "metadata": {},
     "output_type": "execute_result"
    }
   ],
   "source": [
    "np.argmin(rmse_te)"
   ]
  },
  {
   "cell_type": "code",
   "execution_count": 23,
   "metadata": {},
   "outputs": [],
   "source": [
    "x_TEST = inputs[:,feature_cols]\n",
    "k_indices = build_k_indices(y_TEST, 2, 1)\n",
    "y_test = y_TEST[k_indices[0]]    \n",
    "x_test = x_TEST[k_indices[0]]\n",
    "\n",
    "y_train = np.delete(y_TEST, k_indices[0], axis=0)\n",
    "x_train = np.delete(x_TEST, k_indices[0], axis=0)\n",
    "tx_tr = build_poly(x_train, degree)\n",
    "tx_te = build_poly(x_test, degree)\n",
    "\n",
    "\n",
    "weights, mse = ridge_regression(y_train, tx_tr, lambdas[np.argmin(rmse_te)])\n"
   ]
  },
  {
   "cell_type": "code",
   "execution_count": 24,
   "metadata": {
    "scrolled": true
   },
   "outputs": [
    {
     "data": {
      "text/plain": [
       "array([-0.31374113, -0.24337028, -0.00175733,  0.09617337, -0.02603482,\n",
       "       -0.0034392 ,  0.1322886 ,  0.07373047,  0.17172217, -0.00616831])"
      ]
     },
     "execution_count": 24,
     "metadata": {},
     "output_type": "execute_result"
    }
   ],
   "source": [
    "weights"
   ]
  },
  {
   "cell_type": "code",
   "execution_count": 25,
   "metadata": {},
   "outputs": [
    {
     "name": "stdout",
     "output_type": "stream",
     "text": [
      "Total correct: 90500.0 \n",
      "Total incorrect: 34500.0 \n",
      "Correct percentage: 72.39999999999999 %\n",
      "-----------------------------\n",
      "Train RMSE: 0.8474840547657798 , Test RMSE: 0.8482789260665095\n"
     ]
    }
   ],
   "source": [
    "y_pred = predict_labels(weights, tx_te)\n",
    "ones_aux = np.ones(len(y_pred))\n",
    "correct = np.sum(ones_aux[np.equal(y_test, y_pred)])\n",
    "incorrect = len(y_pred)-correct\n",
    "perc = correct / len(y_pred) * 100\n",
    "print(\"Total correct:\", correct, \"\\nTotal incorrect:\", incorrect, \"\\nCorrect percentage:\", perc, \"%\")\n",
    "\n",
    "print(\"-----------------------------\")\n",
    "\n",
    "rmse_train = np.sqrt(2*compute_mse(y_train, tx_tr, weights))\n",
    "rmse_test = np.sqrt(2*compute_mse(y_test, tx_te, weights))\n",
    "print(\"Train RMSE:\", rmse_train, \", Test RMSE:\", rmse_test)\n"
   ]
  },
  {
   "cell_type": "markdown",
   "metadata": {},
   "source": [
    "4-th order linear model:\n",
    "$y = w_0+w_1x_1+\\dots+ w_nx_1^n +\\dots$"
   ]
  },
  {
   "cell_type": "code",
   "execution_count": 26,
   "metadata": {},
   "outputs": [],
   "source": [
    "x = inputs[:,feature_cols]\n",
    "degree = 4\n",
    "k_fold = 4\n",
    "lambdas = np.logspace(-4, 0, 30)\n",
    "rmse_tr = []\n",
    "rmse_te = []\n",
    "\n",
    "k_indices = build_k_indices(y, k_fold, 1)\n",
    "for l in lambdas:\n",
    "    rmse_tr_tmp = []\n",
    "    rmse_te_tmp = []\n",
    "    for k in range(k_fold):\n",
    "        loss_tr, loss_te, w = cross_validation(y, x, k_indices, k, l, degree)\n",
    "        rmse_tr_tmp.append(loss_tr)\n",
    "        rmse_te_tmp.append(loss_te)\n",
    "    rmse_tr.append(np.mean(np.sqrt(2*rmse_tr_tmp)))\n",
    "    rmse_te.append(np.mean(np.sqrt(2*rmse_te_tmp)))\n"
   ]
  },
  {
   "cell_type": "code",
   "execution_count": 27,
   "metadata": {
    "scrolled": true
   },
   "outputs": [
    {
     "data": {
      "image/png": "[encoded data removed]",
      "text/plain": [
       "<Figure size 432x288 with 1 Axes>"
      ]
     },
     "metadata": {
      "needs_background": "light"
     },
     "output_type": "display_data"
    }
   ],
   "source": [
    "plt.semilogx(lambdas, rmse_tr, marker=\".\", color='b', label='train error')\n",
    "plt.semilogx(lambdas, rmse_te, marker=\".\", color='r', label='test error')\n",
    "plt.xlabel(\"lambda\")\n",
    "plt.ylabel(\"rmse\")\n",
    "plt.title(\"cross validation\")\n",
    "plt.legend(loc=2)\n",
    "plt.grid(True)"
   ]
  },
  {
   "cell_type": "code",
   "execution_count": 28,
   "metadata": {
    "scrolled": true
   },
   "outputs": [
    {
     "data": {
      "text/plain": [
       "0"
      ]
     },
     "execution_count": 28,
     "metadata": {},
     "output_type": "execute_result"
    }
   ],
   "source": [
    "np.argmin(rmse_te)"
   ]
  },
  {
   "cell_type": "code",
   "execution_count": 31,
   "metadata": {},
   "outputs": [
    {
     "name": "stdout",
     "output_type": "stream",
     "text": [
      "(125000, 37)\n"
     ]
    }
   ],
   "source": [
    "x_TEST = inputs[:,feature_cols]\n",
    "k_indices = build_k_indices(y, 2, 18)\n",
    "y_test = y_TEST[k_indices[0]]    \n",
    "x_test = x_TEST[k_indices[0]]\n",
    "\n",
    "y_train = np.delete(y_TEST, k_indices[0], axis=0)\n",
    "x_train = np.delete(x_TEST, k_indices[0], axis=0)\n",
    "tx_tr = build_poly(x_train, degree)\n",
    "tx_te = build_poly(x_test, degree)\n",
    "\n",
    "print(tx_tr.shape)\n",
    "weights, mse = ridge_regression(y_train, tx_tr, lambdas[np.argmin(rmse_te)])\n"
   ]
  },
  {
   "cell_type": "code",
   "execution_count": 32,
   "metadata": {
    "scrolled": true
   },
   "outputs": [
    {
     "name": "stdout",
     "output_type": "stream",
     "text": [
      "Total correct: 93669.0 \n",
      "Total incorrect: 31331.0 \n",
      "Correct percentage: 74.93520000000001 %\n",
      "-----------------------------\n",
      "Train RMSE: 0.8163342841249744 , Test RMSE: 0.8170878223335576\n"
     ]
    }
   ],
   "source": [
    "y_pred = predict_labels(weights, tx_te)\n",
    "ones_aux = np.ones(len(y_pred))\n",
    "correct = np.sum(ones_aux[np.equal(y_test, y_pred)])\n",
    "incorrect = len(y_pred)-correct\n",
    "perc = correct / len(y_pred) * 100\n",
    "print(\"Total correct:\", correct, \"\\nTotal incorrect:\", incorrect, \"\\nCorrect percentage:\", perc, \"%\")\n",
    "\n",
    "print(\"-----------------------------\")\n",
    "\n",
    "rmse_train = np.sqrt(2*compute_mse(y_train, tx_tr, weights))\n",
    "rmse_test = np.sqrt(2*compute_mse(y_test, tx_te, weights))\n",
    "print(\"Train RMSE:\", rmse_train, \", Test RMSE:\", rmse_test)\n",
    "\n"
   ]
  },
  {
   "cell_type": "markdown",
   "metadata": {},
   "source": [
    "A more complicated model:\n",
    "Order 2:\n",
    "$y=w_0 + w_1x_1 + w_2x_2 +w_3x_1^2 +w_4x_2^2+w_5x_1x_2+\\dots$"
   ]
  },
  {
   "cell_type": "code",
   "execution_count": 46,
   "metadata": {},
   "outputs": [],
   "source": [
    "def cross_validation_poly(y, tx, k_indices, k, lambda_, degree):\n",
    "    \"\"\"return the loss of ridge regression.\"\"\"\n",
    "    # ***************************************************\n",
    "    y_te = y[k_indices[k]]    \n",
    "    tx_te = tx[k_indices[k]]\n",
    "    \n",
    "    y_tr = np.delete(y, k_indices[k], axis=0)\n",
    "    tx_tr = np.delete(tx, k_indices[k], axis=0)\n",
    "    # get k'th subgroup in test, others in train: TODO\n",
    "    # ***************************************************\n",
    "    w, loss_tr = ridge_regression(y_tr, tx_tr, lambda_)\n",
    "    # ridge regression: TODO\n",
    "    # ***************************************************\n",
    "    loss_te = compute_mse(y_te, tx_te, w)\n",
    "    loss_tr = compute_mse(y_tr, tx_tr, w)\n",
    "    # calculate the loss for train and test data: TODO\n",
    "    # ***************************************************\n",
    "    return loss_tr, loss_te, w\n",
    "\n",
    "def build_poly_plus(x, degree):\n",
    "    poly = np.ones((len(x), 1))\n",
    "\n",
    "    for deg in range(1, degree+1):\n",
    "        if deg == 1:\n",
    "            poly = np.c_[poly, x]\n",
    "        else:\n",
    "            for i in it.combinations_with_replacement(range(x.shape[1]),degree):\n",
    "                poly = np.c_[poly, np.prod(x[:,i],1)]\n",
    "    return poly"
   ]
  },
  {
   "cell_type": "code",
   "execution_count": 43,
   "metadata": {},
   "outputs": [],
   "source": [
    "import itertools\n",
    "\n",
    "# TODO: Optimize. Very slow!\n",
    "def build_mult_comb(tx, deg, cols=[]):\n",
    "    \"\"\"\n",
    "    Returns all multiplicative combinations of the specified columns for degree deg.\n",
    "    For len(col) = D', there are (D' choose deg) combinations of columns that get\n",
    "    returned as a matrix.\n",
    "    If cols is not given, it returns the combinations of all columns of tx.\n",
    "    \"\"\"\n",
    "    N = tx.shape[0]\n",
    "    if (cols == []):\n",
    "        comb_iter = itertools.combinations_with_replacement(range(tx.shape[1]), deg)\n",
    "    else:\n",
    "        comb_iter = itertools.combinations_with_replacement(cols, deg)\n",
    "    mult = []\n",
    "    for comb in comb_iter:\n",
    "        mult_col = np.ones(N)\n",
    "        for idx in comb:\n",
    "            tx_col = tx[:,idx]\n",
    "            mult_col = np.multiply(mult_col, tx_col)\n",
    "        mult.append(mult_col.tolist())\n",
    "    return np.array(mult).T\n",
    "\n",
    "def build_poly_adv(tx, degree, cols=[]):\n",
    "    \"\"\"\n",
    "    Builds full polynomial basis function for input data matrix tx, for j=0 up to j=degree,\n",
    "    where the result will be a matrix of form:\n",
    "    [1, tx, comb_mult(tx, 2), ..., comb_mult(tx, j)]\n",
    "    comb_mult(tx, 2) denotes all multiplicative combinations of the selected columns of tx.\n",
    "    If cols is not given, it returns the combinations of all columns of tx.\n",
    "    \"\"\"\n",
    "    poly = np.ones((tx.shape[0], 1))\n",
    "\n",
    "    for j in range(1, degree+1):\n",
    "        mult = build_mult_comb(tx, j, cols)\n",
    "        poly = np.column_stack((poly, mult))\n",
    "\n",
    "    return poly"
   ]
  },
  {
   "cell_type": "code",
   "execution_count": 77,
   "metadata": {
    "scrolled": true
   },
   "outputs": [],
   "source": [
    "x = inputs\n",
    "degree = 2\n",
    "tx = build_poly_plus(x[:,feature_cols], degree)"
   ]
  },
  {
   "cell_type": "code",
   "execution_count": 78,
   "metadata": {},
   "outputs": [
    {
     "name": "stdout",
     "output_type": "stream",
     "text": [
      "lambda=0.000010000, Training RMSE=0.814, Testing RMSE=0.839\n",
      "lambda=0.000018330, Training RMSE=0.814, Testing RMSE=0.839\n",
      "lambda=0.000033598, Training RMSE=0.814, Testing RMSE=0.839\n",
      "lambda=0.000061585, Training RMSE=0.814, Testing RMSE=0.839\n",
      "lambda=0.000112884, Training RMSE=0.814, Testing RMSE=0.839\n",
      "lambda=0.000206914, Training RMSE=0.814, Testing RMSE=0.839\n",
      "lambda=0.000379269, Training RMSE=0.814, Testing RMSE=0.839\n",
      "lambda=0.000695193, Training RMSE=0.814, Testing RMSE=0.838\n",
      "lambda=0.001274275, Training RMSE=0.814, Testing RMSE=0.837\n",
      "lambda=0.002335721, Training RMSE=0.814, Testing RMSE=0.836\n",
      "lambda=0.004281332, Training RMSE=0.814, Testing RMSE=0.834\n",
      "lambda=0.007847600, Training RMSE=0.814, Testing RMSE=0.830\n",
      "lambda=0.014384499, Training RMSE=0.815, Testing RMSE=0.826\n",
      "lambda=0.026366509, Training RMSE=0.817, Testing RMSE=0.823\n",
      "lambda=0.048329302, Training RMSE=0.820, Testing RMSE=0.822\n",
      "lambda=0.088586679, Training RMSE=0.824, Testing RMSE=0.825\n",
      "lambda=0.162377674, Training RMSE=0.831, Testing RMSE=0.832\n",
      "lambda=0.297635144, Training RMSE=0.841, Testing RMSE=0.842\n",
      "lambda=0.545559478, Training RMSE=0.856, Testing RMSE=0.858\n",
      "lambda=1.000000000, Training RMSE=0.875, Testing RMSE=0.880\n"
     ]
    }
   ],
   "source": [
    "k_fold = 4\n",
    "lambdas = np.logspace(-5, 0, 20)\n",
    "\n",
    "rmse_tr = []\n",
    "rmse_te = []\n",
    "\n",
    "k_indices = build_k_indices(y, k_fold, 1)\n",
    "for l in lambdas:\n",
    "    rmse_tr_tmp = []\n",
    "    rmse_te_tmp = []\n",
    "    for k in range(k_fold):\n",
    "        loss_tr, loss_te, w = cross_validation_poly(y, tx, k_indices, k, l, degree)\n",
    "        rmse_tr_tmp.append(loss_tr)\n",
    "        rmse_te_tmp.append(loss_te)\n",
    "    rmse_tr.append(np.sqrt(2*np.mean(rmse_tr_tmp)))\n",
    "    rmse_te.append(np.sqrt(2*np.mean(rmse_te_tmp)))\n",
    "    print(\"lambda={la:.9f}, Training RMSE={tr:.3f}, Testing RMSE={te:.3f}\".format(\n",
    "               la=l, tr=rmse_tr[-1], te=rmse_te[-1]))\n"
   ]
  },
  {
   "cell_type": "code",
   "execution_count": 79,
   "metadata": {},
   "outputs": [
    {
     "data": {
      "image/png": "[encoded data removed]",
      "text/plain": [
       "<Figure size 432x288 with 1 Axes>"
      ]
     },
     "metadata": {
      "needs_background": "light"
     },
     "output_type": "display_data"
    }
   ],
   "source": [
    "plt.semilogx(lambdas, rmse_tr, marker=\".\", color='b', label='train error')\n",
    "plt.semilogx(lambdas, rmse_te, marker=\".\", color='r', label='test error')\n",
    "plt.xlabel(\"lambda\")\n",
    "plt.ylabel(\"rmse\")\n",
    "plt.title(\"cross validation\")\n",
    "plt.legend(loc=2)\n",
    "plt.grid(True)"
   ]
  },
  {
   "cell_type": "code",
   "execution_count": 80,
   "metadata": {},
   "outputs": [
    {
     "data": {
      "text/plain": [
       "14"
      ]
     },
     "execution_count": 80,
     "metadata": {},
     "output_type": "execute_result"
    }
   ],
   "source": [
    "np.argmin(rmse_te)"
   ]
  },
  {
   "cell_type": "code",
   "execution_count": 81,
   "metadata": {},
   "outputs": [
    {
     "name": "stdout",
     "output_type": "stream",
     "text": [
      "(125000, 55)\n"
     ]
    }
   ],
   "source": [
    "tx_TEST = build_poly_plus(inputs[:,feature_cols], degree)\n",
    "\n",
    "k_indices = build_k_indices(y_TEST, 2, 17)\n",
    "y_test = y_TEST[k_indices[0]]    \n",
    "tx_test = tx_TEST[k_indices[0]]\n",
    "\n",
    "y_train = np.delete(y_TEST, k_indices[0], axis=0)\n",
    "tx_train = np.delete(tx_TEST, k_indices[0], axis=0)\n",
    "\n",
    "print(tx_train.shape)\n",
    "weights, mse = ridge_regression(y_train, tx_train, lambdas[np.argmin(rmse_te)])\n"
   ]
  },
  {
   "cell_type": "code",
   "execution_count": 82,
   "metadata": {},
   "outputs": [
    {
     "name": "stdout",
     "output_type": "stream",
     "text": [
      "Total correct: 93850.0 \n",
      "Total incorrect: 31150.0 \n",
      "Correct percentage: 75.08 %\n",
      "-----------------------------\n",
      "Train RMSE: 0.8187515441933548 , Test RMSE: 0.8264246781366931\n"
     ]
    }
   ],
   "source": [
    "y_pred = predict_labels(weights, tx_test)\n",
    "ones_aux = np.ones(len(y_pred))\n",
    "correct = np.sum(ones_aux[np.equal(y_test, y_pred)])\n",
    "incorrect = len(y_pred)-correct\n",
    "perc = correct / len(y_pred) * 100\n",
    "print(\"Total correct:\", correct, \"\\nTotal incorrect:\", incorrect, \"\\nCorrect percentage:\", perc, \"%\")\n",
    "\n",
    "print(\"-----------------------------\")\n",
    "\n",
    "rmse_train = np.sqrt(2*compute_mse(y_train, tx_train, weights))\n",
    "rmse_test = np.sqrt(2*compute_mse(y_test, tx_test, weights))\n",
    "print(\"Train RMSE:\", rmse_train, \", Test RMSE:\", rmse_test)\n",
    "\n"
   ]
  },
  {
   "cell_type": "markdown",
   "metadata": {},
   "source": [
    "# Test set"
   ]
  },
  {
   "cell_type": "code",
   "execution_count": 54,
   "metadata": {},
   "outputs": [],
   "source": [
    "def replace_nan_by_mean(tx, nan_value):\n",
    "    \"\"\"Replaces values with a specified nan_value by the column mean.\"\"\"\n",
    "    tx[tx == nan_value] = np.nan\n",
    "    col_mean = np.nanmean(tx, axis=0)\n",
    "    return np.where(np.isnan(tx), col_mean, tx)"
   ]
  },
  {
   "cell_type": "code",
   "execution_count": 57,
   "metadata": {},
   "outputs": [],
   "source": [
    "y_test, inputs_test, ids_test = load_csv_data('test.csv', sub_sample=False)"
   ]
  },
  {
   "cell_type": "code",
   "execution_count": 58,
   "metadata": {
    "scrolled": true
   },
   "outputs": [
    {
     "name": "stdout",
     "output_type": "stream",
     "text": [
      "Proportion of missing data in each feature: \n",
      " [0.15220383 0.         0.         0.         0.70885087 0.70885087\n",
      " 0.70885087 0.         0.         0.         0.         0.\n",
      " 0.70885087 0.         0.         0.         0.         0.\n",
      " 0.         0.         0.         0.         0.         0.4002865\n",
      " 0.4002865  0.4002865  0.70885087 0.70885087 0.70885087 0.        ]\n"
     ]
    }
   ],
   "source": [
    "print('Proportion of missing data in each feature: \\n', np.count_nonzero(inputs_test== -999,0)/len(y_test) )"
   ]
  },
  {
   "cell_type": "code",
   "execution_count": 59,
   "metadata": {},
   "outputs": [
    {
     "data": {
      "text/plain": [
       "array([ 4.92583872e+01,  5.78290937e+01, -7.07441800e+02,  1.89926203e+01,\n",
       "        1.43928858e+00, -1.26825167e-01, -7.08008508e+02,  3.86940752e+01,\n",
       "        9.80251233e-01])"
      ]
     },
     "execution_count": 59,
     "metadata": {},
     "output_type": "execute_result"
    }
   ],
   "source": [
    "np.mean(inputs_test[:,feature_cols],0)"
   ]
  },
  {
   "cell_type": "code",
   "execution_count": 60,
   "metadata": {},
   "outputs": [],
   "source": [
    "input_data_na = inputs_test.copy()\n",
    "for col in feature_cols: \n",
    "    input_data_na = input_data_na[~(input_data_na[:,col]==-999)]\n",
    "mean = np.mean(input_data_na,0)\n",
    "for i in feature_cols:\n",
    "    if any(inputs_test[:,i] == -999):\n",
    "        np.place(inputs_test[:,i], inputs_test[:,i] == -999, mean[i])"
   ]
  },
  {
   "cell_type": "code",
   "execution_count": 64,
   "metadata": {
    "scrolled": true
   },
   "outputs": [],
   "source": [
    "inputs_test_s ,_,_= standardize(inputs_test)"
   ]
  },
  {
   "cell_type": "code",
   "execution_count": 65,
   "metadata": {},
   "outputs": [
    {
     "data": {
      "text/plain": [
       "(568238, 55)"
      ]
     },
     "execution_count": 65,
     "metadata": {},
     "output_type": "execute_result"
    }
   ],
   "source": [
    "# tx_test = build_poly(inputs_test[:,feature_cols], degree)\n",
    "tx_test = build_poly_plus(inputs_test_s[:,feature_cols], degree)\n",
    "tx_test.shape\n"
   ]
  },
  {
   "cell_type": "code",
   "execution_count": 66,
   "metadata": {},
   "outputs": [
    {
     "data": {
      "text/plain": [
       "(568238,)"
      ]
     },
     "execution_count": 66,
     "metadata": {},
     "output_type": "execute_result"
    }
   ],
   "source": [
    "y_pred = predict_labels(weights, tx_test)\n",
    "y_pred.shape"
   ]
  },
  {
   "cell_type": "code",
   "execution_count": 67,
   "metadata": {},
   "outputs": [],
   "source": [
    "create_csv_submission(ids_test, y_pred, 'prediction.csv')\n"
   ]
  },
  {
   "cell_type": "code",
   "execution_count": null,
   "metadata": {},
   "outputs": [],
   "source": [
    "ids_"
   ]
  }
 ],
 "metadata": {
  "kernelspec": {
   "display_name": "Python 3",
   "language": "python",
   "name": "python3"
  },
  "language_info": {
   "codemirror_mode": {
    "name": "ipython",
    "version": 3
   },
   "file_extension": ".py",
   "mimetype": "text/x-python",
   "name": "python",
   "nbconvert_exporter": "python",
   "pygments_lexer": "ipython3",
   "version": "3.7.0"
  }
 },
 "nbformat": 4,
 "nbformat_minor": 2
}
