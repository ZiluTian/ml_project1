{
 "cells": [
  {
   "cell_type": "code",
   "execution_count": 235,
   "metadata": {},
   "outputs": [],
   "source": [
    "import pandas as pd, numpy as np, matplotlib.pyplot as plt, pylab as pl, itertools as it\n",
    "libPath = 'project1/scripts'\n",
    "import sys\n",
    "if not libPath in sys.path: sys.path.append(libPath)\n",
    "from implementations import *\n",
    "from proj1_helpers import *"
   ]
  },
  {
   "cell_type": "markdown",
   "metadata": {},
   "source": [
    "# 1. Choosing a model"
   ]
  },
  {
   "cell_type": "markdown",
   "metadata": {},
   "source": [
    "Simple linear model:\n",
    "$y = w_1x_1+\\dots + w_nx_n$"
   ]
  },
  {
   "cell_type": "code",
   "execution_count": 277,
   "metadata": {},
   "outputs": [],
   "source": [
    "feature_cols = [1, 3, 4, 8, 10, 11, 12, 13, 22]\n",
    "# feature_cols = [0, 1, 2, 7, 10, 11, 13, 19]\n",
    "N_VALID_FEATURES = len(feature_cols)"
   ]
  },
  {
   "cell_type": "code",
   "execution_count": 234,
   "metadata": {},
   "outputs": [
    {
     "name": "stdout",
     "output_type": "stream",
     "text": [
      "(5000,)\n",
      "(5000, 30)\n",
      "(5000,)\n"
     ]
    },
    {
     "data": {
      "text/plain": [
       "array([ 1., -1., -1., ...,  1., -1.,  1.])"
      ]
     },
     "execution_count": 234,
     "metadata": {},
     "output_type": "execute_result"
    }
   ],
   "source": [
    "y, inputs_or, ids = load_csv_data(\"full_train_data.csv\", True)\n",
    "print(y.shape)\n",
    "print(inputs_or.shape)\n",
    "print(ids.shape)\n",
    "y"
   ]
  },
  {
   "cell_type": "code",
   "execution_count": 237,
   "metadata": {},
   "outputs": [],
   "source": [
    "y_TEST, inputs_TEST, ids_TEST = load_csv_data(\"full_train_data.csv\", False)"
   ]
  },
  {
   "cell_type": "code",
   "execution_count": 238,
   "metadata": {},
   "outputs": [
    {
     "name": "stdout",
     "output_type": "stream",
     "text": [
      "(5000, 30)\n"
     ]
    }
   ],
   "source": [
    "inputs_m = np.mean(inputs_or,0)\n",
    "inputs_st = np.std(inputs_or,0)\n",
    "\n",
    "inputs = (inputs_or - inputs_m)/inputs_st\n",
    "print(inputs.shape)\n"
   ]
  },
  {
   "cell_type": "code",
   "execution_count": 239,
   "metadata": {},
   "outputs": [
    {
     "name": "stdout",
     "output_type": "stream",
     "text": [
      "Mean:  [-1.68484560e-14  5.24646993e-16 -3.01493275e-15  9.61042357e-16\n",
      "  5.70302340e-14  1.20398595e-13  2.88899703e-14 -8.44023740e-15\n",
      "  1.59816604e-15 -3.63102881e-15 -2.17299512e-15 -4.50195436e-16\n",
      "  3.07967735e-14  3.18871596e-15 -2.13606910e-17  3.68594044e-18\n",
      "  8.12188095e-15  2.12274642e-17 -3.57969210e-16  1.96758165e-15\n",
      " -6.68687328e-17 -3.99769107e-15 -5.20958277e-17 -5.78745940e-15\n",
      " -7.10720371e-16  9.47686374e-17 -9.58340985e-14 -5.47300920e-17\n",
      "  3.30661887e-15  7.94558863e-16]\n",
      "Std:  [1. 1. 1. 1. 1. 1. 1. 1. 1. 1. 1. 1. 1. 1. 1. 1. 1. 1. 1. 1. 1. 1. 1. 1.\n",
      " 1. 1. 1. 1. 1. 1.]\n"
     ]
    }
   ],
   "source": [
    "print(\"Mean: \", np.mean(inputs,0))\n",
    "print(\"Std: \", np.std(inputs,0))"
   ]
  },
  {
   "cell_type": "code",
   "execution_count": 240,
   "metadata": {},
   "outputs": [],
   "source": [
    "N_FEATURES = inputs_or.shape[1]\n",
    "N_DATA = len(inputs_or)"
   ]
  },
  {
   "cell_type": "code",
   "execution_count": 241,
   "metadata": {},
   "outputs": [],
   "source": [
    "def build_k_indices(y, k_fold, seed):\n",
    "    \"\"\"build k indices for k-fold.\"\"\"\n",
    "    num_row = y.shape[0]\n",
    "    interval = int(num_row / k_fold)\n",
    "    np.random.seed(seed)\n",
    "    indices = np.random.permutation(num_row)\n",
    "    k_indices = [indices[k * interval: (k + 1) * interval]\n",
    "                 for k in range(k_fold)]\n",
    "    return np.array(k_indices)\n",
    "\n",
    "def cross_validation(y, x, k_indices, k, lambda_, degree):\n",
    "    \"\"\"return the loss of ridge regression.\"\"\"\n",
    "    # ***************************************************\n",
    "    y_te = y[k_indices[k]]    \n",
    "    x_te = x[k_indices[k]]\n",
    "    \n",
    "    y_tr = np.delete(y, k_indices[k], axis=0)\n",
    "    x_tr = np.delete(x, k_indices[k], axis=0)\n",
    "    # get k'th subgroup in test, others in train: TODO\n",
    "    # ***************************************************\n",
    "    Phi_tr = build_poly(x_tr, degree)\n",
    "    Phi_te = build_poly(x_te, degree)\n",
    "    # form data with polynomial degree: TODO\n",
    "    # ***************************************************\n",
    "    w, loss_tr = ridge_regression(y_tr, Phi_tr, lambda_)\n",
    "    # ridge regression: TODO\n",
    "    # ***************************************************\n",
    "    loss_te = compute_mse(y_te, Phi_te, w)\n",
    "    loss_tr = compute_mse(y_tr, Phi_tr, w)\n",
    "    # calculate the loss for train and test data: TODO\n",
    "    # ***************************************************\n",
    "    return loss_tr, loss_te, w"
   ]
  },
  {
   "cell_type": "code",
   "execution_count": 242,
   "metadata": {},
   "outputs": [],
   "source": [
    "x = inputs[:,feature_cols]\n",
    "degree = 1\n",
    "k_fold = 4\n",
    "lambdas = np.logspace(-4, 0, 30)\n",
    "rmse_tr = []\n",
    "rmse_te = []\n",
    "\n",
    "k_indices = build_k_indices(y, k_fold, 1)\n",
    "for l in lambdas:\n",
    "    rmse_tr_tmp = []\n",
    "    rmse_te_tmp = []\n",
    "    for k in range(k_fold):\n",
    "        loss_tr, loss_te, w = cross_validation(y, x, k_indices, k, l, degree)\n",
    "        rmse_tr_tmp.append(loss_tr)\n",
    "        rmse_te_tmp.append(loss_te)\n",
    "    rmse_tr.append(np.mean(np.sqrt(2*rmse_tr_tmp)))\n",
    "    rmse_te.append(np.mean(np.sqrt(2*rmse_te_tmp)))\n",
    "\n",
    "\n",
    "#tx = build_poly(x, degree)\n",
    "#y_test = tx @ w\n",
    "#y_test[y_test >= 0] = 1\n",
    "#y_test[y_test < 0] = -1\n"
   ]
  },
  {
   "cell_type": "code",
   "execution_count": 243,
   "metadata": {},
   "outputs": [
    {
     "data": {
      "image/png": "[encoded data removed]",
      "text/plain": [
       "<Figure size 432x288 with 1 Axes>"
      ]
     },
     "metadata": {
      "needs_background": "light"
     },
     "output_type": "display_data"
    }
   ],
   "source": [
    "plt.semilogx(lambdas, rmse_tr, marker=\".\", color='b', label='train error')\n",
    "plt.semilogx(lambdas, rmse_te, marker=\".\", color='r', label='test error')\n",
    "plt.xlabel(\"lambda\")\n",
    "plt.ylabel(\"rmse\")\n",
    "plt.title(\"cross validation\")\n",
    "plt.legend(loc=2)\n",
    "plt.grid(True)"
   ]
  },
  {
   "cell_type": "code",
   "execution_count": 244,
   "metadata": {},
   "outputs": [
    {
     "data": {
      "text/plain": [
       "13"
      ]
     },
     "execution_count": 244,
     "metadata": {},
     "output_type": "execute_result"
    }
   ],
   "source": [
    "np.argmin(rmse_te)"
   ]
  },
  {
   "cell_type": "code",
   "execution_count": 245,
   "metadata": {},
   "outputs": [],
   "source": [
    "x_TEST = inputs_TEST[:,feature_cols]\n",
    "k_indices = build_k_indices(y_TEST, 2, 1)\n",
    "y_test = y_TEST[k_indices[0]]    \n",
    "x_test = x_TEST[k_indices[0]]\n",
    "\n",
    "y_train = np.delete(y_TEST, k_indices[0], axis=0)\n",
    "x_train = np.delete(x_TEST, k_indices[0], axis=0)\n",
    "tx_tr = build_poly(x_train, degree)\n",
    "tx_te = build_poly(x_test, degree)\n",
    "\n",
    "\n",
    "weights, mse = ridge_regression(y_train, tx_tr, lambdas[np.argmin(rmse_te)])\n"
   ]
  },
  {
   "cell_type": "code",
   "execution_count": 246,
   "metadata": {
    "scrolled": true
   },
   "outputs": [
    {
     "data": {
      "text/plain": [
       "array([-4.80873160e-01, -7.04727671e-03,  1.29094300e-04,  1.00267927e-01,\n",
       "       -1.40622465e-03, -2.72474000e-02,  1.10483791e-01,  2.23576447e-01,\n",
       "        6.68438430e-03, -1.32953703e-02])"
      ]
     },
     "execution_count": 246,
     "metadata": {},
     "output_type": "execute_result"
    }
   ],
   "source": [
    "weights"
   ]
  },
  {
   "cell_type": "code",
   "execution_count": 247,
   "metadata": {},
   "outputs": [
    {
     "name": "stdout",
     "output_type": "stream",
     "text": [
      "Total correct: 90329.0 \n",
      "Total incorrect: 34671.0 \n",
      "Correct percentage: 72.26320000000001 %\n",
      "-----------------------------\n",
      "Train RMSE: 0.8482002388076008 , Test RMSE: 0.8489966563103399\n"
     ]
    }
   ],
   "source": [
    "y_pred = predict_labels(weights, tx_te)\n",
    "ones_aux = np.ones(len(y_pred))\n",
    "correct = np.sum(ones_aux[np.equal(y_test, y_pred)])\n",
    "incorrect = len(y_pred)-correct\n",
    "perc = correct / len(y_pred) * 100\n",
    "print(\"Total correct:\", correct, \"\\nTotal incorrect:\", incorrect, \"\\nCorrect percentage:\", perc, \"%\")\n",
    "\n",
    "print(\"-----------------------------\")\n",
    "\n",
    "rmse_train = np.sqrt(2*compute_mse(y_train, tx_tr, weights))\n",
    "rmse_test = np.sqrt(2*compute_mse(y_test, tx_te, weights))\n",
    "print(\"Train RMSE:\", rmse_train, \", Test RMSE:\", rmse_test)\n"
   ]
  },
  {
   "cell_type": "markdown",
   "metadata": {},
   "source": [
    "4-th order linear model:\n",
    "$y = w_0+w_1x_1+\\dots+ w_nx_1^n +\\dots$"
   ]
  },
  {
   "cell_type": "code",
   "execution_count": 248,
   "metadata": {},
   "outputs": [],
   "source": [
    "x = inputs[:,feature_cols]\n",
    "degree = 4\n",
    "k_fold = 4\n",
    "lambdas = np.logspace(-4, 0, 30)\n",
    "rmse_tr = []\n",
    "rmse_te = []\n",
    "\n",
    "k_indices = build_k_indices(y, k_fold, 1)\n",
    "for l in lambdas:\n",
    "    rmse_tr_tmp = []\n",
    "    rmse_te_tmp = []\n",
    "    for k in range(k_fold):\n",
    "        loss_tr, loss_te, w = cross_validation(y, x, k_indices, k, l, degree)\n",
    "        rmse_tr_tmp.append(loss_tr)\n",
    "        rmse_te_tmp.append(loss_te)\n",
    "    rmse_tr.append(np.mean(np.sqrt(2*rmse_tr_tmp)))\n",
    "    rmse_te.append(np.mean(np.sqrt(2*rmse_te_tmp)))\n"
   ]
  },
  {
   "cell_type": "code",
   "execution_count": 249,
   "metadata": {
    "scrolled": true
   },
   "outputs": [
    {
     "data": {
      "image/png": "[encoded data removed]",
      "text/plain": [
       "<Figure size 432x288 with 1 Axes>"
      ]
     },
     "metadata": {
      "needs_background": "light"
     },
     "output_type": "display_data"
    }
   ],
   "source": [
    "plt.semilogx(lambdas, rmse_tr, marker=\".\", color='b', label='train error')\n",
    "plt.semilogx(lambdas, rmse_te, marker=\".\", color='r', label='test error')\n",
    "plt.xlabel(\"lambda\")\n",
    "plt.ylabel(\"rmse\")\n",
    "plt.title(\"cross validation\")\n",
    "plt.legend(loc=2)\n",
    "plt.grid(True)"
   ]
  },
  {
   "cell_type": "code",
   "execution_count": 250,
   "metadata": {
    "scrolled": true
   },
   "outputs": [
    {
     "data": {
      "text/plain": [
       "14"
      ]
     },
     "execution_count": 250,
     "metadata": {},
     "output_type": "execute_result"
    }
   ],
   "source": [
    "np.argmin(rmse_te)"
   ]
  },
  {
   "cell_type": "code",
   "execution_count": 251,
   "metadata": {},
   "outputs": [
    {
     "name": "stdout",
     "output_type": "stream",
     "text": [
      "(247500, 37)\n"
     ]
    }
   ],
   "source": [
    "x_TEST = inputs_TEST[:,feature_cols]\n",
    "k_indices = build_k_indices(y, 2, 18)\n",
    "y_test = y_TEST[k_indices[0]]    \n",
    "x_test = x_TEST[k_indices[0]]\n",
    "\n",
    "y_train = np.delete(y_TEST, k_indices[0], axis=0)\n",
    "x_train = np.delete(x_TEST, k_indices[0], axis=0)\n",
    "tx_tr = build_poly(x_train, degree)\n",
    "tx_te = build_poly(x_test, degree)\n",
    "\n",
    "print(tx_tr.shape)\n",
    "weights, mse = ridge_regression(y_train, tx_tr, lambdas[np.argmin(rmse_te)])\n"
   ]
  },
  {
   "cell_type": "code",
   "execution_count": 252,
   "metadata": {
    "scrolled": true
   },
   "outputs": [
    {
     "name": "stdout",
     "output_type": "stream",
     "text": [
      "Total correct: 1927.0 \n",
      "Total incorrect: 573.0 \n",
      "Correct percentage: 77.08 %\n",
      "-----------------------------\n",
      "Train RMSE: 0.8182367571755403 , Test RMSE: 0.7934685898866635\n"
     ]
    }
   ],
   "source": [
    "y_pred = predict_labels(weights, tx_te)\n",
    "ones_aux = np.ones(len(y_pred))\n",
    "correct = np.sum(ones_aux[np.equal(y_test, y_pred)])\n",
    "incorrect = len(y_pred)-correct\n",
    "perc = correct / len(y_pred) * 100\n",
    "print(\"Total correct:\", correct, \"\\nTotal incorrect:\", incorrect, \"\\nCorrect percentage:\", perc, \"%\")\n",
    "\n",
    "print(\"-----------------------------\")\n",
    "\n",
    "rmse_train = np.sqrt(2*compute_mse(y_train, tx_tr, weights))\n",
    "rmse_test = np.sqrt(2*compute_mse(y_test, tx_te, weights))\n",
    "print(\"Train RMSE:\", rmse_train, \", Test RMSE:\", rmse_test)\n",
    "\n"
   ]
  },
  {
   "cell_type": "markdown",
   "metadata": {},
   "source": [
    "A more complicated model:\n",
    "Order 2:\n",
    "$y=w_0 + w_1x_1 + w_2x_2 +w_3x_1^2 +w_4x_2^2+w_5x_1x_2+\\dots$"
   ]
  },
  {
   "cell_type": "code",
   "execution_count": 278,
   "metadata": {},
   "outputs": [],
   "source": [
    "def cross_validation_poly(y, tx, k_indices, k, lambda_, degree):\n",
    "    \"\"\"return the loss of ridge regression.\"\"\"\n",
    "    # ***************************************************\n",
    "    y_te = y[k_indices[k]]    \n",
    "    tx_te = tx[k_indices[k]]\n",
    "    \n",
    "    y_tr = np.delete(y, k_indices[k], axis=0)\n",
    "    tx_tr = np.delete(tx, k_indices[k], axis=0)\n",
    "    # get k'th subgroup in test, others in train: TODO\n",
    "    # ***************************************************\n",
    "    w, loss_tr = ridge_regression(y_tr, tx_tr, lambda_)\n",
    "    # ridge regression: TODO\n",
    "    # ***************************************************\n",
    "    loss_te = compute_mse(y_te, tx_te, w)\n",
    "    loss_tr = compute_mse(y_tr, tx_tr, w)\n",
    "    # calculate the loss for train and test data: TODO\n",
    "    # ***************************************************\n",
    "    return loss_tr, loss_te, w\n",
    "\n",
    "def build_poly_plus(y, x, degree):\n",
    "    poly = np.ones((len(x), 1))\n",
    "\n",
    "    for deg in range(1, degree+1):\n",
    "        if deg == 1:\n",
    "            poly = np.c_[poly, x]\n",
    "        else:\n",
    "            for i in it.combinations_with_replacement(range(x.shape[1]),degree):\n",
    "                poly = np.c_[poly, np.prod(x[:,i],1)]\n",
    "    return poly"
   ]
  },
  {
   "cell_type": "code",
   "execution_count": 285,
   "metadata": {
    "scrolled": true
   },
   "outputs": [],
   "source": [
    "x = inputs[:,feature_cols]\n",
    "degree = 2\n",
    "tx = build_poly_plus(y, x, degree)"
   ]
  },
  {
   "cell_type": "code",
   "execution_count": 286,
   "metadata": {},
   "outputs": [
    {
     "name": "stdout",
     "output_type": "stream",
     "text": [
      "0.0001\n",
      "0.00013738237958832623\n",
      "0.00018873918221350977\n",
      "0.0002592943797404667\n",
      "0.0003562247890262444\n",
      "0.0004893900918477494\n",
      "0.0006723357536499335\n",
      "0.0009236708571873865\n",
      "0.0012689610031679222\n",
      "0.0017433288221999873\n",
      "0.002395026619987486\n",
      "0.0032903445623126675\n",
      "0.004520353656360241\n",
      "0.006210169418915616\n",
      "0.008531678524172805\n",
      "0.011721022975334805\n",
      "0.01610262027560939\n",
      "0.02212216291070448\n",
      "0.03039195382313198\n",
      "0.041753189365604\n",
      "0.05736152510448681\n",
      "0.07880462815669913\n",
      "0.1082636733874054\n",
      "0.14873521072935117\n",
      "0.20433597178569418\n",
      "0.2807216203941176\n",
      "0.38566204211634725\n",
      "0.5298316906283708\n",
      "0.7278953843983146\n",
      "1.0\n"
     ]
    }
   ],
   "source": [
    "k_fold = 4\n",
    "lambdas = np.logspace(-4, 0, 30)\n",
    "\n",
    "rmse_tr = []\n",
    "rmse_te = []\n",
    "\n",
    "k_indices = build_k_indices(y, k_fold, 1)\n",
    "for l in lambdas:\n",
    "    print(l)\n",
    "    rmse_tr_tmp = []\n",
    "    rmse_te_tmp = []\n",
    "    for k in range(k_fold):\n",
    "        loss_tr, loss_te, w = cross_validation_poly(y, tx, k_indices, k, l, degree)\n",
    "        rmse_tr_tmp.append(loss_tr)\n",
    "        rmse_te_tmp.append(loss_te)\n",
    "    rmse_tr.append(np.mean(np.sqrt(2*rmse_tr_tmp)))\n",
    "    rmse_te.append(np.mean(np.sqrt(2*rmse_te_tmp)))\n",
    "\n"
   ]
  },
  {
   "cell_type": "code",
   "execution_count": 287,
   "metadata": {},
   "outputs": [
    {
     "data": {
      "image/png": "[encoded data removed]",
      "text/plain": [
       "<Figure size 432x288 with 1 Axes>"
      ]
     },
     "metadata": {
      "needs_background": "light"
     },
     "output_type": "display_data"
    }
   ],
   "source": [
    "plt.semilogx(lambdas, rmse_tr, marker=\".\", color='b', label='train error')\n",
    "plt.semilogx(lambdas, rmse_te, marker=\".\", color='r', label='test error')\n",
    "plt.xlabel(\"lambda\")\n",
    "plt.ylabel(\"rmse\")\n",
    "plt.title(\"cross validation\")\n",
    "plt.legend(loc=2)\n",
    "plt.grid(True)"
   ]
  },
  {
   "cell_type": "code",
   "execution_count": 288,
   "metadata": {},
   "outputs": [
    {
     "data": {
      "text/plain": [
       "14"
      ]
     },
     "execution_count": 288,
     "metadata": {},
     "output_type": "execute_result"
    }
   ],
   "source": [
    "np.argmin(rmse_te)"
   ]
  },
  {
   "cell_type": "code",
   "execution_count": 289,
   "metadata": {},
   "outputs": [
    {
     "name": "stdout",
     "output_type": "stream",
     "text": [
      "(125000, 55)\n"
     ]
    }
   ],
   "source": [
    "tx_TEST = build_poly_plus(y_TEST, inputs_TEST[:,feature_cols], degree)\n",
    "\n",
    "k_indices = build_k_indices(y_TEST, 2, 17)\n",
    "y_test = y_TEST[k_indices[0]]    \n",
    "tx_test = tx_TEST[k_indices[0]]\n",
    "\n",
    "y_train = np.delete(y_TEST, k_indices[0], axis=0)\n",
    "tx_train = np.delete(tx_TEST, k_indices[0], axis=0)\n",
    "\n",
    "print(tx_train.shape)\n",
    "weights, mse = ridge_regression(y_train, tx_train, lambdas[np.argmin(rmse_te)])\n"
   ]
  },
  {
   "cell_type": "code",
   "execution_count": 290,
   "metadata": {},
   "outputs": [
    {
     "name": "stdout",
     "output_type": "stream",
     "text": [
      "Total correct: 93915.0 \n",
      "Total incorrect: 31085.0 \n",
      "Correct percentage: 75.132 %\n",
      "-----------------------------\n",
      "Train RMSE: 0.813619403791786 , Test RMSE: 0.875458132326284\n"
     ]
    }
   ],
   "source": [
    "y_pred = predict_labels(weights, tx_test)\n",
    "ones_aux = np.ones(len(y_pred))\n",
    "correct = np.sum(ones_aux[np.equal(y_test, y_pred)])\n",
    "incorrect = len(y_pred)-correct\n",
    "perc = correct / len(y_pred) * 100\n",
    "print(\"Total correct:\", correct, \"\\nTotal incorrect:\", incorrect, \"\\nCorrect percentage:\", perc, \"%\")\n",
    "\n",
    "print(\"-----------------------------\")\n",
    "\n",
    "rmse_train = np.sqrt(2*compute_mse(y_train, tx_train, weights))\n",
    "rmse_test = np.sqrt(2*compute_mse(y_test, tx_test, weights))\n",
    "print(\"Train RMSE:\", rmse_train, \", Test RMSE:\", rmse_test)\n",
    "\n"
   ]
  },
  {
   "cell_type": "markdown",
   "metadata": {},
   "source": [
    "# Test set"
   ]
  },
  {
   "cell_type": "code",
   "execution_count": 348,
   "metadata": {},
   "outputs": [],
   "source": [
    "y_test, inputs_test, ids_test = load_csv_data('test.csv', sub_sample=False)"
   ]
  },
  {
   "cell_type": "code",
   "execution_count": 349,
   "metadata": {
    "scrolled": true
   },
   "outputs": [
    {
     "name": "stdout",
     "output_type": "stream",
     "text": [
      "Proportion of missing data in each feature: \n",
      " [0.15220383 0.         0.         0.         0.70885087 0.70885087\n",
      " 0.70885087 0.         0.         0.         0.         0.\n",
      " 0.70885087 0.         0.         0.         0.         0.\n",
      " 0.         0.         0.         0.         0.         0.4002865\n",
      " 0.4002865  0.4002865  0.70885087 0.70885087 0.70885087 0.        ]\n"
     ]
    }
   ],
   "source": [
    "print('Proportion of missing data in each feature: \\n', np.count_nonzero(inputs_test== -999,0)/len(y_test) )"
   ]
  },
  {
   "cell_type": "code",
   "execution_count": 350,
   "metadata": {},
   "outputs": [
    {
     "data": {
      "text/plain": [
       "array([ 4.92583872e+01,  5.78290937e+01, -7.07441800e+02,  1.89926203e+01,\n",
       "        1.43928858e+00, -1.26825167e-01, -7.08008508e+02,  3.86940752e+01,\n",
       "        9.80251233e-01])"
      ]
     },
     "execution_count": 350,
     "metadata": {},
     "output_type": "execute_result"
    }
   ],
   "source": [
    "np.mean(inputs_test[:,feature_cols],0)"
   ]
  },
  {
   "cell_type": "code",
   "execution_count": 351,
   "metadata": {},
   "outputs": [],
   "source": [
    "input_data_na = inputs_test.copy()\n",
    "for col in feature_cols: \n",
    "    input_data_na = input_data_na[~(input_data_na[:,col]==-999)]\n",
    "mean = np.mean(input_data_na,0)\n",
    "for i in feature_cols:\n",
    "    if any(inputs_test[:,i] == -999):\n",
    "        np.place(inputs_test[:,i], inputs_test[:,i] == -999, mean[i])"
   ]
  },
  {
   "cell_type": "code",
   "execution_count": 352,
   "metadata": {},
   "outputs": [
    {
     "data": {
      "text/plain": [
       "array([49.25838724, 57.8290937 ,  2.40501628, 18.99262028,  1.43928858,\n",
       "       -0.12682517,  0.4585633 , 38.69407516,  0.98025123])"
      ]
     },
     "execution_count": 352,
     "metadata": {},
     "output_type": "execute_result"
    }
   ],
   "source": [
    "np.mean(inputs_test[:,feature_cols],0)"
   ]
  },
  {
   "cell_type": "code",
   "execution_count": 175,
   "metadata": {},
   "outputs": [
    {
     "data": {
      "text/plain": [
       "(568238, 10)"
      ]
     },
     "execution_count": 175,
     "metadata": {},
     "output_type": "execute_result"
    }
   ],
   "source": [
    "tx_test = build_poly(inputs_test[:,feature_cols], degree)\n",
    "tx_test.shape\n",
    "#tx = build_poly_plus(y, inputs_test[:,feature_cols], degree)"
   ]
  },
  {
   "cell_type": "code",
   "execution_count": 176,
   "metadata": {},
   "outputs": [
    {
     "data": {
      "text/plain": [
       "(568238,)"
      ]
     },
     "execution_count": 176,
     "metadata": {},
     "output_type": "execute_result"
    }
   ],
   "source": [
    "y_pred = predict_labels(weights, tx)\n",
    "y_pred.shape"
   ]
  },
  {
   "cell_type": "code",
   "execution_count": 178,
   "metadata": {},
   "outputs": [],
   "source": [
    "create_csv_submission(ids_test, y_pred, 'prediction.csv')\n"
   ]
  },
  {
   "cell_type": "code",
   "execution_count": 52,
   "metadata": {},
   "outputs": [
    {
     "data": {
      "text/plain": [
       "568238"
      ]
     },
     "execution_count": 52,
     "metadata": {},
     "output_type": "execute_result"
    }
   ],
   "source": [
    "Result=pd.read_csv('prediction.csv')\n",
    "len(Result)"
   ]
  },
  {
   "cell_type": "code",
   "execution_count": null,
   "metadata": {},
   "outputs": [],
   "source": []
  }
 ],
 "metadata": {
  "kernelspec": {
   "display_name": "Python 3",
   "language": "python",
   "name": "python3"
  },
  "language_info": {
   "codemirror_mode": {
    "name": "ipython",
    "version": 3
   },
   "file_extension": ".py",
   "mimetype": "text/x-python",
   "name": "python",
   "nbconvert_exporter": "python",
   "pygments_lexer": "ipython3",
   "version": "3.7.0"
  }
 },
 "nbformat": 4,
 "nbformat_minor": 2
}
