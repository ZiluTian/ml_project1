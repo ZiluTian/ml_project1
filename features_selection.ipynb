{
 "cells": [
  {
   "cell_type": "code",
   "execution_count": 2,
   "metadata": {},
   "outputs": [
    {
     "data": {
      "text/html": [
       "<div>\n",
       "<style scoped>\n",
       "    .dataframe tbody tr th:only-of-type {\n",
       "        vertical-align: middle;\n",
       "    }\n",
       "\n",
       "    .dataframe tbody tr th {\n",
       "        vertical-align: top;\n",
       "    }\n",
       "\n",
       "    .dataframe thead th {\n",
       "        text-align: right;\n",
       "    }\n",
       "</style>\n",
       "<table border=\"1\" class=\"dataframe\">\n",
       "  <thead>\n",
       "    <tr style=\"text-align: right;\">\n",
       "      <th></th>\n",
       "      <th>Id</th>\n",
       "      <th>Prediction</th>\n",
       "      <th>DER_mass_MMC</th>\n",
       "      <th>DER_mass_transverse_met_lep</th>\n",
       "      <th>DER_mass_vis</th>\n",
       "      <th>DER_pt_h</th>\n",
       "      <th>DER_deltaeta_jet_jet</th>\n",
       "      <th>DER_mass_jet_jet</th>\n",
       "      <th>DER_prodeta_jet_jet</th>\n",
       "      <th>DER_deltar_tau_lep</th>\n",
       "      <th>...</th>\n",
       "      <th>PRI_met_phi</th>\n",
       "      <th>PRI_met_sumet</th>\n",
       "      <th>PRI_jet_num</th>\n",
       "      <th>PRI_jet_leading_pt</th>\n",
       "      <th>PRI_jet_leading_eta</th>\n",
       "      <th>PRI_jet_leading_phi</th>\n",
       "      <th>PRI_jet_subleading_pt</th>\n",
       "      <th>PRI_jet_subleading_eta</th>\n",
       "      <th>PRI_jet_subleading_phi</th>\n",
       "      <th>PRI_jet_all_pt</th>\n",
       "    </tr>\n",
       "  </thead>\n",
       "  <tbody>\n",
       "    <tr>\n",
       "      <th>0</th>\n",
       "      <td>100000</td>\n",
       "      <td>1</td>\n",
       "      <td>0.257671</td>\n",
       "      <td>0.532835</td>\n",
       "      <td>0.474611</td>\n",
       "      <td>-1.093454</td>\n",
       "      <td>-0.870648</td>\n",
       "      <td>-0.632428</td>\n",
       "      <td>0.987313</td>\n",
       "      <td>1.378045</td>\n",
       "      <td>...</td>\n",
       "      <td>-0.156564</td>\n",
       "      <td>-0.542982</td>\n",
       "      <td>-0.660444</td>\n",
       "      <td>-0.578666</td>\n",
       "      <td>1.234399</td>\n",
       "      <td>0.251795</td>\n",
       "      <td>-0.367844</td>\n",
       "      <td>0.612965</td>\n",
       "      <td>-1.359329</td>\n",
       "      <td>-0.645152</td>\n",
       "    </tr>\n",
       "    <tr>\n",
       "      <th>1</th>\n",
       "      <td>100005</td>\n",
       "      <td>-1</td>\n",
       "      <td>-0.544388</td>\n",
       "      <td>-0.706350</td>\n",
       "      <td>-0.475044</td>\n",
       "      <td>0.064383</td>\n",
       "      <td>0.115251</td>\n",
       "      <td>-0.233525</td>\n",
       "      <td>0.094923</td>\n",
       "      <td>-0.819132</td>\n",
       "      <td>...</td>\n",
       "      <td>1.229416</td>\n",
       "      <td>-0.370559</td>\n",
       "      <td>1.514133</td>\n",
       "      <td>-0.239608</td>\n",
       "      <td>-1.377788</td>\n",
       "      <td>-0.354529</td>\n",
       "      <td>-0.054320</td>\n",
       "      <td>0.115912</td>\n",
       "      <td>1.711823</td>\n",
       "      <td>0.094961</td>\n",
       "    </tr>\n",
       "    <tr>\n",
       "      <th>2</th>\n",
       "      <td>100006</td>\n",
       "      <td>1</td>\n",
       "      <td>0.426952</td>\n",
       "      <td>-0.208400</td>\n",
       "      <td>0.719034</td>\n",
       "      <td>-0.069451</td>\n",
       "      <td>-0.971751</td>\n",
       "      <td>-0.548472</td>\n",
       "      <td>0.276686</td>\n",
       "      <td>1.219260</td>\n",
       "      <td>...</td>\n",
       "      <td>-0.799385</td>\n",
       "      <td>-0.290304</td>\n",
       "      <td>-0.660444</td>\n",
       "      <td>0.236631</td>\n",
       "      <td>0.498040</td>\n",
       "      <td>0.807823</td>\n",
       "      <td>-0.032535</td>\n",
       "      <td>0.070414</td>\n",
       "      <td>-1.520013</td>\n",
       "      <td>-0.032292</td>\n",
       "    </tr>\n",
       "    <tr>\n",
       "      <th>3</th>\n",
       "      <td>100011</td>\n",
       "      <td>-1</td>\n",
       "      <td>-0.132873</td>\n",
       "      <td>-0.812497</td>\n",
       "      <td>-0.068375</td>\n",
       "      <td>-1.056294</td>\n",
       "      <td>0.073553</td>\n",
       "      <td>-0.313332</td>\n",
       "      <td>-0.144736</td>\n",
       "      <td>1.150840</td>\n",
       "      <td>...</td>\n",
       "      <td>1.180350</td>\n",
       "      <td>-0.315521</td>\n",
       "      <td>1.514133</td>\n",
       "      <td>-0.441676</td>\n",
       "      <td>-0.449036</td>\n",
       "      <td>0.173863</td>\n",
       "      <td>-0.032256</td>\n",
       "      <td>0.873721</td>\n",
       "      <td>-1.141415</td>\n",
       "      <td>-0.163737</td>\n",
       "    </tr>\n",
       "    <tr>\n",
       "      <th>4</th>\n",
       "      <td>100023</td>\n",
       "      <td>1</td>\n",
       "      <td>0.307234</td>\n",
       "      <td>-1.123065</td>\n",
       "      <td>0.812311</td>\n",
       "      <td>0.820835</td>\n",
       "      <td>-0.273740</td>\n",
       "      <td>-0.034514</td>\n",
       "      <td>-0.011685</td>\n",
       "      <td>-0.853987</td>\n",
       "      <td>...</td>\n",
       "      <td>-0.540272</td>\n",
       "      <td>0.858731</td>\n",
       "      <td>-0.660444</td>\n",
       "      <td>1.300559</td>\n",
       "      <td>0.665238</td>\n",
       "      <td>0.789031</td>\n",
       "      <td>0.762212</td>\n",
       "      <td>-0.384076</td>\n",
       "      <td>-1.529918</td>\n",
       "      <td>0.873721</td>\n",
       "    </tr>\n",
       "  </tbody>\n",
       "</table>\n",
       "<p>5 rows × 32 columns</p>\n",
       "</div>"
      ],
      "text/plain": [
       "       Id  Prediction  DER_mass_MMC  DER_mass_transverse_met_lep  \\\n",
       "0  100000           1      0.257671                     0.532835   \n",
       "1  100005          -1     -0.544388                    -0.706350   \n",
       "2  100006           1      0.426952                    -0.208400   \n",
       "3  100011          -1     -0.132873                    -0.812497   \n",
       "4  100023           1      0.307234                    -1.123065   \n",
       "\n",
       "   DER_mass_vis  DER_pt_h  DER_deltaeta_jet_jet  DER_mass_jet_jet  \\\n",
       "0      0.474611 -1.093454             -0.870648         -0.632428   \n",
       "1     -0.475044  0.064383              0.115251         -0.233525   \n",
       "2      0.719034 -0.069451             -0.971751         -0.548472   \n",
       "3     -0.068375 -1.056294              0.073553         -0.313332   \n",
       "4      0.812311  0.820835             -0.273740         -0.034514   \n",
       "\n",
       "   DER_prodeta_jet_jet  DER_deltar_tau_lep       ...        PRI_met_phi  \\\n",
       "0             0.987313            1.378045       ...          -0.156564   \n",
       "1             0.094923           -0.819132       ...           1.229416   \n",
       "2             0.276686            1.219260       ...          -0.799385   \n",
       "3            -0.144736            1.150840       ...           1.180350   \n",
       "4            -0.011685           -0.853987       ...          -0.540272   \n",
       "\n",
       "   PRI_met_sumet  PRI_jet_num  PRI_jet_leading_pt  PRI_jet_leading_eta  \\\n",
       "0      -0.542982    -0.660444           -0.578666             1.234399   \n",
       "1      -0.370559     1.514133           -0.239608            -1.377788   \n",
       "2      -0.290304    -0.660444            0.236631             0.498040   \n",
       "3      -0.315521     1.514133           -0.441676            -0.449036   \n",
       "4       0.858731    -0.660444            1.300559             0.665238   \n",
       "\n",
       "   PRI_jet_leading_phi  PRI_jet_subleading_pt  PRI_jet_subleading_eta  \\\n",
       "0             0.251795              -0.367844                0.612965   \n",
       "1            -0.354529              -0.054320                0.115912   \n",
       "2             0.807823              -0.032535                0.070414   \n",
       "3             0.173863              -0.032256                0.873721   \n",
       "4             0.789031               0.762212               -0.384076   \n",
       "\n",
       "   PRI_jet_subleading_phi  PRI_jet_all_pt  \n",
       "0               -1.359329       -0.645152  \n",
       "1                1.711823        0.094961  \n",
       "2               -1.520013       -0.032292  \n",
       "3               -1.141415       -0.163737  \n",
       "4               -1.529918        0.873721  \n",
       "\n",
       "[5 rows x 32 columns]"
      ]
     },
     "execution_count": 2,
     "metadata": {},
     "output_type": "execute_result"
    }
   ],
   "source": [
    "import pandas as pd, matplotlib.pyplot as plt, pylab as pl, seaborn as sbs\n",
    "libPath = 'project1/scripts'\n",
    "import sys\n",
    "if not libPath in sys.path: sys.path.append(libPath)\n",
    "from implementations import *\n",
    "# Use a subset \n",
    "df = pd.read_csv(\"clean_train_data.csv\")[0:200]\n",
    "df.head()"
   ]
  },
  {
   "cell_type": "code",
   "execution_count": 3,
   "metadata": {},
   "outputs": [
    {
     "data": {
      "text/plain": [
       "200"
      ]
     },
     "execution_count": 3,
     "metadata": {},
     "output_type": "execute_result"
    }
   ],
   "source": [
    "col_labels = df.columns.tolist()\n",
    "N_FEATURES = len(col_labels) - 2\n",
    "N_DATA = len(df)\n",
    "N_DATA"
   ]
  },
  {
   "cell_type": "code",
   "execution_count": 30,
   "metadata": {
    "scrolled": false
   },
   "outputs": [],
   "source": [
    "y = np.array(df[col_labels[1]])\n",
    "loss_vec = np.zeros(N_FEATURES)\n",
    "loss_te_vec = np.zeros(N_FEATURES)\n",
    "w_vec = np.zeros([N_FEATURES, 2])\n",
    "\n",
    "\n",
    "\n",
    "for i in np.arange(N_FEATURES):\n",
    "    x = np.array(df[col_labels[i + 2]])\n",
    "    \n",
    "    x_tr, y_tr, x_te, y_te = split_data(x ,y, 0.8)\n",
    "    \n",
    "    tx_tr = build_poly(x_tr, 1)\n",
    "    tx_te = build_poly(x_te, 1)\n",
    "    \n",
    "    w_vec[i], loss_vec[i] = least_squares(y_tr, tx_tr)\n",
    "    \n",
    "    y_test = tx_te @ w_vec[i]\n",
    "    y_test[y_test >= 0] = 1\n",
    "    y_test[y_test < 0] = -1\n",
    "    loss_te_vec[i] = (y_te - y_test) @ (y_te - y_test) "
   ]
  },
  {
   "cell_type": "code",
   "execution_count": 31,
   "metadata": {},
   "outputs": [
    {
     "data": {
      "text/plain": [
       "array([72., 64., 80., 72., 64., 68., 60., 64., 56., 80., 60., 64., 48.,\n",
       "       68., 68., 56., 64., 68., 64., 68., 64., 68., 52., 80., 80., 72.,\n",
       "       64., 68., 64., 80.])"
      ]
     },
     "execution_count": 31,
     "metadata": {},
     "output_type": "execute_result"
    }
   ],
   "source": [
    "loss_te_vec"
   ]
  },
  {
   "cell_type": "code",
   "execution_count": 127,
   "metadata": {},
   "outputs": [
    {
     "data": {
      "text/plain": [
       "'DER_pt_ratio_lep_tau'"
      ]
     },
     "execution_count": 127,
     "metadata": {},
     "output_type": "execute_result"
    }
   ],
   "source": [
    "col_labels[np.argmin(loss_te_vec)]"
   ]
  },
  {
   "cell_type": "code",
   "execution_count": 32,
   "metadata": {
    "scrolled": true
   },
   "outputs": [
    {
     "data": {
      "text/plain": [
       "<matplotlib.collections.PathCollection at 0x106633470>"
      ]
     },
     "execution_count": 32,
     "metadata": {},
     "output_type": "execute_result"
    },
    {
     "data": {
      "image/png": "[encoded data removed]",
      "text/plain": [
       "<Figure size 432x288 with 1 Axes>"
      ]
     },
     "metadata": {
      "needs_background": "light"
     },
     "output_type": "display_data"
    }
   ],
   "source": [
    "x = np.array(df[col_labels[np.argmin(loss_te_vec) + 2]])\n",
    "\n",
    "tx_tr = build_poly(x_tr, 1)\n",
    "tx_te = build_poly(x_te, 1)\n",
    "x_tr, y_tr, x_te, y_te = split_data(x ,y, 0.8)\n",
    "\n",
    "y_test = tx_te @ w_vec[np.argmin(loss_te_vec) ]\n",
    "y_test[y_test >= 0] = 1\n",
    "y_test[y_test < 0] = -1\n",
    "\n",
    "plt.scatter(x_te,y_te)\n",
    "plt.scatter(x_te,y_test, marker='+')"
   ]
  },
  {
   "cell_type": "code",
   "execution_count": 33,
   "metadata": {},
   "outputs": [
    {
     "data": {
      "text/plain": [
       "array([-0.08857582,  0.20305   ])"
      ]
     },
     "execution_count": 33,
     "metadata": {},
     "output_type": "execute_result"
    }
   ],
   "source": [
    "w_vec[np.argmin(loss_te_vec)]"
   ]
  },
  {
   "cell_type": "code",
   "execution_count": 135,
   "metadata": {
    "scrolled": false
   },
   "outputs": [
    {
     "name": "stdout",
     "output_type": "stream",
     "text": [
      "single feature loss 72.0\n",
      "combined feature loss 0 52.0\n",
      "single feature loss 64.0\n",
      "combined feature loss 1 56.0\n",
      "single feature loss 80.0\n",
      "combined feature loss 2 52.0\n",
      "single feature loss 72.0\n",
      "combined feature loss 3 64.0\n",
      "single feature loss 64.0\n",
      "combined feature loss 4 48.0\n",
      "single feature loss 68.0\n",
      "combined feature loss 5 60.0\n",
      "single feature loss 60.0\n",
      "combined feature loss 6 48.0\n",
      "single feature loss 64.0\n",
      "combined feature loss 7 44.0\n",
      "single feature loss 56.0\n",
      "combined feature loss 8 44.0\n",
      "single feature loss 80.0\n",
      "combined feature loss 9 72.0\n",
      "single feature loss 60.0\n",
      "combined feature loss 10 56.0\n",
      "single feature loss 64.0\n",
      "combined feature loss 11 52.0\n",
      "single feature loss 68.0\n",
      "combined feature loss 13 48.0\n",
      "single feature loss 68.0\n",
      "combined feature loss 14 48.0\n",
      "single feature loss 56.0\n",
      "combined feature loss 15 64.0\n",
      "single feature loss 64.0\n",
      "combined feature loss 16 48.0\n",
      "single feature loss 68.0\n",
      "combined feature loss 17 44.0\n",
      "single feature loss 64.0\n",
      "combined feature loss 18 48.0\n",
      "single feature loss 68.0\n",
      "combined feature loss 19 52.0\n",
      "single feature loss 64.0\n",
      "combined feature loss 20 52.0\n",
      "single feature loss 68.0\n",
      "combined feature loss 21 56.0\n",
      "single feature loss 52.0\n",
      "combined feature loss 22 36.0\n",
      "single feature loss 80.0\n",
      "combined feature loss 23 68.0\n",
      "single feature loss 80.0\n",
      "combined feature loss 24 60.0\n",
      "single feature loss 72.0\n",
      "combined feature loss 25 48.0\n",
      "single feature loss 64.0\n",
      "combined feature loss 26 48.0\n",
      "single feature loss 68.0\n",
      "combined feature loss 27 52.0\n",
      "single feature loss 64.0\n",
      "combined feature loss 28 48.0\n",
      "single feature loss 80.0\n",
      "combined feature loss 29 64.0\n"
     ]
    }
   ],
   "source": [
    "queue = np.delete(np.arange(N_FEATURES), 12)\n",
    "x0 = np.array(df[col_labels[12 + 2]])[:,np.newaxis]\n",
    "lossls0=loss_te_vec[12]\n",
    "\n",
    "w_vec = []\n",
    "loss_tr_vec = []\n",
    "loss_t_vec = []\n",
    "\n",
    "\n",
    "for i in queue: \n",
    "    x=np.concatenate((x0, np.array(df[col_labels[2+i]])[:,np.newaxis]), axis=1)\n",
    "    print('single feature loss', loss_te_vec[i])\n",
    "    x_tr, y_tr, x_te, y_te = split_data(x ,y, 0.8)\n",
    "    \n",
    "    tx_tr = build_poly(x_tr, 1)\n",
    "    tx_te = build_poly(x_te, 1)\n",
    "    wls, lossls = least_squares(y_tr, tx_tr)\n",
    "    w_vec.append(wls)\n",
    "    loss_tr_vec.append(lossls)\n",
    "    \n",
    "    y_test = tx_te @ wls\n",
    "    y_test[y_test >= 0] = 1\n",
    "    y_test[y_test < 0] = -1\n",
    "    loss_te = (y_te - y_test) @ (y_te - y_test)\n",
    "    loss_t_vec.append(loss_te)\n",
    "    print('combined feature loss',i, loss_te)\n",
    "    lossls0 = loss_te\n",
    "    \n"
   ]
  },
  {
   "cell_type": "code",
   "execution_count": 147,
   "metadata": {
    "scrolled": false
   },
   "outputs": [
    {
     "data": {
      "image/png": "[encoded data removed]",
      "text/plain": [
       "<Figure size 432x288 with 1 Axes>"
      ]
     },
     "metadata": {
      "needs_background": "light"
     },
     "output_type": "display_data"
    }
   ],
   "source": [
    "loss_te_vec_aux = np.delete(loss_te_vec,12)\n",
    "plt.scatter(loss_t_vec,loss_te_vec_aux)\n",
    "plt.xlabel('Two feature loss')\n",
    "plt.ylabel('Single feature loss')\n",
    "for i in np.arange(30):\n",
    "    if i>12:\n",
    "        plt.annotate(i, (loss_t_vec[i-1], loss_te_vec_aux[i-1]))\n",
    "    if i<12:\n",
    "        plt.annotate(i, (loss_t_vec[i], loss_te_vec_aux[i]))\n",
    "plt.savefig('Figures/2featureloss.png')\n",
    "\n"
   ]
  },
  {
   "cell_type": "markdown",
   "metadata": {},
   "source": [
    "# Playing with polynomial degrees"
   ]
  },
  {
   "cell_type": "code",
   "execution_count": 155,
   "metadata": {},
   "outputs": [
    {
     "data": {
      "text/plain": [
       "array([ 1,  5,  8, 10, 11, 12, 13, 17, 22, 25])"
      ]
     },
     "execution_count": 155,
     "metadata": {},
     "output_type": "execute_result"
    }
   ],
   "source": [
    "features=np.array([2, 6, 9, 11, 12, 13, 14, 18, 23, 26])-1\n",
    "features"
   ]
  },
  {
   "cell_type": "code",
   "execution_count": 157,
   "metadata": {},
   "outputs": [
    {
     "ename": "TypeError",
     "evalue": "list indices must be integers or slices, not tuple",
     "output_type": "error",
     "traceback": [
      "\u001b[0;31m---------------------------------------------------------------------------\u001b[0m",
      "\u001b[0;31mTypeError\u001b[0m                                 Traceback (most recent call last)",
      "\u001b[0;32m<ipython-input-157-c0b6ffa4fe68>\u001b[0m in \u001b[0;36m<module>\u001b[0;34m\u001b[0m\n\u001b[0;32m----> 1\u001b[0;31m \u001b[0mcol_labels\u001b[0m\u001b[0;34m[\u001b[0m\u001b[0;36m1\u001b[0m\u001b[0;34m,\u001b[0m\u001b[0;36m2\u001b[0m\u001b[0;34m]\u001b[0m\u001b[0;34m\u001b[0m\u001b[0m\n\u001b[0m\u001b[1;32m      2\u001b[0m \u001b[0;34m\u001b[0m\u001b[0m\n",
      "\u001b[0;31mTypeError\u001b[0m: list indices must be integers or slices, not tuple"
     ]
    }
   ],
   "source": [
    "for feat in features:\n",
    "    \n"
   ]
  }
 ],
 "metadata": {
  "kernelspec": {
   "display_name": "Python 3",
   "language": "python",
   "name": "python3"
  },
  "language_info": {
   "codemirror_mode": {
    "name": "ipython",
    "version": 3
   },
   "file_extension": ".py",
   "mimetype": "text/x-python",
   "name": "python",
   "nbconvert_exporter": "python",
   "pygments_lexer": "ipython3",
   "version": "3.7.0"
  }
 },
 "nbformat": 4,
 "nbformat_minor": 2
}
