{
 "cells": [
  {
   "cell_type": "code",
   "execution_count": 79,
   "metadata": {},
   "outputs": [],
   "source": [
    "# This is the test script for the final submission \n",
    "# No external library other than numpy is allowed \n",
    "\n",
    "# sys is only used to point to the correct folder\n",
    "import sys\n",
    "sys.path.insert(0, 'project1/scripts')\n",
    "\n",
    "# import all the functions from the helper module \n",
    "from proj1_helpers import *\n",
    "from implementations import *\n",
    "# numpy has been included in the proj1_helpers module\n",
    "# Use np directly "
   ]
  },
  {
   "cell_type": "code",
   "execution_count": 67,
   "metadata": {},
   "outputs": [],
   "source": [
    "# sub_sample: take only first 50 data points \n",
    "yb, input_data, ids = load_csv_data(\"test.csv\", sub_sample=False)\n"
   ]
  },
  {
   "cell_type": "code",
   "execution_count": 68,
   "metadata": {},
   "outputs": [
    {
     "name": "stdout",
     "output_type": "stream",
     "text": [
      "The dimension of yb is (568238,)\n",
      "[1. 1. 1. ... 1. 1. 1.]\n",
      "The dimension of input data is (568238, 30)\n",
      "[[-999.      79.589   23.916 ... -999.    -999.       0.   ]\n",
      " [ 106.398   67.49    87.949 ... -999.    -999.      47.575]\n",
      " [ 117.794   56.226   96.358 ... -999.    -999.       0.   ]\n",
      " ...\n",
      " [ 108.497    9.837   65.149 ... -999.    -999.       0.   ]\n",
      " [  96.711   20.006   66.942 ... -999.    -999.      30.863]\n",
      " [  92.373   80.109   77.619 ... -999.    -999.       0.   ]]\n",
      "The dimension of ids is (568238,)\n",
      "[350000 350001 350002 ... 918235 918236 918237]\n"
     ]
    }
   ],
   "source": [
    "# yb: class label (s=1, b=-1)\n",
    "print(\"The dimension of yb is\", yb.shape)\n",
    "print(yb)\n",
    "# Features \n",
    "print(\"The dimension of input data is\", input_data.shape)\n",
    "print(input_data)\n",
    "# ids: event ids  \n",
    "print(\"The dimension of ids is\", ids.shape)\n",
    "print(ids)"
   ]
  },
  {
   "cell_type": "code",
   "execution_count": 74,
   "metadata": {},
   "outputs": [],
   "source": [
    "w = np.load('weights.npy')"
   ]
  },
  {
   "cell_type": "code",
   "execution_count": 75,
   "metadata": {},
   "outputs": [],
   "source": [
    "features = [1, 5, 8, 10, 11, 12, 13, 17, 22, 25]"
   ]
  },
  {
   "cell_type": "code",
   "execution_count": 81,
   "metadata": {},
   "outputs": [],
   "source": [
    "tx = build_poly(input_data[:,features], 1)\n",
    "\n",
    "y_pred = predict_labels(w, tx)"
   ]
  },
  {
   "cell_type": "code",
   "execution_count": 82,
   "metadata": {},
   "outputs": [],
   "source": [
    "create_csv_submission(ids, y_pred, \"prediction.csv\")"
   ]
  },
  {
   "cell_type": "code",
   "execution_count": null,
   "metadata": {},
   "outputs": [],
   "source": []
  },
  {
   "cell_type": "code",
   "execution_count": null,
   "metadata": {},
   "outputs": [],
   "source": []
  }
 ],
 "metadata": {
  "kernelspec": {
   "display_name": "Python 3",
   "language": "python",
   "name": "python3"
  },
  "language_info": {
   "codemirror_mode": {
    "name": "ipython",
    "version": 3
   },
   "file_extension": ".py",
   "mimetype": "text/x-python",
   "name": "python",
   "nbconvert_exporter": "python",
   "pygments_lexer": "ipython3",
   "version": "3.7.0"
  }
 },
 "nbformat": 4,
 "nbformat_minor": 2
}
