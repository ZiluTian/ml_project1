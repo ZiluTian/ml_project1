{
 "cells": [
  {
   "cell_type": "markdown",
   "metadata": {},
   "source": [
    "# This is the notebook for K-Nearest Neighbors "
   ]
  },
  {
   "cell_type": "code",
   "execution_count": 1,
   "metadata": {},
   "outputs": [],
   "source": [
    "%load_ext autoreload\n",
    "%autoreload 2\n",
    "\n",
    "import matplotlib.image as mpimg\n",
    "import numpy as np\n",
    "import matplotlib.pyplot as plt\n",
    "import os,sys\n",
    "from PIL import Image\n",
    "from skimage import feature\n",
    "from skimage import transform\n",
    "import warnings\n",
    "warnings.filterwarnings(\"ignore\")"
   ]
  },
  {
   "cell_type": "code",
   "execution_count": 2,
   "metadata": {},
   "outputs": [],
   "source": [
    "from helper import *"
   ]
  },
  {
   "cell_type": "markdown",
   "metadata": {},
   "source": [
    "Load training data:"
   ]
  },
  {
   "cell_type": "code",
   "execution_count": 3,
   "metadata": {},
   "outputs": [],
   "source": [
    "# Loaded a set of images\n",
    "root_dir = \"training/\"\n",
    "\n",
    "image_dir = root_dir + \"images/\"\n",
    "files = os.listdir(image_dir)\n",
    "n = len(files)\n",
    "imgs = [load_image(image_dir + files[i]) for i in range(n)] \n",
    "\n",
    "gt_dir = root_dir + \"groundtruth/\"\n",
    "gt_imgs = [load_image(gt_dir + files[i]) for i in range(n)]\n",
    "\n",
    "N_IMAGES_TRAIN = len(files)"
   ]
  },
  {
   "cell_type": "code",
   "execution_count": 4,
   "metadata": {},
   "outputs": [],
   "source": [
    "# Extract patches from input images\n",
    "patch_size = 8 \n",
    "\n",
    "img_patches = [img_crop(imgs[i], patch_size, patch_size) for i in range(N_IMAGES_TRAIN)]\n",
    "gt_patches = [img_crop(gt_imgs[i], patch_size, patch_size) for i in range(N_IMAGES_TRAIN)]\n",
    "# Linearize list of patches\n",
    "img_patches = np.asarray([img_patches[i][j] for i in range(len(img_patches)) for j in range(len(img_patches[i]))])\n",
    "gt_patches =  np.asarray([gt_patches[i][j] for i in range(len(gt_patches)) for j in range(len(gt_patches[i]))])"
   ]
  },
  {
   "cell_type": "code",
   "execution_count": 5,
   "metadata": {},
   "outputs": [],
   "source": [
    "foreground_threshold = 0.25 # percentage of pixels > 1 required to assign a foreground label to a patch\n",
    "\n",
    "X = np.asarray([extract_features(img_patches[i]) for i in range(len(img_patches))])\n",
    "Y = np.asarray([value_to_class(gt_patches[i], foreground_threshold) for i in range(len(gt_patches))])"
   ]
  },
  {
   "cell_type": "code",
   "execution_count": 6,
   "metadata": {},
   "outputs": [],
   "source": [
    "from imblearn.under_sampling import RandomUnderSampler"
   ]
  },
  {
   "cell_type": "code",
   "execution_count": 7,
   "metadata": {},
   "outputs": [],
   "source": [
    "rus = RandomUnderSampler()"
   ]
  },
  {
   "cell_type": "code",
   "execution_count": 8,
   "metadata": {},
   "outputs": [],
   "source": [
    "X_resampled, Y_resampled = rus.fit_resample(X, Y)"
   ]
  },
  {
   "cell_type": "markdown",
   "metadata": {},
   "source": [
    "## 1. K-NN Classifier for silly features"
   ]
  },
  {
   "cell_type": "code",
   "execution_count": 9,
   "metadata": {},
   "outputs": [],
   "source": [
    "from sklearn import neighbors\n",
    "from sklearn.model_selection import ShuffleSplit\n",
    "from sklearn.model_selection import cross_val_score"
   ]
  },
  {
   "cell_type": "code",
   "execution_count": 10,
   "metadata": {},
   "outputs": [
    {
     "name": "stdout",
     "output_type": "stream",
     "text": [
      "0\n",
      "1\n",
      "2\n",
      "3\n",
      "4\n",
      "5\n",
      "6\n",
      "7\n",
      "8\n",
      "9\n",
      "10\n",
      "11\n",
      "12\n",
      "13\n",
      "14\n",
      "15\n",
      "16\n",
      "17\n",
      "18\n",
      "19\n",
      "20\n",
      "21\n",
      "22\n",
      "23\n",
      "24\n",
      "25\n",
      "26\n",
      "27\n",
      "28\n",
      "29\n",
      "30\n",
      "31\n",
      "32\n",
      "33\n",
      "34\n",
      "35\n",
      "36\n",
      "37\n",
      "38\n"
     ]
    }
   ],
   "source": [
    "n_neigh = np.arange(1, 40)\n",
    "cvs = np.zeros(39)\n",
    "for inn, nn in enumerate(n_neigh):\n",
    "    knn_model = neighbors.KNeighborsClassifier(n_neighbors=nn, n_jobs=2, p=1)\n",
    "    cv = ShuffleSplit(n_splits=4, test_size=0.3, random_state=0)\n",
    "    cvs[inn] = cross_val_score(knn_model, X_resampled, Y_resampled, cv=cv, scoring='f1', n_jobs=2).mean()\n",
    "    print(inn)"
   ]
  },
  {
   "cell_type": "code",
   "execution_count": 11,
   "metadata": {},
   "outputs": [
    {
     "data": {
      "image/png": "[encoded data removed]",
      "text/plain": [
       "<Figure size 432x288 with 1 Axes>"
      ]
     },
     "metadata": {},
     "output_type": "display_data"
    }
   ],
   "source": [
    "plt.plot(n_neigh,cvs,'-o');\n",
    "plt.ylabel('Test $F_1$-score');\n",
    "plt.xlabel('Number of neighbors');"
   ]
  },
  {
   "cell_type": "code",
   "execution_count": 12,
   "metadata": {},
   "outputs": [],
   "source": [
    "opt_n = np.argmax(cvs)+1"
   ]
  },
  {
   "cell_type": "code",
   "execution_count": 13,
   "metadata": {},
   "outputs": [
    {
     "data": {
      "text/plain": [
       "KNeighborsClassifier(algorithm='auto', leaf_size=30, metric='minkowski',\n",
       "           metric_params=None, n_jobs=2, n_neighbors=39, p=1,\n",
       "           weights='uniform')"
      ]
     },
     "execution_count": 13,
     "metadata": {},
     "output_type": "execute_result"
    }
   ],
   "source": [
    "from sklearn.model_selection import train_test_split \n",
    "\n",
    "X_train, X_test, Y_train, Y_test = train_test_split(X_resampled, Y_resampled, test_size=0.3, random_state=0)\n",
    "\n",
    "knn_model = neighbors.KNeighborsClassifier(n_neighbors=opt_n, n_jobs=2, p=1)\n",
    "knn_model.fit(X_train, Y_train)"
   ]
  },
  {
   "cell_type": "markdown",
   "metadata": {},
   "source": [
    "Small train_test split to estimate test f1-score:"
   ]
  },
  {
   "cell_type": "code",
   "execution_count": 14,
   "metadata": {},
   "outputs": [
    {
     "name": "stdout",
     "output_type": "stream",
     "text": [
      "Training set evaluation\n",
      "              precision    recall  f1-score   support\n",
      "\n",
      "           1       0.73      0.81      0.77     40183\n",
      "\n",
      "   micro avg       0.73      0.81      0.77     40183\n",
      "   macro avg       0.73      0.81      0.77     40183\n",
      "weighted avg       0.73      0.81      0.77     40183\n",
      "\n",
      "Testing set evaluation\n",
      "              precision    recall  f1-score   support\n",
      "\n",
      "           1       0.72      0.80      0.75     17293\n",
      "\n",
      "   micro avg       0.72      0.80      0.75     17293\n",
      "   macro avg       0.72      0.80      0.75     17293\n",
      "weighted avg       0.72      0.80      0.75     17293\n",
      "\n"
     ]
    }
   ],
   "source": [
    "Z_train = knn_model.predict(X_train)\n",
    "Z_test = knn_model.predict(X_test)\n",
    "print_eval(Y_train, Z_train, Y_test, Z_test)"
   ]
  },
  {
   "cell_type": "code",
   "execution_count": 15,
   "metadata": {},
   "outputs": [],
   "source": [
    "Z = knn_model.predict(X)"
   ]
  },
  {
   "cell_type": "code",
   "execution_count": 16,
   "metadata": {},
   "outputs": [
    {
     "name": "stdout",
     "output_type": "stream",
     "text": [
      "              precision    recall  f1-score   support\n",
      "\n",
      "           1       0.43      0.81      0.56     57476\n",
      "\n",
      "   micro avg       0.43      0.81      0.56     57476\n",
      "   macro avg       0.43      0.81      0.56     57476\n",
      "weighted avg       0.43      0.81      0.56     57476\n",
      "\n"
     ]
    }
   ],
   "source": [
    "print(classification_report(Y, Z, labels =[1]))"
   ]
  },
  {
   "cell_type": "markdown",
   "metadata": {},
   "source": [
    "## 2. Submission code "
   ]
  },
  {
   "cell_type": "code",
   "execution_count": 35,
   "metadata": {},
   "outputs": [],
   "source": [
    "N_TEST_IMAGES = 50\n",
    "\n",
    "test_data_filename = ['test_set_images/test_'+str(i)+'/test_'+str(i)+'.png' for i in range(1,N_TEST_IMAGES+1)]\n"
   ]
  },
  {
   "cell_type": "code",
   "execution_count": 52,
   "metadata": {},
   "outputs": [
    {
     "data": {
      "text/plain": [
       "KNeighborsClassifier(algorithm='auto', leaf_size=30, metric='minkowski',\n",
       "           metric_params=None, n_jobs=2, n_neighbors=37, p=1,\n",
       "           weights='uniform')"
      ]
     },
     "execution_count": 52,
     "metadata": {},
     "output_type": "execute_result"
    }
   ],
   "source": [
    "knn_model = neighbors.KNeighborsClassifier(n_neighbors=opt_n, n_jobs=2, p=1)\n",
    "knn_model.fit(X_resampled, Y_resampled)"
   ]
  },
  {
   "cell_type": "code",
   "execution_count": 53,
   "metadata": {},
   "outputs": [],
   "source": [
    "prediction_testing_dir = \"predictions_testing_knn/\"\n",
    "if not os.path.isdir(prediction_testing_dir):\n",
    "    os.mkdir(prediction_testing_dir)\n",
    "for i in range(1, N_TEST_IMAGES+1):\n",
    "    X_ = extract_img_features(test_data_filename[i - 1], '3d')\n",
    "    Zi = knn_model.predict(X_)\n",
    "    pimg=img_float_to_uint8(label_to_img(608, 608, patch_size, patch_size, Zi))\n",
    "    Image.fromarray(pimg).save(prediction_testing_dir + \"prediction_\" + str(i) + \".png\")"
   ]
  },
  {
   "cell_type": "code",
   "execution_count": 54,
   "metadata": {},
   "outputs": [],
   "source": [
    "from mask_to_submission_knn import *"
   ]
  },
  {
   "cell_type": "code",
   "execution_count": 55,
   "metadata": {},
   "outputs": [
    {
     "name": "stdout",
     "output_type": "stream",
     "text": [
      "predictions_testing_knn/prediction_1.png\n",
      "predictions_testing_knn/prediction_2.png\n",
      "predictions_testing_knn/prediction_3.png\n",
      "predictions_testing_knn/prediction_4.png\n",
      "predictions_testing_knn/prediction_5.png\n",
      "predictions_testing_knn/prediction_6.png\n",
      "predictions_testing_knn/prediction_7.png\n",
      "predictions_testing_knn/prediction_8.png\n",
      "predictions_testing_knn/prediction_9.png\n",
      "predictions_testing_knn/prediction_10.png\n",
      "predictions_testing_knn/prediction_11.png\n",
      "predictions_testing_knn/prediction_12.png\n",
      "predictions_testing_knn/prediction_13.png\n",
      "predictions_testing_knn/prediction_14.png\n",
      "predictions_testing_knn/prediction_15.png\n",
      "predictions_testing_knn/prediction_16.png\n",
      "predictions_testing_knn/prediction_17.png\n",
      "predictions_testing_knn/prediction_18.png\n",
      "predictions_testing_knn/prediction_19.png\n",
      "predictions_testing_knn/prediction_20.png\n",
      "predictions_testing_knn/prediction_21.png\n",
      "predictions_testing_knn/prediction_22.png\n",
      "predictions_testing_knn/prediction_23.png\n",
      "predictions_testing_knn/prediction_24.png\n",
      "predictions_testing_knn/prediction_25.png\n",
      "predictions_testing_knn/prediction_26.png\n",
      "predictions_testing_knn/prediction_27.png\n",
      "predictions_testing_knn/prediction_28.png\n",
      "predictions_testing_knn/prediction_29.png\n",
      "predictions_testing_knn/prediction_30.png\n",
      "predictions_testing_knn/prediction_31.png\n",
      "predictions_testing_knn/prediction_32.png\n",
      "predictions_testing_knn/prediction_33.png\n",
      "predictions_testing_knn/prediction_34.png\n",
      "predictions_testing_knn/prediction_35.png\n",
      "predictions_testing_knn/prediction_36.png\n",
      "predictions_testing_knn/prediction_37.png\n",
      "predictions_testing_knn/prediction_38.png\n",
      "predictions_testing_knn/prediction_39.png\n",
      "predictions_testing_knn/prediction_40.png\n",
      "predictions_testing_knn/prediction_41.png\n",
      "predictions_testing_knn/prediction_42.png\n",
      "predictions_testing_knn/prediction_43.png\n",
      "predictions_testing_knn/prediction_44.png\n",
      "predictions_testing_knn/prediction_45.png\n",
      "predictions_testing_knn/prediction_46.png\n",
      "predictions_testing_knn/prediction_47.png\n",
      "predictions_testing_knn/prediction_48.png\n",
      "predictions_testing_knn/prediction_49.png\n",
      "predictions_testing_knn/prediction_50.png\n"
     ]
    }
   ],
   "source": [
    "# if __name__ == '__main__':\n",
    "#     submission_filename = 'prediction_KNN.csv'\n",
    "#     image_filenames = []\n",
    "#     for i in range(1, 51):\n",
    "#         image_filename = 'predictions_testing_knn/prediction_' +  str(i) + '.png'\n",
    "#         print(image_filename)\n",
    "#         image_filenames.append(image_filename)\n",
    "#     masks_to_submission(submission_filename, *image_filenames)\n"
   ]
  },
  {
   "cell_type": "code",
   "execution_count": null,
   "metadata": {},
   "outputs": [],
   "source": []
  }
 ],
 "metadata": {
  "kernelspec": {
   "display_name": "Python 3",
   "language": "python",
   "name": "python3"
  },
  "language_info": {
   "codemirror_mode": {
    "name": "ipython",
    "version": 3
   },
   "file_extension": ".py",
   "mimetype": "text/x-python",
   "name": "python",
   "nbconvert_exporter": "python",
   "pygments_lexer": "ipython3",
   "version": "3.6.5"
  }
 },
 "nbformat": 4,
 "nbformat_minor": 2
}
