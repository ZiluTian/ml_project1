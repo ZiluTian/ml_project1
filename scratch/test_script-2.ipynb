{
 "cells": [
  {
   "cell_type": "code",
   "execution_count": 5,
   "metadata": {},
   "outputs": [],
   "source": [
    "# This is the test script for the final submission \n",
    "# No external library other than numpy is allowed \n",
    "\n",
    "# sys is only used to point to the correct folder\n",
    "import sys\n",
    "sys.path.insert(0, 'project1/scripts')\n",
    "\n",
    "# import all the functions from the helper module \n",
    "from proj1_helpers import *\n",
    "from implementations import *\n",
    "from proj1_plot_helpers import * "
   ]
  },
  {
   "cell_type": "code",
   "execution_count": 6,
   "metadata": {},
   "outputs": [],
   "source": [
    "# Import, fill in missing values with average, and perform data preprocessing \n",
    "y, inputs, ids = load_clean_csv(\"train.csv\", True, \"avg\", True)"
   ]
  },
  {
   "cell_type": "code",
   "execution_count": 7,
   "metadata": {},
   "outputs": [],
   "source": [
    "# y = y[0:200]\n",
    "# inputs = inputs[0:200]\n",
    "# ids = ids[0:200]"
   ]
  },
  {
   "cell_type": "code",
   "execution_count": 8,
   "metadata": {},
   "outputs": [
    {
     "name": "stdout",
     "output_type": "stream",
     "text": [
      "(5000, 30)\n"
     ]
    }
   ],
   "source": [
    "print(inputs.shape)"
   ]
  },
  {
   "cell_type": "code",
   "execution_count": 5,
   "metadata": {
    "scrolled": true
   },
   "outputs": [],
   "source": [
    "# Obtain features by finding correlation coefficients\n",
    "coef_vec = pairwise_correlation(y, inputs)\n",
    "# pairwise_correlation_plot(coef_vec)\n",
    "\n",
    "feature_threshold = 0.1 \n",
    "feature_list = feature_select(coef_vec, feature_threshold)\n",
    "corr_matrix = correlation_matrix(inputs, feature_list)\n",
    "# print(\"feature list before removing the duplicates\", feature_list)\n",
    "# feature_correlation_plot(corr_matrix)\n"
   ]
  },
  {
   "cell_type": "code",
   "execution_count": 6,
   "metadata": {},
   "outputs": [],
   "source": [
    "# remove from feature list features with correlation coef higher than threhold\n",
    "duplicate_threshold = 0.8\n",
    "\n",
    "feature_list = feature_extract(feature_list, corr_matrix, duplicate_threshold)\n",
    "corr_matrix = correlation_matrix(inputs, feature_list)\n",
    "# print(\"feature list after removing the duplicates\", feature_list)\n",
    "# feature_correlation_plot(corr_matrix)"
   ]
  },
  {
   "cell_type": "code",
   "execution_count": 7,
   "metadata": {},
   "outputs": [],
   "source": [
    "# Compute an initial w0 using linear regression to feed into logistic regression \n",
    "tx = build_poly(inputs, 1)\n",
    "w0, _ = least_squares(y, tx)"
   ]
  },
  {
   "cell_type": "code",
   "execution_count": 9,
   "metadata": {},
   "outputs": [],
   "source": [
    "feature_list = [1, 2, 4, 7, 10, 11, 12, 13, 16, 19]"
   ]
  },
  {
   "cell_type": "code",
   "execution_count": 10,
   "metadata": {},
   "outputs": [],
   "source": [
    "# Build logistic regression model over the training data \n",
    "# max_it = 50\n",
    "# gamma = 0.001\n",
    "\n",
    "# w_init = np.zeros(tx_train.shape[1])\n",
    "\n",
    "# # find optimal gamma \n",
    "# tx_train, y_train, tx_test, y_test = split_data(tx, y, 0.5)\n",
    "\n",
    "# rmse_tr = [] \n",
    "# rmse_te = [] \n",
    "# gammas = []\n",
    "\n",
    "# while (gamma<1): \n",
    "#     w, loss_tr = logistic_regression(y_train, tx_train, w0, max_it, gamma)\n",
    "    \n",
    "#     rmse_train = np.sqrt(2*compute_mse(y_train, tx_train, w))\n",
    "#     print(\"rmse_train\", rmse_train)\n",
    "#     rmse_test = np.sqrt(2*compute_mse(y_test, tx_test, w))\n",
    "#     print(\"rmse_test\", rmse_test)\n",
    "#     gammas.append(gamma)\n",
    "#     print(\"gamma\", gamma)\n",
    "#     rmse_tr.append(rmse_train)\n",
    "#     rmse_te.append(rmse_test)\n",
    "# #     opt_gamma = gammas[np.argmin(rmse_te)]\n",
    "#     gamma = gamma*5 \n",
    "    \n",
    "#     return opt_gamma, rmse_tr, rmse_te  \n",
    "    "
   ]
  },
  {
   "cell_type": "code",
   "execution_count": 11,
   "metadata": {},
   "outputs": [],
   "source": [
    "# print(rmse_tr)"
   ]
  },
  {
   "cell_type": "code",
   "execution_count": 12,
   "metadata": {},
   "outputs": [],
   "source": [
    "import itertools as it\n",
    "\n",
    "def build_poly_plus(x, degree):\n",
    "    \"\"\"\n",
    "    Builds polynomial basis function of a certain degree combining all features.\n",
    "    \"\"\"\n",
    "    poly = np.ones((len(x), 1))\n",
    "\n",
    "    for deg in range(1, degree+1):\n",
    "#         print(deg)\n",
    "        if deg == 1:\n",
    "            poly = np.c_[poly, x]\n",
    "        else:\n",
    "            for i in it.combinations_with_replacement(range(x.shape[1]),deg):\n",
    "                poly = np.c_[poly, np.prod(x[:,i],1)]\n",
    "    return poly"
   ]
  },
  {
   "cell_type": "code",
   "execution_count": 33,
   "metadata": {},
   "outputs": [
    {
     "name": "stdout",
     "output_type": "stream",
     "text": [
      "ridge regression done. opt_lambda is 0.6723357536499335\n",
      "logistic regression done. opt_gamma is 1e-05\n",
      "least squares GD done. opt_gamma is 0.00020691380811147902\n",
      "least squares SGD done. opt_gamma is 3.359818286283781e-05\n"
     ]
    }
   ],
   "source": [
    "x = inputs[:, feature_list]\n",
    "degree = 3\n",
    "k_fold = 4\n",
    "\n",
    "tx = build_poly_plus(x, degree)\n",
    "# print(tx.shape)\n",
    "lambdas = np.logspace(-5, 0, 30)\n",
    "gammas = np.logspace(-5, 0, 20)\n",
    "\n",
    "init_w = np.zeros(tx.shape[1])\n",
    "max_it = 50\n",
    "\n",
    "opt_lambda, rmse_tr, rmse_te = find_desired_var(lambdas, y, tx, k_fold, ridge_regression)\n",
    "print(\"ridge regression done. opt_lambda is\", opt_lambda)\n",
    "opt_gamma_1, rmse_tr1, rmse_te1 = find_desired_var(gammas, y, tx, k_fold, logistic_regression, init_w, max_it)\n",
    "print(\"logistic regression done. opt_gamma is\", opt_gamma_1)\n",
    "opt_gamma_2, rmse_tr2, rmse_te2 = find_desired_var(gammas, y, tx, k_fold, least_squares_GD, init_w, max_it)\n",
    "print(\"least squares GD done. opt_gamma is\", opt_gamma_2)\n",
    "opt_gamma_3, rmse_tr3, rmse_te3 = find_desired_var(gammas, y, tx, k_fold, least_squares_SGD, init_w, max_it)\n",
    "print(\"least squares SGD done. opt_gamma is\", opt_gamma_3)"
   ]
  },
  {
   "cell_type": "code",
   "execution_count": 34,
   "metadata": {},
   "outputs": [
    {
     "data": {
      "image/png": "[encoded data removed]",
      "text/plain": [
       "<Figure size 432x288 with 1 Axes>"
      ]
     },
     "metadata": {
      "needs_background": "light"
     },
     "output_type": "display_data"
    },
    {
     "data": {
      "image/png": "[encoded data removed]",
      "text/plain": [
       "<Figure size 432x288 with 1 Axes>"
      ]
     },
     "metadata": {
      "needs_background": "light"
     },
     "output_type": "display_data"
    },
    {
     "data": {
      "image/png": "[encoded data removed]",
      "text/plain": [
       "<Figure size 432x288 with 1 Axes>"
      ]
     },
     "metadata": {
      "needs_background": "light"
     },
     "output_type": "display_data"
    },
    {
     "data": {
      "image/png": "[encoded data removed]",
      "text/plain": [
       "<Figure size 432x288 with 1 Axes>"
      ]
     },
     "metadata": {
      "needs_background": "light"
     },
     "output_type": "display_data"
    }
   ],
   "source": [
    "cross_validation_plot(lambdas, rmse_tr, rmse_te)\n",
    "cross_validation_plot(gammas, rmse_tr1, rmse_te1)\n",
    "cross_validation_plot(gammas, rmse_tr2, rmse_te2)\n",
    "cross_validation_plot(gammas, rmse_tr3, rmse_te3)"
   ]
  },
  {
   "cell_type": "code",
   "execution_count": 35,
   "metadata": {
    "scrolled": false
   },
   "outputs": [],
   "source": [
    "tx_train, y_train, tx_test, y_test = split_data(tx, y, 0.5)\n",
    "\n",
    "# # weights, mse = ridge_regression(y_train, tx_train, opt_lambda)\n",
    "\n",
    "init_w = np.zeros(tx_train.shape[1])\n",
    "max_it = 50\n",
    "\n",
    "w, mse = find_weight(y, tx, k_fold, least_squares)\n",
    "w1, mse1 = find_weight(y, tx, k_fold, least_squares_GD, init_w, max_it, opt_gamma_1)\n",
    "w2, mse2 = find_weight(y, tx, k_fold, least_squares_SGD, init_w, max_it, opt_gamma_2 )\n",
    "w3, mse3 = find_weight(y, tx, k_fold, ridge_regression, opt_lambda)\n",
    "w4, mse4 = find_weight(y, tx, k_fold, logistic_regression, init_w, max_it, opt_gamma_3)\n"
   ]
  },
  {
   "cell_type": "code",
   "execution_count": 40,
   "metadata": {},
   "outputs": [
    {
     "name": "stdout",
     "output_type": "stream",
     "text": [
      "Total correct: 2061.0 \n",
      "Total incorrect: 439.0 \n",
      "Correct percentage: 82.44 %\n",
      "Train RMSE: 0.8811029160061484 , Test RMSE: 0.9028157380337303\n"
     ]
    }
   ],
   "source": [
    "# LS \n",
    "y_pred = predict_labels(w, tx_test)\n",
    "\n",
    "compute_score(y_test, y_pred)\n",
    "\n",
    "rmse_train = np.sqrt(2*compute_mse(y_train, tx_train, w))\n",
    "rmse_test = np.sqrt(2*compute_mse(y_test, tx_test, w))\n",
    "print(\"Train RMSE:\", rmse_train, \", Test RMSE:\", rmse_test)"
   ]
  },
  {
   "cell_type": "code",
   "execution_count": 36,
   "metadata": {},
   "outputs": [
    {
     "name": "stdout",
     "output_type": "stream",
     "text": [
      "Total correct: 1776.0 \n",
      "Total incorrect: 724.0 \n",
      "Correct percentage: 71.04 %\n",
      "Train RMSE: 0.997702362625182 , Test RMSE: 0.9966890435774718\n"
     ]
    }
   ],
   "source": [
    "# LS GD\n",
    "y_pred = predict_labels(w1, tx_test)\n",
    "\n",
    "compute_score(y_test, y_pred)\n",
    "\n",
    "rmse_train = np.sqrt(2*compute_mse(y_train, tx_train, w1))\n",
    "rmse_test = np.sqrt(2*compute_mse(y_test, tx_test, w1))\n",
    "print(\"Train RMSE:\", rmse_train, \", Test RMSE:\", rmse_test)"
   ]
  },
  {
   "cell_type": "code",
   "execution_count": 37,
   "metadata": {},
   "outputs": [
    {
     "name": "stdout",
     "output_type": "stream",
     "text": [
      "Total correct: 1378.0 \n",
      "Total incorrect: 1122.0 \n",
      "Correct percentage: 55.120000000000005 %\n",
      "Train RMSE: 82.39452339584108 , Test RMSE: 124.89181019541525\n"
     ]
    }
   ],
   "source": [
    "# LS SGD\n",
    "y_pred = predict_labels(w2, tx_test)\n",
    "\n",
    "compute_score(y_test, y_pred)\n",
    "\n",
    "rmse_train = np.sqrt(2*compute_mse(y_train, tx_train, w2))\n",
    "rmse_test = np.sqrt(2*compute_mse(y_test, tx_test, w2))\n",
    "print(\"Train RMSE:\", rmse_train, \", Test RMSE:\", rmse_test)"
   ]
  },
  {
   "cell_type": "code",
   "execution_count": 38,
   "metadata": {},
   "outputs": [
    {
     "name": "stdout",
     "output_type": "stream",
     "text": [
      "Total correct: 2003.0 \n",
      "Total incorrect: 497.0 \n",
      "Correct percentage: 80.12 %\n",
      "Train RMSE: 0.9248106167119639 , Test RMSE: 0.9288078048451419\n"
     ]
    }
   ],
   "source": [
    "# Ridge regression\n",
    "y_pred = predict_labels(w3, tx_test)\n",
    "\n",
    "compute_score(y_test, y_pred)\n",
    "\n",
    "rmse_train = np.sqrt(2*compute_mse(y_train, tx_train, w3))\n",
    "rmse_test = np.sqrt(2*compute_mse(y_test, tx_test, w3))\n",
    "print(\"Train RMSE:\", rmse_train, \", Test RMSE:\", rmse_test)"
   ]
  },
  {
   "cell_type": "code",
   "execution_count": 39,
   "metadata": {},
   "outputs": [
    {
     "name": "stdout",
     "output_type": "stream",
     "text": [
      "Total correct: 1640.0 \n",
      "Total incorrect: 860.0 \n",
      "Correct percentage: 65.60000000000001 %\n",
      "Train RMSE: 1126.4987503545692 , Test RMSE: 2438.4234187897737\n"
     ]
    }
   ],
   "source": [
    "# Logistic regression\n",
    "y_pred = predict_labels(w4, tx_test)\n",
    "\n",
    "compute_score(y_test, y_pred)\n",
    "\n",
    "rmse_train = np.sqrt(2*compute_mse(y_train, tx_train, w4))\n",
    "rmse_test = np.sqrt(2*compute_mse(y_test, tx_test, w4))\n",
    "print(\"Train RMSE:\", rmse_train, \", Test RMSE:\", rmse_test)"
   ]
  },
  {
   "cell_type": "code",
   "execution_count": 14,
   "metadata": {},
   "outputs": [],
   "source": [
    "y_test, inputs_test, ids_test = load_clean_csv('test.csv', False, \"avg\", True)"
   ]
  },
  {
   "cell_type": "code",
   "execution_count": null,
   "metadata": {},
   "outputs": [],
   "source": [
    "tx_test = build_poly_plus(inputs_test[:,feature_list], degree)\n",
    "y_pred = predict_labels(weights, tx_test)"
   ]
  },
  {
   "cell_type": "code",
   "execution_count": null,
   "metadata": {},
   "outputs": [],
   "source": [
    "# create_csv_submission(ids_test, y_pred, \"prediction.csv\")"
   ]
  }
 ],
 "metadata": {
  "kernelspec": {
   "display_name": "Python 3",
   "language": "python",
   "name": "python3"
  },
  "language_info": {
   "codemirror_mode": {
    "name": "ipython",
    "version": 3
   },
   "file_extension": ".py",
   "mimetype": "text/x-python",
   "name": "python",
   "nbconvert_exporter": "python",
   "pygments_lexer": "ipython3",
   "version": "3.6.5"
  }
 },
 "nbformat": 4,
 "nbformat_minor": 2
}
