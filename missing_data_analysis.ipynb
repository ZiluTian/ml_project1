{
 "cells": [
  {
   "cell_type": "code",
   "execution_count": 1,
   "metadata": {},
   "outputs": [],
   "source": [
    "import pandas as pd, numpy as np, matplotlib.pyplot as plt, pylab as pl \n",
    "libPath = 'project1/scripts'\n",
    "import sys\n",
    "if not libPath in sys.path: sys.path.append(libPath)\n",
    "from implementations import *"
   ]
  },
  {
   "cell_type": "markdown",
   "metadata": {},
   "source": [
    "# 1. Missing data analysis"
   ]
  },
  {
   "cell_type": "markdown",
   "metadata": {},
   "source": [
    "In this analysis, we want to determine a method for replacing the missing data (-999) elements in the train dataset. Two methods are considered:\n",
    "1. Missing data is replaced by the mean or median of the feature;\n",
    "2. Missing data is replaced by predicted values calculated using other (meaningful features).\n",
    "\n",
    "First let's calculate the cross-correlation matrix for all 30 features to determine which ones influence each other and possible prediction patterns. Features which are considered to not be influenced by others should be replaced by their mean."
   ]
  },
  {
   "cell_type": "markdown",
   "metadata": {},
   "source": [
    "## 1.2. Missing data profile"
   ]
  },
  {
   "cell_type": "markdown",
   "metadata": {},
   "source": [
    "Some preliminary analysis on where we can find missing data."
   ]
  },
  {
   "cell_type": "markdown",
   "metadata": {},
   "source": [
    "### 1.2.1. Load train data"
   ]
  },
  {
   "cell_type": "code",
   "execution_count": 2,
   "metadata": {},
   "outputs": [
    {
     "data": {
      "text/plain": [
       "Id                               int64\n",
       "Prediction                       int64\n",
       "DER_mass_MMC                   float64\n",
       "DER_mass_transverse_met_lep    float64\n",
       "DER_mass_vis                   float64\n",
       "DER_pt_h                       float64\n",
       "DER_deltaeta_jet_jet           float64\n",
       "DER_mass_jet_jet               float64\n",
       "DER_prodeta_jet_jet            float64\n",
       "DER_deltar_tau_lep             float64\n",
       "DER_pt_tot                     float64\n",
       "DER_sum_pt                     float64\n",
       "DER_pt_ratio_lep_tau           float64\n",
       "DER_met_phi_centrality         float64\n",
       "DER_lep_eta_centrality         float64\n",
       "PRI_tau_pt                     float64\n",
       "PRI_tau_eta                    float64\n",
       "PRI_tau_phi                    float64\n",
       "PRI_lep_pt                     float64\n",
       "PRI_lep_eta                    float64\n",
       "PRI_lep_phi                    float64\n",
       "PRI_met                        float64\n",
       "PRI_met_phi                    float64\n",
       "PRI_met_sumet                  float64\n",
       "PRI_jet_num                      int64\n",
       "PRI_jet_leading_pt             float64\n",
       "PRI_jet_leading_eta            float64\n",
       "PRI_jet_leading_phi            float64\n",
       "PRI_jet_subleading_pt          float64\n",
       "PRI_jet_subleading_eta         float64\n",
       "PRI_jet_subleading_phi         float64\n",
       "PRI_jet_all_pt                 float64\n",
       "dtype: object"
      ]
     },
     "execution_count": 2,
     "metadata": {},
     "output_type": "execute_result"
    }
   ],
   "source": [
    "df_tr = pd.read_csv(\"train.csv\")\n",
    "dict_tr = dict(s=1, b=-1)\n",
    "\n",
    "# Apply the dictionary to the dataset \n",
    "df_tr = df_tr.replace(dict_tr, regex=True)\n",
    "\n",
    "column_labels = df_tr.columns.values\n",
    "data_tr = df_tr.values\n",
    "input_data_tr= data_tr[:,2:]\n",
    "y_tr = data_tr[:,1]\n",
    "df_tr.dtypes\n"
   ]
  },
  {
   "cell_type": "code",
   "execution_count": 3,
   "metadata": {
    "scrolled": false
   },
   "outputs": [
    {
     "data": {
      "text/html": [
       "<div>\n",
       "<style scoped>\n",
       "    .dataframe tbody tr th:only-of-type {\n",
       "        vertical-align: middle;\n",
       "    }\n",
       "\n",
       "    .dataframe tbody tr th {\n",
       "        vertical-align: top;\n",
       "    }\n",
       "\n",
       "    .dataframe thead th {\n",
       "        text-align: right;\n",
       "    }\n",
       "</style>\n",
       "<table border=\"1\" class=\"dataframe\">\n",
       "  <thead>\n",
       "    <tr style=\"text-align: right;\">\n",
       "      <th></th>\n",
       "      <th>Id</th>\n",
       "      <th>Prediction</th>\n",
       "      <th>DER_mass_MMC</th>\n",
       "      <th>DER_mass_transverse_met_lep</th>\n",
       "      <th>DER_mass_vis</th>\n",
       "      <th>DER_pt_h</th>\n",
       "      <th>DER_deltaeta_jet_jet</th>\n",
       "      <th>DER_mass_jet_jet</th>\n",
       "      <th>DER_prodeta_jet_jet</th>\n",
       "      <th>DER_deltar_tau_lep</th>\n",
       "      <th>...</th>\n",
       "      <th>PRI_met_phi</th>\n",
       "      <th>PRI_met_sumet</th>\n",
       "      <th>PRI_jet_num</th>\n",
       "      <th>PRI_jet_leading_pt</th>\n",
       "      <th>PRI_jet_leading_eta</th>\n",
       "      <th>PRI_jet_leading_phi</th>\n",
       "      <th>PRI_jet_subleading_pt</th>\n",
       "      <th>PRI_jet_subleading_eta</th>\n",
       "      <th>PRI_jet_subleading_phi</th>\n",
       "      <th>PRI_jet_all_pt</th>\n",
       "    </tr>\n",
       "  </thead>\n",
       "  <tbody>\n",
       "    <tr>\n",
       "      <th>0</th>\n",
       "      <td>100000</td>\n",
       "      <td>1</td>\n",
       "      <td>138.470</td>\n",
       "      <td>51.655</td>\n",
       "      <td>97.827</td>\n",
       "      <td>27.980</td>\n",
       "      <td>0.91</td>\n",
       "      <td>124.711</td>\n",
       "      <td>2.666</td>\n",
       "      <td>3.064</td>\n",
       "      <td>...</td>\n",
       "      <td>-0.277</td>\n",
       "      <td>258.733</td>\n",
       "      <td>2</td>\n",
       "      <td>67.435</td>\n",
       "      <td>2.150</td>\n",
       "      <td>0.444</td>\n",
       "      <td>46.062</td>\n",
       "      <td>1.24</td>\n",
       "      <td>-2.475</td>\n",
       "      <td>113.497</td>\n",
       "    </tr>\n",
       "    <tr>\n",
       "      <th>1</th>\n",
       "      <td>100001</td>\n",
       "      <td>-1</td>\n",
       "      <td>160.937</td>\n",
       "      <td>68.768</td>\n",
       "      <td>103.235</td>\n",
       "      <td>48.146</td>\n",
       "      <td>-999.00</td>\n",
       "      <td>-999.000</td>\n",
       "      <td>-999.000</td>\n",
       "      <td>3.473</td>\n",
       "      <td>...</td>\n",
       "      <td>-1.916</td>\n",
       "      <td>164.546</td>\n",
       "      <td>1</td>\n",
       "      <td>46.226</td>\n",
       "      <td>0.725</td>\n",
       "      <td>1.158</td>\n",
       "      <td>-999.000</td>\n",
       "      <td>-999.00</td>\n",
       "      <td>-999.000</td>\n",
       "      <td>46.226</td>\n",
       "    </tr>\n",
       "    <tr>\n",
       "      <th>2</th>\n",
       "      <td>100002</td>\n",
       "      <td>-1</td>\n",
       "      <td>-999.000</td>\n",
       "      <td>162.172</td>\n",
       "      <td>125.953</td>\n",
       "      <td>35.635</td>\n",
       "      <td>-999.00</td>\n",
       "      <td>-999.000</td>\n",
       "      <td>-999.000</td>\n",
       "      <td>3.148</td>\n",
       "      <td>...</td>\n",
       "      <td>-2.186</td>\n",
       "      <td>260.414</td>\n",
       "      <td>1</td>\n",
       "      <td>44.251</td>\n",
       "      <td>2.053</td>\n",
       "      <td>-2.028</td>\n",
       "      <td>-999.000</td>\n",
       "      <td>-999.00</td>\n",
       "      <td>-999.000</td>\n",
       "      <td>44.251</td>\n",
       "    </tr>\n",
       "    <tr>\n",
       "      <th>3</th>\n",
       "      <td>100003</td>\n",
       "      <td>-1</td>\n",
       "      <td>143.905</td>\n",
       "      <td>81.417</td>\n",
       "      <td>80.943</td>\n",
       "      <td>0.414</td>\n",
       "      <td>-999.00</td>\n",
       "      <td>-999.000</td>\n",
       "      <td>-999.000</td>\n",
       "      <td>3.310</td>\n",
       "      <td>...</td>\n",
       "      <td>0.060</td>\n",
       "      <td>86.062</td>\n",
       "      <td>0</td>\n",
       "      <td>-999.000</td>\n",
       "      <td>-999.000</td>\n",
       "      <td>-999.000</td>\n",
       "      <td>-999.000</td>\n",
       "      <td>-999.00</td>\n",
       "      <td>-999.000</td>\n",
       "      <td>0.000</td>\n",
       "    </tr>\n",
       "    <tr>\n",
       "      <th>4</th>\n",
       "      <td>100004</td>\n",
       "      <td>-1</td>\n",
       "      <td>175.864</td>\n",
       "      <td>16.915</td>\n",
       "      <td>134.805</td>\n",
       "      <td>16.405</td>\n",
       "      <td>-999.00</td>\n",
       "      <td>-999.000</td>\n",
       "      <td>-999.000</td>\n",
       "      <td>3.891</td>\n",
       "      <td>...</td>\n",
       "      <td>-0.871</td>\n",
       "      <td>53.131</td>\n",
       "      <td>0</td>\n",
       "      <td>-999.000</td>\n",
       "      <td>-999.000</td>\n",
       "      <td>-999.000</td>\n",
       "      <td>-999.000</td>\n",
       "      <td>-999.00</td>\n",
       "      <td>-999.000</td>\n",
       "      <td>0.000</td>\n",
       "    </tr>\n",
       "  </tbody>\n",
       "</table>\n",
       "<p>5 rows × 32 columns</p>\n",
       "</div>"
      ],
      "text/plain": [
       "       Id  Prediction  DER_mass_MMC  DER_mass_transverse_met_lep  \\\n",
       "0  100000           1       138.470                       51.655   \n",
       "1  100001          -1       160.937                       68.768   \n",
       "2  100002          -1      -999.000                      162.172   \n",
       "3  100003          -1       143.905                       81.417   \n",
       "4  100004          -1       175.864                       16.915   \n",
       "\n",
       "   DER_mass_vis  DER_pt_h  DER_deltaeta_jet_jet  DER_mass_jet_jet  \\\n",
       "0        97.827    27.980                  0.91           124.711   \n",
       "1       103.235    48.146               -999.00          -999.000   \n",
       "2       125.953    35.635               -999.00          -999.000   \n",
       "3        80.943     0.414               -999.00          -999.000   \n",
       "4       134.805    16.405               -999.00          -999.000   \n",
       "\n",
       "   DER_prodeta_jet_jet  DER_deltar_tau_lep       ...        PRI_met_phi  \\\n",
       "0                2.666               3.064       ...             -0.277   \n",
       "1             -999.000               3.473       ...             -1.916   \n",
       "2             -999.000               3.148       ...             -2.186   \n",
       "3             -999.000               3.310       ...              0.060   \n",
       "4             -999.000               3.891       ...             -0.871   \n",
       "\n",
       "   PRI_met_sumet  PRI_jet_num  PRI_jet_leading_pt  PRI_jet_leading_eta  \\\n",
       "0        258.733            2              67.435                2.150   \n",
       "1        164.546            1              46.226                0.725   \n",
       "2        260.414            1              44.251                2.053   \n",
       "3         86.062            0            -999.000             -999.000   \n",
       "4         53.131            0            -999.000             -999.000   \n",
       "\n",
       "   PRI_jet_leading_phi  PRI_jet_subleading_pt  PRI_jet_subleading_eta  \\\n",
       "0                0.444                 46.062                    1.24   \n",
       "1                1.158               -999.000                 -999.00   \n",
       "2               -2.028               -999.000                 -999.00   \n",
       "3             -999.000               -999.000                 -999.00   \n",
       "4             -999.000               -999.000                 -999.00   \n",
       "\n",
       "   PRI_jet_subleading_phi  PRI_jet_all_pt  \n",
       "0                  -2.475         113.497  \n",
       "1                -999.000          46.226  \n",
       "2                -999.000          44.251  \n",
       "3                -999.000           0.000  \n",
       "4                -999.000           0.000  \n",
       "\n",
       "[5 rows x 32 columns]"
      ]
     },
     "execution_count": 3,
     "metadata": {},
     "output_type": "execute_result"
    }
   ],
   "source": [
    "df_tr.head()"
   ]
  },
  {
   "cell_type": "code",
   "execution_count": 4,
   "metadata": {},
   "outputs": [
    {
     "name": "stdout",
     "output_type": "stream",
     "text": [
      "Number of missing data in each feature: \n",
      " [ 38114      0      0      0 177457 177457 177457      0      0      0\n",
      "      0      0 177457      0      0      0      0      0      0      0\n",
      "      0      0      0  99913  99913  99913 177457 177457 177457      0]\n"
     ]
    }
   ],
   "source": [
    "print('Number of missing data in each feature: \\n', np.count_nonzero(input_data_tr == -999,0) )"
   ]
  },
  {
   "cell_type": "code",
   "execution_count": 5,
   "metadata": {
    "scrolled": true
   },
   "outputs": [
    {
     "name": "stdout",
     "output_type": "stream",
     "text": [
      "Features with missing data:  [ 0  4  5  6 12 23 24 25 26 27 28]\n"
     ]
    }
   ],
   "source": [
    "x = np.unique(np.where(input_data_tr == -999.0)[1])\n",
    "\n",
    "print('Features with missing data: ', x)"
   ]
  },
  {
   "cell_type": "markdown",
   "metadata": {},
   "source": [
    "## 1.3. Import clean data"
   ]
  },
  {
   "cell_type": "markdown",
   "metadata": {},
   "source": [
    "To calculate the cross-correlation matrix we will use the data previously cleaned."
   ]
  },
  {
   "cell_type": "code",
   "execution_count": 6,
   "metadata": {
    "scrolled": true
   },
   "outputs": [
    {
     "name": "stdout",
     "output_type": "stream",
     "text": [
      "Number of features: 30\n",
      "Number of samples: 68114\n"
     ]
    }
   ],
   "source": [
    "df = pd.read_csv('clean_train_data.csv')\n",
    "data = df.values\n",
    "input_data = data[:,2:]\n",
    "y = data[:,1]\n",
    "\n",
    "N_f = input_data.shape[1]\n",
    "N_s = input_data.shape[0]\n",
    "print(\"Number of features:\", N_f)\n",
    "print(\"Number of samples:\", N_s)\n"
   ]
  },
  {
   "cell_type": "markdown",
   "metadata": {},
   "source": [
    "## 1.4. Correlation matrix"
   ]
  },
  {
   "cell_type": "markdown",
   "metadata": {},
   "source": [
    "Next let's determine which features can be associated to the others."
   ]
  },
  {
   "cell_type": "code",
   "execution_count": 7,
   "metadata": {},
   "outputs": [],
   "source": [
    "# Calculate correlation\n",
    "R = np.corrcoef(input_data.T)"
   ]
  },
  {
   "cell_type": "code",
   "execution_count": 8,
   "metadata": {},
   "outputs": [
    {
     "data": {
      "image/png": "[encoded data removed]",
      "text/plain": [
       "<Figure size 640x480 with 2 Axes>"
      ]
     },
     "metadata": {},
     "output_type": "display_data"
    }
   ],
   "source": [
    "plt.figure(num=None, figsize=(8, 6), dpi=80, facecolor='w', edgecolor='k')\n",
    "plt.imshow(np.abs(R), cmap='Reds')\n",
    "plt.colorbar()\n",
    "plt.xticks(np.arange(N_f), column_labels[2:], rotation=90);\n",
    "plt.yticks(np.arange(N_f), column_labels[2:]);"
   ]
  },
  {
   "cell_type": "markdown",
   "metadata": {},
   "source": [
    "We would like to determine for each feature with missing data, if there is another feature highly correlated to it."
   ]
  },
  {
   "cell_type": "code",
   "execution_count": 9,
   "metadata": {},
   "outputs": [],
   "source": [
    "x_=-np.ones([30, 30])\n",
    "x_c=-np.ones([30, 30])\n",
    "\n",
    "for i in x:\n",
    "    x_[i,:]=np.argsort(R[i])[::-1]\n",
    "    x_c[i,:]=np.sort(R[i])[::-1]\n",
    "\n",
    "x_ = x_[:,1]\n",
    "x_ = x_[x_ > -1]\n",
    "x_c = x_c[:,1]\n",
    "x_c = x_c[x_c > -1]"
   ]
  },
  {
   "cell_type": "markdown",
   "metadata": {},
   "source": [
    "Features which the most correlated with the features indicated in vector x."
   ]
  },
  {
   "cell_type": "code",
   "execution_count": 10,
   "metadata": {},
   "outputs": [
    {
     "data": {
      "text/plain": [
       "array([ 2.,  5.,  4.,  8.,  4., 29., 17., 21., 29., 17.,  7.])"
      ]
     },
     "execution_count": 10,
     "metadata": {},
     "output_type": "execute_result"
    }
   ],
   "source": [
    "x_"
   ]
  },
  {
   "cell_type": "markdown",
   "metadata": {},
   "source": [
    "These are the features with missing data that have strong correlation with other features."
   ]
  },
  {
   "cell_type": "code",
   "execution_count": 11,
   "metadata": {
    "scrolled": true
   },
   "outputs": [
    {
     "name": "stdout",
     "output_type": "stream",
     "text": [
      "[ 0  4  5 12 23 26] are correlated with [ 2.  5.  4.  4. 29. 29.]\n"
     ]
    }
   ],
   "source": [
    "print(x[x_c>0.5], 'are correlated with',x_[x_c>0.5])"
   ]
  },
  {
   "cell_type": "markdown",
   "metadata": {},
   "source": [
    "These are the features from which a prediction model can be derived (regression from feature 2 to determine 0, from feature 29 to determine 23 and 26). For these we consider approach 2."
   ]
  },
  {
   "cell_type": "code",
   "execution_count": 12,
   "metadata": {},
   "outputs": [
    {
     "name": "stdout",
     "output_type": "stream",
     "text": [
      "[ 0 23 26] are correlated with [ 2. 29. 29.]\n"
     ]
    }
   ],
   "source": [
    "cond=np.bitwise_and(x_c>0.5 , ~np.in1d(x_,x))\n",
    "feat_appr2 = x[cond]\n",
    "print(x[cond], 'are correlated with',x_[cond])"
   ]
  },
  {
   "cell_type": "markdown",
   "metadata": {},
   "source": [
    "These are the features with missing data (from vector x) that are very little correlated with other features OR that are strongly correlated to other but that also have missing features. For these, we will consider approach 1."
   ]
  },
  {
   "cell_type": "code",
   "execution_count": 13,
   "metadata": {
    "scrolled": true
   },
   "outputs": [
    {
     "data": {
      "text/plain": [
       "array([ 4,  5,  6, 12, 24, 25, 27, 28])"
      ]
     },
     "execution_count": 13,
     "metadata": {},
     "output_type": "execute_result"
    }
   ],
   "source": [
    "feat_appr1=x[~cond]\n",
    "feat_appr1"
   ]
  },
  {
   "cell_type": "markdown",
   "metadata": {},
   "source": [
    "## 1.5. Determine model for missing data "
   ]
  },
  {
   "cell_type": "markdown",
   "metadata": {},
   "source": [
    "### 1.5.1. Approach 1: Mean"
   ]
  },
  {
   "cell_type": "markdown",
   "metadata": {},
   "source": [
    "In this approach missing data in variables [4, 5, 6, 12, 24, 25, 27, 28] are replaced by their mean value."
   ]
  },
  {
   "cell_type": "code",
   "execution_count": 14,
   "metadata": {},
   "outputs": [],
   "source": [
    "df_tr_na = df_tr.dropna()\n",
    "input_data_na = df_tr_na.iloc[:,2:].values"
   ]
  },
  {
   "cell_type": "code",
   "execution_count": 15,
   "metadata": {},
   "outputs": [
    {
     "data": {
      "text/plain": [
       "array([-4.90230794e+01,  4.92398193e+01,  8.11819816e+01,  5.78959617e+01,\n",
       "       -7.08420675e+02, -6.01237051e+02, -7.09356603e+02,  2.37309984e+00,\n",
       "        1.89173324e+01,  1.58432217e+02,  1.43760943e+00, -1.28304708e-01,\n",
       "       -7.08985189e+02,  3.87074191e+01, -1.09730480e-02, -8.17107200e-03,\n",
       "        4.66602072e+01, -1.95074680e-02,  4.35429640e-02,  4.17172345e+01,\n",
       "       -1.01191920e-02,  2.09797178e+02,  9.79176000e-01, -3.48329567e+02,\n",
       "       -3.99254314e+02, -3.99259788e+02, -6.92381204e+02, -7.09121609e+02,\n",
       "       -7.09118631e+02,  7.30645914e+01])"
      ]
     },
     "execution_count": 15,
     "metadata": {},
     "output_type": "execute_result"
    }
   ],
   "source": [
    "mean = np.mean(input_data_na, 0)\n",
    "mean"
   ]
  },
  {
   "cell_type": "code",
   "execution_count": 16,
   "metadata": {},
   "outputs": [],
   "source": [
    "for i in feat_appr1:\n",
    "    np.place(input_data_tr[:,i], input_data_tr[:,i] == -999, mean[i].astype(float))\n"
   ]
  },
  {
   "cell_type": "code",
   "execution_count": 17,
   "metadata": {},
   "outputs": [
    {
     "name": "stdout",
     "output_type": "stream",
     "text": [
      "Features with missing data:  [ 0 23 26]\n"
     ]
    }
   ],
   "source": [
    "x = np.unique(np.where(input_data_tr == -999.0)[1])\n",
    "\n",
    "print('Features with missing data: ', x)"
   ]
  },
  {
   "cell_type": "markdown",
   "metadata": {},
   "source": [
    "### 1.5.2. Approach 2: Linear regression"
   ]
  },
  {
   "cell_type": "markdown",
   "metadata": {},
   "source": [
    "In this approach missing data in variables [0 23 26] are replaced by some linear regression rule."
   ]
  },
  {
   "cell_type": "code",
   "execution_count": 18,
   "metadata": {
    "scrolled": true
   },
   "outputs": [
    {
     "data": {
      "text/plain": [
       "(3, 30)"
      ]
     },
     "execution_count": 18,
     "metadata": {},
     "output_type": "execute_result"
    }
   ],
   "source": [
    "y_2 = input_data[feat_appr2]\n",
    "input_data_2 = input_data[x_[cond].astype(int)]\n",
    "input_data_2.shape"
   ]
  },
  {
   "cell_type": "markdown",
   "metadata": {},
   "source": [
    "Linear regression with LS:"
   ]
  },
  {
   "cell_type": "code",
   "execution_count": 19,
   "metadata": {},
   "outputs": [],
   "source": [
    "w_vec = np.zeros([2, y_2.shape[0]])\n",
    "loss_te_vec = np.zeros( y_2.shape[0])\n",
    "loss_tr_vec = np.zeros( y_2.shape[0])\n",
    "\n",
    "\n",
    "for i in np.arange(y_2.shape[0]):\n",
    "    x_tr, y_tr, x_te, y_te = split_data(input_data_2[i] ,y_2[i], 0.8)\n",
    "    tx_tr =build_poly(x_tr, 1) # polynomial of degree 1\n",
    "    tx_te =build_poly(x_te, 1) # polynomial of degree 1\n",
    "    wls, lossls = least_squares(y_tr, tx_tr)\n",
    "    w_vec[:,i]=wls\n",
    "    loss_tr_vec[i] = lossls\n",
    "    loss_te_vec[i] = compute_mse(y_te,tx_te,wls)\n"
   ]
  },
  {
   "cell_type": "code",
   "execution_count": 20,
   "metadata": {},
   "outputs": [
    {
     "data": {
      "image/png": "[encoded data removed]",
      "text/plain": [
       "<Figure size 432x288 with 1 Axes>"
      ]
     },
     "metadata": {},
     "output_type": "display_data"
    }
   ],
   "source": [
    "h1=plt.scatter(np.arange(3),loss_tr_vec)\n",
    "h2=plt.scatter(np.arange(3),loss_te_vec)\n",
    "plt.xticks(np.arange(3), column_labels[feat_appr2+2], rotation=0)\n",
    "plt.ylabel('MSE')\n",
    "plt.legend((h1,h2),('MSE train set','MSE test set'));"
   ]
  },
  {
   "cell_type": "code",
   "execution_count": 21,
   "metadata": {},
   "outputs": [],
   "source": [
    "x_pred = input_data_tr[:,feat_appr2].astype(float)\n",
    "y_pre = np.zeros([input_data_tr.shape[0],3])\n",
    "for i in np.arange(3):\n",
    "    tx_pred = build_poly(x_pred[:,i], 1)\n",
    "    y_pre[:,i] = tx_pred @ w_vec[:,i]\n",
    "for ii,i in enumerate(feat_appr2):\n",
    "    np.place(input_data_tr[:,i], input_data_tr[:,i] == -999, y_pre[ii].astype(float))\n"
   ]
  },
  {
   "cell_type": "code",
   "execution_count": 22,
   "metadata": {
    "scrolled": true
   },
   "outputs": [
    {
     "name": "stdout",
     "output_type": "stream",
     "text": [
      "Features with missing data:  []\n"
     ]
    }
   ],
   "source": [
    "x = np.unique(np.where(input_data_tr == -999.0)[1])\n",
    "\n",
    "print('Features with missing data: ', x)"
   ]
  },
  {
   "cell_type": "markdown",
   "metadata": {},
   "source": [
    "Checking the correlation matrix for the new data:"
   ]
  },
  {
   "cell_type": "code",
   "execution_count": 23,
   "metadata": {},
   "outputs": [],
   "source": [
    "R_tr = np.corrcoef((input_data_tr.T).astype(float))"
   ]
  },
  {
   "cell_type": "code",
   "execution_count": 24,
   "metadata": {
    "scrolled": false
   },
   "outputs": [
    {
     "data": {
      "text/plain": [
       "<matplotlib.image.AxesImage at 0x1144bb5c0>"
      ]
     },
     "execution_count": 24,
     "metadata": {},
     "output_type": "execute_result"
    },
    {
     "data": {
      "image/png": "[encoded data removed]",
      "text/plain": [
       "<Figure size 640x480 with 1 Axes>"
      ]
     },
     "metadata": {},
     "output_type": "display_data"
    }
   ],
   "source": [
    "plt.figure(num=None, figsize=(8, 6), dpi=80, facecolor='w', edgecolor='k')\n",
    "plt.imshow(np.abs(R), cmap='Reds')"
   ]
  },
  {
   "cell_type": "markdown",
   "metadata": {},
   "source": [
    "Check more statistical data:"
   ]
  },
  {
   "cell_type": "code",
   "execution_count": 25,
   "metadata": {},
   "outputs": [
    {
     "data": {
      "text/plain": [
       "dtype('float64')"
      ]
     },
     "execution_count": 25,
     "metadata": {},
     "output_type": "execute_result"
    }
   ],
   "source": [
    "data_full = np.hstack((data_tr[:,0:1],data_tr[:,1:2],input_data_tr))\n",
    "data_full.dtype"
   ]
  },
  {
   "cell_type": "code",
   "execution_count": 26,
   "metadata": {},
   "outputs": [],
   "source": [
    "#np.savetxt(\"full_train_data.csv\", data_full, delimiter=\",\", header=','.join(column_labels))\n"
   ]
  },
  {
   "cell_type": "code",
   "execution_count": 27,
   "metadata": {},
   "outputs": [
    {
     "data": {
      "text/html": [
       "<div>\n",
       "<style scoped>\n",
       "    .dataframe tbody tr th:only-of-type {\n",
       "        vertical-align: middle;\n",
       "    }\n",
       "\n",
       "    .dataframe tbody tr th {\n",
       "        vertical-align: top;\n",
       "    }\n",
       "\n",
       "    .dataframe thead th {\n",
       "        text-align: right;\n",
       "    }\n",
       "</style>\n",
       "<table border=\"1\" class=\"dataframe\">\n",
       "  <thead>\n",
       "    <tr style=\"text-align: right;\">\n",
       "      <th></th>\n",
       "      <th># Id</th>\n",
       "      <th>Prediction</th>\n",
       "      <th>DER_mass_MMC</th>\n",
       "      <th>DER_mass_transverse_met_lep</th>\n",
       "      <th>DER_mass_vis</th>\n",
       "      <th>DER_pt_h</th>\n",
       "      <th>DER_deltaeta_jet_jet</th>\n",
       "      <th>DER_mass_jet_jet</th>\n",
       "      <th>DER_prodeta_jet_jet</th>\n",
       "      <th>DER_deltar_tau_lep</th>\n",
       "      <th>...</th>\n",
       "      <th>PRI_met_phi</th>\n",
       "      <th>PRI_met_sumet</th>\n",
       "      <th>PRI_jet_num</th>\n",
       "      <th>PRI_jet_leading_pt</th>\n",
       "      <th>PRI_jet_leading_eta</th>\n",
       "      <th>PRI_jet_leading_phi</th>\n",
       "      <th>PRI_jet_subleading_pt</th>\n",
       "      <th>PRI_jet_subleading_eta</th>\n",
       "      <th>PRI_jet_subleading_phi</th>\n",
       "      <th>PRI_jet_all_pt</th>\n",
       "    </tr>\n",
       "  </thead>\n",
       "  <tbody>\n",
       "    <tr>\n",
       "      <th>0</th>\n",
       "      <td>100000.0</td>\n",
       "      <td>1.0</td>\n",
       "      <td>138.470000</td>\n",
       "      <td>51.655</td>\n",
       "      <td>97.827</td>\n",
       "      <td>27.980</td>\n",
       "      <td>0.910000</td>\n",
       "      <td>124.711000</td>\n",
       "      <td>2.666000</td>\n",
       "      <td>3.064</td>\n",
       "      <td>...</td>\n",
       "      <td>-0.277</td>\n",
       "      <td>258.733</td>\n",
       "      <td>2.0</td>\n",
       "      <td>67.435000</td>\n",
       "      <td>2.150000</td>\n",
       "      <td>0.444000</td>\n",
       "      <td>46.062000</td>\n",
       "      <td>1.240000</td>\n",
       "      <td>-2.475000</td>\n",
       "      <td>113.497</td>\n",
       "    </tr>\n",
       "    <tr>\n",
       "      <th>1</th>\n",
       "      <td>100001.0</td>\n",
       "      <td>-1.0</td>\n",
       "      <td>160.937000</td>\n",
       "      <td>68.768</td>\n",
       "      <td>103.235</td>\n",
       "      <td>48.146</td>\n",
       "      <td>-708.420675</td>\n",
       "      <td>-601.237051</td>\n",
       "      <td>-709.356603</td>\n",
       "      <td>3.473</td>\n",
       "      <td>...</td>\n",
       "      <td>-1.916</td>\n",
       "      <td>164.546</td>\n",
       "      <td>1.0</td>\n",
       "      <td>46.226000</td>\n",
       "      <td>0.725000</td>\n",
       "      <td>1.158000</td>\n",
       "      <td>-640.644836</td>\n",
       "      <td>-709.121609</td>\n",
       "      <td>-709.118631</td>\n",
       "      <td>46.226</td>\n",
       "    </tr>\n",
       "    <tr>\n",
       "      <th>2</th>\n",
       "      <td>100002.0</td>\n",
       "      <td>-1.0</td>\n",
       "      <td>88.689354</td>\n",
       "      <td>162.172</td>\n",
       "      <td>125.953</td>\n",
       "      <td>35.635</td>\n",
       "      <td>-708.420675</td>\n",
       "      <td>-601.237051</td>\n",
       "      <td>-709.356603</td>\n",
       "      <td>3.148</td>\n",
       "      <td>...</td>\n",
       "      <td>-2.186</td>\n",
       "      <td>260.414</td>\n",
       "      <td>1.0</td>\n",
       "      <td>44.251000</td>\n",
       "      <td>2.053000</td>\n",
       "      <td>-2.028000</td>\n",
       "      <td>-9.060645</td>\n",
       "      <td>-709.121609</td>\n",
       "      <td>-709.118631</td>\n",
       "      <td>44.251</td>\n",
       "    </tr>\n",
       "    <tr>\n",
       "      <th>3</th>\n",
       "      <td>100003.0</td>\n",
       "      <td>-1.0</td>\n",
       "      <td>143.905000</td>\n",
       "      <td>81.417</td>\n",
       "      <td>80.943</td>\n",
       "      <td>0.414</td>\n",
       "      <td>-708.420675</td>\n",
       "      <td>-601.237051</td>\n",
       "      <td>-709.356603</td>\n",
       "      <td>3.310</td>\n",
       "      <td>...</td>\n",
       "      <td>0.060</td>\n",
       "      <td>86.062</td>\n",
       "      <td>0.0</td>\n",
       "      <td>103.094966</td>\n",
       "      <td>-399.254314</td>\n",
       "      <td>-399.259788</td>\n",
       "      <td>766.426608</td>\n",
       "      <td>-709.121609</td>\n",
       "      <td>-709.118631</td>\n",
       "      <td>0.000</td>\n",
       "    </tr>\n",
       "    <tr>\n",
       "      <th>4</th>\n",
       "      <td>100004.0</td>\n",
       "      <td>-1.0</td>\n",
       "      <td>175.864000</td>\n",
       "      <td>16.915</td>\n",
       "      <td>134.805</td>\n",
       "      <td>16.405</td>\n",
       "      <td>-708.420675</td>\n",
       "      <td>-601.237051</td>\n",
       "      <td>-709.356603</td>\n",
       "      <td>3.891</td>\n",
       "      <td>...</td>\n",
       "      <td>-0.871</td>\n",
       "      <td>53.131</td>\n",
       "      <td>0.0</td>\n",
       "      <td>-9.466286</td>\n",
       "      <td>-399.254314</td>\n",
       "      <td>-399.259788</td>\n",
       "      <td>-640.644836</td>\n",
       "      <td>-709.121609</td>\n",
       "      <td>-709.118631</td>\n",
       "      <td>0.000</td>\n",
       "    </tr>\n",
       "  </tbody>\n",
       "</table>\n",
       "<p>5 rows × 32 columns</p>\n",
       "</div>"
      ],
      "text/plain": [
       "       # Id  Prediction  DER_mass_MMC  DER_mass_transverse_met_lep  \\\n",
       "0  100000.0         1.0    138.470000                       51.655   \n",
       "1  100001.0        -1.0    160.937000                       68.768   \n",
       "2  100002.0        -1.0     88.689354                      162.172   \n",
       "3  100003.0        -1.0    143.905000                       81.417   \n",
       "4  100004.0        -1.0    175.864000                       16.915   \n",
       "\n",
       "   DER_mass_vis  DER_pt_h  DER_deltaeta_jet_jet  DER_mass_jet_jet  \\\n",
       "0        97.827    27.980              0.910000        124.711000   \n",
       "1       103.235    48.146           -708.420675       -601.237051   \n",
       "2       125.953    35.635           -708.420675       -601.237051   \n",
       "3        80.943     0.414           -708.420675       -601.237051   \n",
       "4       134.805    16.405           -708.420675       -601.237051   \n",
       "\n",
       "   DER_prodeta_jet_jet  DER_deltar_tau_lep       ...        PRI_met_phi  \\\n",
       "0             2.666000               3.064       ...             -0.277   \n",
       "1          -709.356603               3.473       ...             -1.916   \n",
       "2          -709.356603               3.148       ...             -2.186   \n",
       "3          -709.356603               3.310       ...              0.060   \n",
       "4          -709.356603               3.891       ...             -0.871   \n",
       "\n",
       "   PRI_met_sumet  PRI_jet_num  PRI_jet_leading_pt  PRI_jet_leading_eta  \\\n",
       "0        258.733          2.0           67.435000             2.150000   \n",
       "1        164.546          1.0           46.226000             0.725000   \n",
       "2        260.414          1.0           44.251000             2.053000   \n",
       "3         86.062          0.0          103.094966          -399.254314   \n",
       "4         53.131          0.0           -9.466286          -399.254314   \n",
       "\n",
       "   PRI_jet_leading_phi  PRI_jet_subleading_pt  PRI_jet_subleading_eta  \\\n",
       "0             0.444000              46.062000                1.240000   \n",
       "1             1.158000            -640.644836             -709.121609   \n",
       "2            -2.028000              -9.060645             -709.121609   \n",
       "3          -399.259788             766.426608             -709.121609   \n",
       "4          -399.259788            -640.644836             -709.121609   \n",
       "\n",
       "   PRI_jet_subleading_phi  PRI_jet_all_pt  \n",
       "0               -2.475000         113.497  \n",
       "1             -709.118631          46.226  \n",
       "2             -709.118631          44.251  \n",
       "3             -709.118631           0.000  \n",
       "4             -709.118631           0.000  \n",
       "\n",
       "[5 rows x 32 columns]"
      ]
     },
     "execution_count": 27,
     "metadata": {},
     "output_type": "execute_result"
    }
   ],
   "source": [
    "#fulldata =pd.read_csv(\"full_train_data.csv\")\n",
    "#fulldata.head()"
   ]
  }
 ],
 "metadata": {
  "kernelspec": {
   "display_name": "Python 3",
   "language": "python",
   "name": "python3"
  },
  "language_info": {
   "codemirror_mode": {
    "name": "ipython",
    "version": 3
   },
   "file_extension": ".py",
   "mimetype": "text/x-python",
   "name": "python",
   "nbconvert_exporter": "python",
   "pygments_lexer": "ipython3",
   "version": "3.6.5"
  }
 },
 "nbformat": 4,
 "nbformat_minor": 2
}
